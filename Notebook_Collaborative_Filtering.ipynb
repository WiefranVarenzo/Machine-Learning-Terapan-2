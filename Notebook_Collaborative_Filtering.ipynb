{
  "nbformat": 4,
  "nbformat_minor": 0,
  "metadata": {
    "colab": {
      "provenance": [],
      "gpuType": "T4"
    },
    "kernelspec": {
      "name": "python3",
      "display_name": "Python 3"
    },
    "language_info": {
      "name": "python"
    },
    "accelerator": "GPU"
  },
  "cells": [
    {
      "cell_type": "markdown",
      "source": [
        "# **Recommendation System: Retail Global Fashion Retail Sales**\n"
      ],
      "metadata": {
        "id": "fKsxwpwVoEBC"
      }
    },
    {
      "cell_type": "markdown",
      "source": [
        "\n",
        "*   Nama    : Wiefran Varenzo\n",
        "*   Email   : lionwiefran88@gmail.com\n",
        "*   Username: Wiefran Varenzo"
      ],
      "metadata": {
        "id": "BLlbBkJkohSQ"
      }
    },
    {
      "cell_type": "markdown",
      "source": [
        "Proyek ini bertujuan untuk: Melakukan rekomendasi menggunakan metode Collaborative Filtering yang bertujuan untuk mengefisiensikan penjualan produk fashion untuk retail ataupun e-commerce"
      ],
      "metadata": {
        "id": "3O44V67CojTK"
      }
    },
    {
      "cell_type": "markdown",
      "source": [
        "# **1. Memuat Library dan Dataset**"
      ],
      "metadata": {
        "id": "e8ylWc-apM9O"
      }
    },
    {
      "cell_type": "markdown",
      "source": [
        "## **Gambaran Umum Dataset****\n",
        "\n",
        "Dataset ini diambil dari [Kaggle Repository](https://www.kaggle.com/datasets/ricgomes/global-fashion-retail-stores-dataset?select=transactions.csv) dengan judul:\n",
        "**\"Global Fashion Retail Sales\"**\n",
        "\n",
        "---\n",
        "\n",
        "\n",
        "\n",
        "Berikut pembagian atribut ke dalam 4 kelompok dataset yang lebih terpisah dan terstruktur, lengkap dengan **tipe data** tiap kolom:\n",
        "\n",
        "---\n",
        "\n",
        "### **Transaksi (Sales Transaction Dataset)**\n",
        "\n",
        "Berisi data transaksi individual pelanggan.\n",
        "\n",
        "| Kolom            | Deskripsi                                           | Tipe Data       |\n",
        "| ---------------- | --------------------------------------------------- | --------------- |\n",
        "| Invoice ID       | ID unik untuk transaksi                             | `string`        |\n",
        "| Line             | Nomor urut item dalam invoice                       | `int`           |\n",
        "| Customer ID      | ID unik pelanggan                                   | `string`        |\n",
        "| Product ID       | ID unik produk                                      | `string`        |\n",
        "| Size             | Ukuran produk (S, M, L, XL, atau kosong)            | `string / null` |\n",
        "| Color            | Warna produk (versi transaksi)                      | `string`        |\n",
        "| Unit Price       | Harga satuan produk sebelum diskon                  | `float`         |\n",
        "| Quantity         | Jumlah unit dibeli                                  | `int`           |\n",
        "| Date             | Tanggal dan waktu transaksi                         | `datetime`      |\n",
        "| Discount         | Diskon (misalnya 0.2 berarti 20%)                   | `float`         |\n",
        "| Line Total       | Total harga line item setelah diskon                | `float`         |\n",
        "| Store ID         | ID toko tempat transaksi                            | `string`        |\n",
        "| Employee ID      | ID karyawan yang memproses transaksi                | `string`        |\n",
        "| Currency         | Kode mata uang (3 huruf)                            | `string`        |\n",
        "| Currency Symbol  | Simbol mata uang                                    | `string`        |\n",
        "| SKU              | Gabungan Product ID, Size, dan Color                | `string`        |\n",
        "| Transaction Type | Jenis transaksi (Sale, Return)                      | `category`      |\n",
        "| Payment Method   | Metode pembayaran                                   | `category`      |\n",
        "| Invoice Total    | Total invoice (sama untuk setiap baris per invoice) | `float`         |\n",
        "\n",
        "---\n",
        "\n",
        "### **Pelanggan (Customer Dataset)**\n",
        "\n",
        "Berisi informasi demografis pelanggan.\n",
        "\n",
        "| Kolom         | Deskripsi               | Tipe Data  |\n",
        "| ------------- | ----------------------- | ---------- |\n",
        "| Customer ID   | ID unik pelanggan       | `string`   |\n",
        "| Name          | Nama pelanggan          | `string`   |\n",
        "| Email         | Email pelanggan         | `string`   |\n",
        "| Telephone     | Nomor telepon pelanggan | `string`   |\n",
        "| City          | Kota pelanggan          | `string`   |\n",
        "| Country       | Negara pelanggan        | `string`   |\n",
        "| Gender        | Jenis kelamin (F, M, D) | `category` |\n",
        "| Date Of Birth | Tanggal lahir pelanggan | `date`     |\n",
        "| Job Title     | Pekerjaan pelanggan     | `string`   |\n",
        "| Age           | Umur pelanggan          | `int`      |\n",
        "\n",
        "---\n",
        "\n",
        "### **Produk (Product Dataset)**\n",
        "\n",
        "Berisi informasi produk dan deskripsinya.\n",
        "\n",
        "| Kolom           | Deskripsi                   | Tipe Data      |\n",
        "| --------------- | --------------------------- | -------------- |\n",
        "| Product ID      | ID unik produk              | `string`       |\n",
        "| Category        | Kategori produk utama       | `string`       |\n",
        "| Sub Category    | Subkategori produk          | `string`       |\n",
        "| Description PT  | Deskripsi produk (Portugis) | `string`       |\n",
        "| Description DE  | Deskripsi produk (Jerman)   | `string`       |\n",
        "| Description FR  | Deskripsi produk (Perancis) | `string`       |\n",
        "| Description ES  | Deskripsi produk (Spanyol)  | `string`       |\n",
        "| Description EN  | Deskripsi produk (Inggris)  | `string`       |\n",
        "| Description ZH  | Deskripsi produk (Mandarin) | `string`       |\n",
        "| Color           | Warna produk (versi produk) | `string`       |\n",
        "| Sizes           | Ukuran produk yang tersedia | `list<string>` |\n",
        "| Production Cost | Biaya produksi dalam USD    | `float`        |\n",
        "\n",
        "---\n",
        "\n",
        "### **Toko (Store Dataset)**\n",
        "\n",
        "Berisi informasi geografis dan operasional tiap toko.\n",
        "\n",
        "| Kolom               | Deskripsi                        | Tipe Data |\n",
        "| ------------------- | -------------------------------- | --------- |\n",
        "| Store ID            | ID toko                          | `string`  |\n",
        "| Store Name          | Nama toko                        | `string`  |\n",
        "| Number of Employees | Jumlah karyawan di toko          | `int`     |\n",
        "| ZIP Code            | Kode pos toko                    | `string`  |\n",
        "| City                | Kota toko                        | `string`  |\n",
        "| Country             | Negara toko                      | `string`  |\n",
        "| Latitude            | Koordinat lintang toko           | `float`   |\n",
        "| Longitude           | Koordinat bujur toko             | `float`   |\n",
        "| Country\\_English    | Nama negara dalam bahasa Inggris | `string`  |\n"
      ],
      "metadata": {
        "id": "FG8rSfQgpFDY"
      }
    },
    {
      "cell_type": "markdown",
      "source": [
        "## **Import Libary**"
      ],
      "metadata": {
        "id": "33pMANFuo4DD"
      }
    },
    {
      "cell_type": "markdown",
      "source": [
        "Disini, saya melakukan mengimport pustaka yang dipakai, disini karena saya menggunakan TF-IDF maka library yang dipakai adalah TfidfVectorizer, kemudian, disini juga menggunakan cosine_similarity serta NearestNeighbors. Semua library ini di import di awal agar kode lebih mudah dilihat (library mana yang dipakai)"
      ],
      "metadata": {
        "id": "5JogV8eqieRw"
      }
    },
    {
      "cell_type": "code",
      "source": [
        "import numpy as np\n",
        "import pandas as pd\n",
        "import seaborn as sns\n",
        "import matplotlib.pyplot as plt\n",
        "from datetime import datetime\n",
        "\n",
        "import tensorflow as tf\n",
        "from tensorflow import keras\n",
        "from tensorflow.keras import layers\n",
        "from tensorflow.keras.callbacks import EarlyStopping, ReduceLROnPlateau\n",
        "\n",
        "from sklearn.model_selection import train_test_split\n",
        "from sklearn.preprocessing import MinMaxScaler\n",
        "\n",
        "from google.colab import files"
      ],
      "metadata": {
        "id": "nXmx8M_RaOK5"
      },
      "execution_count": 2,
      "outputs": []
    },
    {
      "cell_type": "markdown",
      "source": [
        "## **Memuat Dataset**"
      ],
      "metadata": {
        "id": "tP-6W-DepsTp"
      }
    },
    {
      "cell_type": "markdown",
      "source": [
        "Disini kita harus mengupload file Kaggle.json agar memiliki izin untuk mendownload dari website kaggle"
      ],
      "metadata": {
        "id": "fGc0bf_cigC1"
      }
    },
    {
      "cell_type": "code",
      "execution_count": 3,
      "metadata": {
        "colab": {
          "base_uri": "https://localhost:8080/",
          "height": 92
        },
        "id": "hmYYsDnH10Xx",
        "outputId": "317f0b93-7ce2-4b7d-ff3b-4875c1423a22"
      },
      "outputs": [
        {
          "output_type": "display_data",
          "data": {
            "text/plain": [
              "<IPython.core.display.HTML object>"
            ],
            "text/html": [
              "\n",
              "     <input type=\"file\" id=\"files-3cf5d90f-27ad-4994-b3b1-0206f11be3b9\" name=\"files[]\" multiple disabled\n",
              "        style=\"border:none\" />\n",
              "     <output id=\"result-3cf5d90f-27ad-4994-b3b1-0206f11be3b9\">\n",
              "      Upload widget is only available when the cell has been executed in the\n",
              "      current browser session. Please rerun this cell to enable.\n",
              "      </output>\n",
              "      <script>// Copyright 2017 Google LLC\n",
              "//\n",
              "// Licensed under the Apache License, Version 2.0 (the \"License\");\n",
              "// you may not use this file except in compliance with the License.\n",
              "// You may obtain a copy of the License at\n",
              "//\n",
              "//      http://www.apache.org/licenses/LICENSE-2.0\n",
              "//\n",
              "// Unless required by applicable law or agreed to in writing, software\n",
              "// distributed under the License is distributed on an \"AS IS\" BASIS,\n",
              "// WITHOUT WARRANTIES OR CONDITIONS OF ANY KIND, either express or implied.\n",
              "// See the License for the specific language governing permissions and\n",
              "// limitations under the License.\n",
              "\n",
              "/**\n",
              " * @fileoverview Helpers for google.colab Python module.\n",
              " */\n",
              "(function(scope) {\n",
              "function span(text, styleAttributes = {}) {\n",
              "  const element = document.createElement('span');\n",
              "  element.textContent = text;\n",
              "  for (const key of Object.keys(styleAttributes)) {\n",
              "    element.style[key] = styleAttributes[key];\n",
              "  }\n",
              "  return element;\n",
              "}\n",
              "\n",
              "// Max number of bytes which will be uploaded at a time.\n",
              "const MAX_PAYLOAD_SIZE = 100 * 1024;\n",
              "\n",
              "function _uploadFiles(inputId, outputId) {\n",
              "  const steps = uploadFilesStep(inputId, outputId);\n",
              "  const outputElement = document.getElementById(outputId);\n",
              "  // Cache steps on the outputElement to make it available for the next call\n",
              "  // to uploadFilesContinue from Python.\n",
              "  outputElement.steps = steps;\n",
              "\n",
              "  return _uploadFilesContinue(outputId);\n",
              "}\n",
              "\n",
              "// This is roughly an async generator (not supported in the browser yet),\n",
              "// where there are multiple asynchronous steps and the Python side is going\n",
              "// to poll for completion of each step.\n",
              "// This uses a Promise to block the python side on completion of each step,\n",
              "// then passes the result of the previous step as the input to the next step.\n",
              "function _uploadFilesContinue(outputId) {\n",
              "  const outputElement = document.getElementById(outputId);\n",
              "  const steps = outputElement.steps;\n",
              "\n",
              "  const next = steps.next(outputElement.lastPromiseValue);\n",
              "  return Promise.resolve(next.value.promise).then((value) => {\n",
              "    // Cache the last promise value to make it available to the next\n",
              "    // step of the generator.\n",
              "    outputElement.lastPromiseValue = value;\n",
              "    return next.value.response;\n",
              "  });\n",
              "}\n",
              "\n",
              "/**\n",
              " * Generator function which is called between each async step of the upload\n",
              " * process.\n",
              " * @param {string} inputId Element ID of the input file picker element.\n",
              " * @param {string} outputId Element ID of the output display.\n",
              " * @return {!Iterable<!Object>} Iterable of next steps.\n",
              " */\n",
              "function* uploadFilesStep(inputId, outputId) {\n",
              "  const inputElement = document.getElementById(inputId);\n",
              "  inputElement.disabled = false;\n",
              "\n",
              "  const outputElement = document.getElementById(outputId);\n",
              "  outputElement.innerHTML = '';\n",
              "\n",
              "  const pickedPromise = new Promise((resolve) => {\n",
              "    inputElement.addEventListener('change', (e) => {\n",
              "      resolve(e.target.files);\n",
              "    });\n",
              "  });\n",
              "\n",
              "  const cancel = document.createElement('button');\n",
              "  inputElement.parentElement.appendChild(cancel);\n",
              "  cancel.textContent = 'Cancel upload';\n",
              "  const cancelPromise = new Promise((resolve) => {\n",
              "    cancel.onclick = () => {\n",
              "      resolve(null);\n",
              "    };\n",
              "  });\n",
              "\n",
              "  // Wait for the user to pick the files.\n",
              "  const files = yield {\n",
              "    promise: Promise.race([pickedPromise, cancelPromise]),\n",
              "    response: {\n",
              "      action: 'starting',\n",
              "    }\n",
              "  };\n",
              "\n",
              "  cancel.remove();\n",
              "\n",
              "  // Disable the input element since further picks are not allowed.\n",
              "  inputElement.disabled = true;\n",
              "\n",
              "  if (!files) {\n",
              "    return {\n",
              "      response: {\n",
              "        action: 'complete',\n",
              "      }\n",
              "    };\n",
              "  }\n",
              "\n",
              "  for (const file of files) {\n",
              "    const li = document.createElement('li');\n",
              "    li.append(span(file.name, {fontWeight: 'bold'}));\n",
              "    li.append(span(\n",
              "        `(${file.type || 'n/a'}) - ${file.size} bytes, ` +\n",
              "        `last modified: ${\n",
              "            file.lastModifiedDate ? file.lastModifiedDate.toLocaleDateString() :\n",
              "                                    'n/a'} - `));\n",
              "    const percent = span('0% done');\n",
              "    li.appendChild(percent);\n",
              "\n",
              "    outputElement.appendChild(li);\n",
              "\n",
              "    const fileDataPromise = new Promise((resolve) => {\n",
              "      const reader = new FileReader();\n",
              "      reader.onload = (e) => {\n",
              "        resolve(e.target.result);\n",
              "      };\n",
              "      reader.readAsArrayBuffer(file);\n",
              "    });\n",
              "    // Wait for the data to be ready.\n",
              "    let fileData = yield {\n",
              "      promise: fileDataPromise,\n",
              "      response: {\n",
              "        action: 'continue',\n",
              "      }\n",
              "    };\n",
              "\n",
              "    // Use a chunked sending to avoid message size limits. See b/62115660.\n",
              "    let position = 0;\n",
              "    do {\n",
              "      const length = Math.min(fileData.byteLength - position, MAX_PAYLOAD_SIZE);\n",
              "      const chunk = new Uint8Array(fileData, position, length);\n",
              "      position += length;\n",
              "\n",
              "      const base64 = btoa(String.fromCharCode.apply(null, chunk));\n",
              "      yield {\n",
              "        response: {\n",
              "          action: 'append',\n",
              "          file: file.name,\n",
              "          data: base64,\n",
              "        },\n",
              "      };\n",
              "\n",
              "      let percentDone = fileData.byteLength === 0 ?\n",
              "          100 :\n",
              "          Math.round((position / fileData.byteLength) * 100);\n",
              "      percent.textContent = `${percentDone}% done`;\n",
              "\n",
              "    } while (position < fileData.byteLength);\n",
              "  }\n",
              "\n",
              "  // All done.\n",
              "  yield {\n",
              "    response: {\n",
              "      action: 'complete',\n",
              "    }\n",
              "  };\n",
              "}\n",
              "\n",
              "scope.google = scope.google || {};\n",
              "scope.google.colab = scope.google.colab || {};\n",
              "scope.google.colab._files = {\n",
              "  _uploadFiles,\n",
              "  _uploadFilesContinue,\n",
              "};\n",
              "})(self);\n",
              "</script> "
            ]
          },
          "metadata": {}
        },
        {
          "output_type": "stream",
          "name": "stdout",
          "text": [
            "Saving kaggle.json to kaggle.json\n"
          ]
        },
        {
          "output_type": "execute_result",
          "data": {
            "text/plain": [
              "{'kaggle.json': b'{\"username\":\"varenzowie\",\"key\":\"9ed61cf6691e526f07d4ed45cdf945cb\"}'}"
            ]
          },
          "metadata": {},
          "execution_count": 3
        }
      ],
      "source": [
        "files.upload()"
      ]
    },
    {
      "cell_type": "markdown",
      "source": [
        "Disini kita akan menyambungkan kaggle dengan colab"
      ],
      "metadata": {
        "id": "mPKOI8aaii7z"
      }
    },
    {
      "cell_type": "code",
      "source": [
        "!mkdir -p ~/.kaggle\n",
        "!cp kaggle.json ~/.kaggle/\n",
        "!chmod 600 ~/.kaggle/kaggle.json\n",
        "!ls ~/.kaggle"
      ],
      "metadata": {
        "id": "FCkEDpDUXLk3",
        "colab": {
          "base_uri": "https://localhost:8080/"
        },
        "outputId": "7ed60e30-7abf-4071-86c5-025363d98f95"
      },
      "execution_count": 4,
      "outputs": [
        {
          "output_type": "stream",
          "name": "stdout",
          "text": [
            "kaggle.json\n"
          ]
        }
      ]
    },
    {
      "cell_type": "markdown",
      "source": [
        "Disini, kita ingin mendownload dataset kaggle dengan Kaggle download from CLI"
      ],
      "metadata": {
        "id": "jhwYzyuIiky8"
      }
    },
    {
      "cell_type": "code",
      "source": [
        "!kaggle datasets download ricgomes/global-fashion-retail-stores-dataset"
      ],
      "metadata": {
        "id": "Z9WsmOU3ajL4",
        "colab": {
          "base_uri": "https://localhost:8080/"
        },
        "outputId": "58bd7644-6242-4f51-c5ce-1691a54d6c08"
      },
      "execution_count": 5,
      "outputs": [
        {
          "output_type": "stream",
          "name": "stdout",
          "text": [
            "Dataset URL: https://www.kaggle.com/datasets/ricgomes/global-fashion-retail-stores-dataset\n",
            "License(s): Attribution 4.0 International (CC BY 4.0)\n",
            "Downloading global-fashion-retail-stores-dataset.zip to /content\n",
            " 55% 123M/224M [00:00<00:00, 1.28GB/s]\n",
            "100% 224M/224M [00:00<00:00, 738MB/s] \n"
          ]
        }
      ]
    },
    {
      "cell_type": "markdown",
      "source": [
        "Disini, saya membuat direktori baru dengan nama global-fashion-retail-stores-dataset, setelah itu hasil download yang berupa zip akan di unsip dan dimasukkan ke direktori global-fashion-retail-stores-dataset"
      ],
      "metadata": {
        "id": "LILC-WNVinkH"
      }
    },
    {
      "cell_type": "code",
      "source": [
        "!mkdir global-fashion-retail-stores-dataset\n",
        "!unzip global-fashion-retail-stores-dataset.zip -d global-fashion-retail-stores-dataset"
      ],
      "metadata": {
        "id": "YLBUYOpbak8D",
        "colab": {
          "base_uri": "https://localhost:8080/"
        },
        "outputId": "98e2bda6-4f22-4253-b71a-d3ca84acb241"
      },
      "execution_count": 6,
      "outputs": [
        {
          "output_type": "stream",
          "name": "stdout",
          "text": [
            "Archive:  global-fashion-retail-stores-dataset.zip\n",
            "  inflating: global-fashion-retail-stores-dataset/customers.csv  \n",
            "  inflating: global-fashion-retail-stores-dataset/discounts.csv  \n",
            "  inflating: global-fashion-retail-stores-dataset/employees.csv  \n",
            "  inflating: global-fashion-retail-stores-dataset/products.csv  \n",
            "  inflating: global-fashion-retail-stores-dataset/stores.csv  \n",
            "  inflating: global-fashion-retail-stores-dataset/transactions.csv  \n"
          ]
        }
      ]
    },
    {
      "cell_type": "markdown",
      "source": [
        "Setiap dataset csv akan di muat ke variabel dengan pustaka dari pandas, yaitu fungsi read_csv()"
      ],
      "metadata": {
        "id": "3MPvMeOKip8b"
      }
    },
    {
      "cell_type": "code",
      "source": [
        "customers = pd.read_csv('/content/global-fashion-retail-stores-dataset/customers.csv')\n",
        "products = pd.read_csv('/content/global-fashion-retail-stores-dataset/products.csv')\n",
        "stores = pd.read_csv('/content/global-fashion-retail-stores-dataset/stores.csv')\n",
        "transactions = pd.read_csv('/content/global-fashion-retail-stores-dataset/transactions.csv')"
      ],
      "metadata": {
        "id": "RXz9GszgdBV6",
        "colab": {
          "base_uri": "https://localhost:8080/"
        },
        "outputId": "03ebf253-7fe8-4c8e-a523-02a06c02cd03"
      },
      "execution_count": 7,
      "outputs": [
        {
          "output_type": "stream",
          "name": "stderr",
          "text": [
            "<ipython-input-7-06e3684c6929>:1: DtypeWarning: Columns (3) have mixed types. Specify dtype option on import or set low_memory=False.\n",
            "  customers = pd.read_csv('/content/global-fashion-retail-stores-dataset/customers.csv')\n"
          ]
        }
      ]
    },
    {
      "cell_type": "markdown",
      "source": [
        "Saya hanya menggunakan 4 dataset dari 6 dataset, dikarenakan untuk dataset Employees dan Discount tidak terlalu dibutuhkan, sebab yang yang lebih difokuskan disini adalah customer, produk, toko, serta transaksi yang terjadi (dalam hal recommendation system)"
      ],
      "metadata": {
        "id": "R-3jJfgxufEE"
      }
    },
    {
      "cell_type": "markdown",
      "source": [
        "# **2. Data Understanding and EDA (Exploratory Data Analysis)**"
      ],
      "metadata": {
        "id": "0X8rCAZsp2z9"
      }
    },
    {
      "cell_type": "markdown",
      "source": [
        "## **Customer**"
      ],
      "metadata": {
        "id": "IxHUSreKqHVm"
      }
    },
    {
      "cell_type": "code",
      "source": [
        "customers.head()"
      ],
      "metadata": {
        "id": "oMYkIxJ7nVzq",
        "colab": {
          "base_uri": "https://localhost:8080/",
          "height": 327
        },
        "outputId": "9b218b56-33ab-47af-ad36-d5c706319973"
      },
      "execution_count": 8,
      "outputs": [
        {
          "output_type": "execute_result",
          "data": {
            "text/plain": [
              "   Customer ID                 Name                                 Email  \\\n",
              "0            1         Tyler Garcia           tyler.garcia@fake_gmail.com   \n",
              "1            2        Joshua Miller          joshua.miller@fake_gmail.com   \n",
              "2            3  Alison Marshall DDS  alison.marshall.dds@fake_hotmail.com   \n",
              "3            4       Jeffery Acosta         jeffery.acosta@fake_yahoo.com   \n",
              "4            5       Ashley Sanders       ashley.sanders@fake_hotmail.com   \n",
              "\n",
              "              Telephone      City        Country Gender Date Of Birth  \\\n",
              "0    922.970.2265x47563  New York  United States      M    2003-07-15   \n",
              "1       +1-958-729-6169  New York  United States      M    2000-06-16   \n",
              "2  +1-645-567-0876x5409  New York  United States      F    2003-07-22   \n",
              "3    212.336.0912x84994  New York  United States      M    1996-11-12   \n",
              "4            7814535781  New York  United States      F    1998-02-10   \n",
              "\n",
              "               Job Title  \n",
              "0                    NaN  \n",
              "1        Records manager  \n",
              "2                    NaN  \n",
              "3            Proofreader  \n",
              "4  Exercise physiologist  "
            ],
            "text/html": [
              "\n",
              "  <div id=\"df-0bcb7642-6f40-4742-bd31-820a12c1186e\" class=\"colab-df-container\">\n",
              "    <div>\n",
              "<style scoped>\n",
              "    .dataframe tbody tr th:only-of-type {\n",
              "        vertical-align: middle;\n",
              "    }\n",
              "\n",
              "    .dataframe tbody tr th {\n",
              "        vertical-align: top;\n",
              "    }\n",
              "\n",
              "    .dataframe thead th {\n",
              "        text-align: right;\n",
              "    }\n",
              "</style>\n",
              "<table border=\"1\" class=\"dataframe\">\n",
              "  <thead>\n",
              "    <tr style=\"text-align: right;\">\n",
              "      <th></th>\n",
              "      <th>Customer ID</th>\n",
              "      <th>Name</th>\n",
              "      <th>Email</th>\n",
              "      <th>Telephone</th>\n",
              "      <th>City</th>\n",
              "      <th>Country</th>\n",
              "      <th>Gender</th>\n",
              "      <th>Date Of Birth</th>\n",
              "      <th>Job Title</th>\n",
              "    </tr>\n",
              "  </thead>\n",
              "  <tbody>\n",
              "    <tr>\n",
              "      <th>0</th>\n",
              "      <td>1</td>\n",
              "      <td>Tyler Garcia</td>\n",
              "      <td>tyler.garcia@fake_gmail.com</td>\n",
              "      <td>922.970.2265x47563</td>\n",
              "      <td>New York</td>\n",
              "      <td>United States</td>\n",
              "      <td>M</td>\n",
              "      <td>2003-07-15</td>\n",
              "      <td>NaN</td>\n",
              "    </tr>\n",
              "    <tr>\n",
              "      <th>1</th>\n",
              "      <td>2</td>\n",
              "      <td>Joshua Miller</td>\n",
              "      <td>joshua.miller@fake_gmail.com</td>\n",
              "      <td>+1-958-729-6169</td>\n",
              "      <td>New York</td>\n",
              "      <td>United States</td>\n",
              "      <td>M</td>\n",
              "      <td>2000-06-16</td>\n",
              "      <td>Records manager</td>\n",
              "    </tr>\n",
              "    <tr>\n",
              "      <th>2</th>\n",
              "      <td>3</td>\n",
              "      <td>Alison Marshall DDS</td>\n",
              "      <td>alison.marshall.dds@fake_hotmail.com</td>\n",
              "      <td>+1-645-567-0876x5409</td>\n",
              "      <td>New York</td>\n",
              "      <td>United States</td>\n",
              "      <td>F</td>\n",
              "      <td>2003-07-22</td>\n",
              "      <td>NaN</td>\n",
              "    </tr>\n",
              "    <tr>\n",
              "      <th>3</th>\n",
              "      <td>4</td>\n",
              "      <td>Jeffery Acosta</td>\n",
              "      <td>jeffery.acosta@fake_yahoo.com</td>\n",
              "      <td>212.336.0912x84994</td>\n",
              "      <td>New York</td>\n",
              "      <td>United States</td>\n",
              "      <td>M</td>\n",
              "      <td>1996-11-12</td>\n",
              "      <td>Proofreader</td>\n",
              "    </tr>\n",
              "    <tr>\n",
              "      <th>4</th>\n",
              "      <td>5</td>\n",
              "      <td>Ashley Sanders</td>\n",
              "      <td>ashley.sanders@fake_hotmail.com</td>\n",
              "      <td>7814535781</td>\n",
              "      <td>New York</td>\n",
              "      <td>United States</td>\n",
              "      <td>F</td>\n",
              "      <td>1998-02-10</td>\n",
              "      <td>Exercise physiologist</td>\n",
              "    </tr>\n",
              "  </tbody>\n",
              "</table>\n",
              "</div>\n",
              "    <div class=\"colab-df-buttons\">\n",
              "\n",
              "  <div class=\"colab-df-container\">\n",
              "    <button class=\"colab-df-convert\" onclick=\"convertToInteractive('df-0bcb7642-6f40-4742-bd31-820a12c1186e')\"\n",
              "            title=\"Convert this dataframe to an interactive table.\"\n",
              "            style=\"display:none;\">\n",
              "\n",
              "  <svg xmlns=\"http://www.w3.org/2000/svg\" height=\"24px\" viewBox=\"0 -960 960 960\">\n",
              "    <path d=\"M120-120v-720h720v720H120Zm60-500h600v-160H180v160Zm220 220h160v-160H400v160Zm0 220h160v-160H400v160ZM180-400h160v-160H180v160Zm440 0h160v-160H620v160ZM180-180h160v-160H180v160Zm440 0h160v-160H620v160Z\"/>\n",
              "  </svg>\n",
              "    </button>\n",
              "\n",
              "  <style>\n",
              "    .colab-df-container {\n",
              "      display:flex;\n",
              "      gap: 12px;\n",
              "    }\n",
              "\n",
              "    .colab-df-convert {\n",
              "      background-color: #E8F0FE;\n",
              "      border: none;\n",
              "      border-radius: 50%;\n",
              "      cursor: pointer;\n",
              "      display: none;\n",
              "      fill: #1967D2;\n",
              "      height: 32px;\n",
              "      padding: 0 0 0 0;\n",
              "      width: 32px;\n",
              "    }\n",
              "\n",
              "    .colab-df-convert:hover {\n",
              "      background-color: #E2EBFA;\n",
              "      box-shadow: 0px 1px 2px rgba(60, 64, 67, 0.3), 0px 1px 3px 1px rgba(60, 64, 67, 0.15);\n",
              "      fill: #174EA6;\n",
              "    }\n",
              "\n",
              "    .colab-df-buttons div {\n",
              "      margin-bottom: 4px;\n",
              "    }\n",
              "\n",
              "    [theme=dark] .colab-df-convert {\n",
              "      background-color: #3B4455;\n",
              "      fill: #D2E3FC;\n",
              "    }\n",
              "\n",
              "    [theme=dark] .colab-df-convert:hover {\n",
              "      background-color: #434B5C;\n",
              "      box-shadow: 0px 1px 3px 1px rgba(0, 0, 0, 0.15);\n",
              "      filter: drop-shadow(0px 1px 2px rgba(0, 0, 0, 0.3));\n",
              "      fill: #FFFFFF;\n",
              "    }\n",
              "  </style>\n",
              "\n",
              "    <script>\n",
              "      const buttonEl =\n",
              "        document.querySelector('#df-0bcb7642-6f40-4742-bd31-820a12c1186e button.colab-df-convert');\n",
              "      buttonEl.style.display =\n",
              "        google.colab.kernel.accessAllowed ? 'block' : 'none';\n",
              "\n",
              "      async function convertToInteractive(key) {\n",
              "        const element = document.querySelector('#df-0bcb7642-6f40-4742-bd31-820a12c1186e');\n",
              "        const dataTable =\n",
              "          await google.colab.kernel.invokeFunction('convertToInteractive',\n",
              "                                                    [key], {});\n",
              "        if (!dataTable) return;\n",
              "\n",
              "        const docLinkHtml = 'Like what you see? Visit the ' +\n",
              "          '<a target=\"_blank\" href=https://colab.research.google.com/notebooks/data_table.ipynb>data table notebook</a>'\n",
              "          + ' to learn more about interactive tables.';\n",
              "        element.innerHTML = '';\n",
              "        dataTable['output_type'] = 'display_data';\n",
              "        await google.colab.output.renderOutput(dataTable, element);\n",
              "        const docLink = document.createElement('div');\n",
              "        docLink.innerHTML = docLinkHtml;\n",
              "        element.appendChild(docLink);\n",
              "      }\n",
              "    </script>\n",
              "  </div>\n",
              "\n",
              "\n",
              "    <div id=\"df-42b7de8f-cf7f-4850-a743-46e08f3b34af\">\n",
              "      <button class=\"colab-df-quickchart\" onclick=\"quickchart('df-42b7de8f-cf7f-4850-a743-46e08f3b34af')\"\n",
              "                title=\"Suggest charts\"\n",
              "                style=\"display:none;\">\n",
              "\n",
              "<svg xmlns=\"http://www.w3.org/2000/svg\" height=\"24px\"viewBox=\"0 0 24 24\"\n",
              "     width=\"24px\">\n",
              "    <g>\n",
              "        <path d=\"M19 3H5c-1.1 0-2 .9-2 2v14c0 1.1.9 2 2 2h14c1.1 0 2-.9 2-2V5c0-1.1-.9-2-2-2zM9 17H7v-7h2v7zm4 0h-2V7h2v10zm4 0h-2v-4h2v4z\"/>\n",
              "    </g>\n",
              "</svg>\n",
              "      </button>\n",
              "\n",
              "<style>\n",
              "  .colab-df-quickchart {\n",
              "      --bg-color: #E8F0FE;\n",
              "      --fill-color: #1967D2;\n",
              "      --hover-bg-color: #E2EBFA;\n",
              "      --hover-fill-color: #174EA6;\n",
              "      --disabled-fill-color: #AAA;\n",
              "      --disabled-bg-color: #DDD;\n",
              "  }\n",
              "\n",
              "  [theme=dark] .colab-df-quickchart {\n",
              "      --bg-color: #3B4455;\n",
              "      --fill-color: #D2E3FC;\n",
              "      --hover-bg-color: #434B5C;\n",
              "      --hover-fill-color: #FFFFFF;\n",
              "      --disabled-bg-color: #3B4455;\n",
              "      --disabled-fill-color: #666;\n",
              "  }\n",
              "\n",
              "  .colab-df-quickchart {\n",
              "    background-color: var(--bg-color);\n",
              "    border: none;\n",
              "    border-radius: 50%;\n",
              "    cursor: pointer;\n",
              "    display: none;\n",
              "    fill: var(--fill-color);\n",
              "    height: 32px;\n",
              "    padding: 0;\n",
              "    width: 32px;\n",
              "  }\n",
              "\n",
              "  .colab-df-quickchart:hover {\n",
              "    background-color: var(--hover-bg-color);\n",
              "    box-shadow: 0 1px 2px rgba(60, 64, 67, 0.3), 0 1px 3px 1px rgba(60, 64, 67, 0.15);\n",
              "    fill: var(--button-hover-fill-color);\n",
              "  }\n",
              "\n",
              "  .colab-df-quickchart-complete:disabled,\n",
              "  .colab-df-quickchart-complete:disabled:hover {\n",
              "    background-color: var(--disabled-bg-color);\n",
              "    fill: var(--disabled-fill-color);\n",
              "    box-shadow: none;\n",
              "  }\n",
              "\n",
              "  .colab-df-spinner {\n",
              "    border: 2px solid var(--fill-color);\n",
              "    border-color: transparent;\n",
              "    border-bottom-color: var(--fill-color);\n",
              "    animation:\n",
              "      spin 1s steps(1) infinite;\n",
              "  }\n",
              "\n",
              "  @keyframes spin {\n",
              "    0% {\n",
              "      border-color: transparent;\n",
              "      border-bottom-color: var(--fill-color);\n",
              "      border-left-color: var(--fill-color);\n",
              "    }\n",
              "    20% {\n",
              "      border-color: transparent;\n",
              "      border-left-color: var(--fill-color);\n",
              "      border-top-color: var(--fill-color);\n",
              "    }\n",
              "    30% {\n",
              "      border-color: transparent;\n",
              "      border-left-color: var(--fill-color);\n",
              "      border-top-color: var(--fill-color);\n",
              "      border-right-color: var(--fill-color);\n",
              "    }\n",
              "    40% {\n",
              "      border-color: transparent;\n",
              "      border-right-color: var(--fill-color);\n",
              "      border-top-color: var(--fill-color);\n",
              "    }\n",
              "    60% {\n",
              "      border-color: transparent;\n",
              "      border-right-color: var(--fill-color);\n",
              "    }\n",
              "    80% {\n",
              "      border-color: transparent;\n",
              "      border-right-color: var(--fill-color);\n",
              "      border-bottom-color: var(--fill-color);\n",
              "    }\n",
              "    90% {\n",
              "      border-color: transparent;\n",
              "      border-bottom-color: var(--fill-color);\n",
              "    }\n",
              "  }\n",
              "</style>\n",
              "\n",
              "      <script>\n",
              "        async function quickchart(key) {\n",
              "          const quickchartButtonEl =\n",
              "            document.querySelector('#' + key + ' button');\n",
              "          quickchartButtonEl.disabled = true;  // To prevent multiple clicks.\n",
              "          quickchartButtonEl.classList.add('colab-df-spinner');\n",
              "          try {\n",
              "            const charts = await google.colab.kernel.invokeFunction(\n",
              "                'suggestCharts', [key], {});\n",
              "          } catch (error) {\n",
              "            console.error('Error during call to suggestCharts:', error);\n",
              "          }\n",
              "          quickchartButtonEl.classList.remove('colab-df-spinner');\n",
              "          quickchartButtonEl.classList.add('colab-df-quickchart-complete');\n",
              "        }\n",
              "        (() => {\n",
              "          let quickchartButtonEl =\n",
              "            document.querySelector('#df-42b7de8f-cf7f-4850-a743-46e08f3b34af button');\n",
              "          quickchartButtonEl.style.display =\n",
              "            google.colab.kernel.accessAllowed ? 'block' : 'none';\n",
              "        })();\n",
              "      </script>\n",
              "    </div>\n",
              "\n",
              "    </div>\n",
              "  </div>\n"
            ],
            "application/vnd.google.colaboratory.intrinsic+json": {
              "type": "dataframe",
              "variable_name": "customers"
            }
          },
          "metadata": {},
          "execution_count": 8
        }
      ]
    },
    {
      "cell_type": "markdown",
      "source": [
        "Disini bisa kita lihat, bahwa ada beberapa data NaN, namun untuk bentuk datanya sendiri kebanyakan bertipe string/object yang memiliki informasi mengenai customer dari toko retail fashion"
      ],
      "metadata": {
        "id": "bOqJ_v1um10o"
      }
    },
    {
      "cell_type": "code",
      "source": [
        "print('Jumlah data pelanggan: ', len(customers['Customer ID'].unique()))"
      ],
      "metadata": {
        "id": "y5ZMfoJgq6Os",
        "colab": {
          "base_uri": "https://localhost:8080/"
        },
        "outputId": "512f0c10-7ba3-4074-8894-290d394df9c1"
      },
      "execution_count": 9,
      "outputs": [
        {
          "output_type": "stream",
          "name": "stdout",
          "text": [
            "Jumlah data pelanggan:  1643306\n"
          ]
        }
      ]
    },
    {
      "cell_type": "markdown",
      "source": [
        "Jumlah pelanggan yang kita miliki informasi berkitar 1,64 juta orang customer."
      ],
      "metadata": {
        "id": "ejZOlD5Jm5WB"
      }
    },
    {
      "cell_type": "code",
      "source": [
        "customers.info()"
      ],
      "metadata": {
        "id": "az7OP0L01uVn",
        "colab": {
          "base_uri": "https://localhost:8080/"
        },
        "outputId": "b081c1f6-3698-4860-8d33-886b020fb5cf"
      },
      "execution_count": 10,
      "outputs": [
        {
          "output_type": "stream",
          "name": "stdout",
          "text": [
            "<class 'pandas.core.frame.DataFrame'>\n",
            "RangeIndex: 1643306 entries, 0 to 1643305\n",
            "Data columns (total 9 columns):\n",
            " #   Column         Non-Null Count    Dtype \n",
            "---  ------         --------------    ----- \n",
            " 0   Customer ID    1643306 non-null  int64 \n",
            " 1   Name           1643306 non-null  object\n",
            " 2   Email          1643306 non-null  object\n",
            " 3   Telephone      1643306 non-null  object\n",
            " 4   City           1643306 non-null  object\n",
            " 5   Country        1643306 non-null  object\n",
            " 6   Gender         1643306 non-null  object\n",
            " 7   Date Of Birth  1643306 non-null  object\n",
            " 8   Job Title      1059121 non-null  object\n",
            "dtypes: int64(1), object(8)\n",
            "memory usage: 112.8+ MB\n"
          ]
        }
      ]
    },
    {
      "cell_type": "markdown",
      "source": [
        "Dari informasi yang bisa kita dapatkan, bahwa ada ketidak samaan untuk jumlah data Job Title dibandingkan kolom lainnya. Kemudian, untuk tipe data dari Date Of Birth seharusnya adalah bertipe 'DateTime'"
      ],
      "metadata": {
        "id": "vUfAMnkKm7z6"
      }
    },
    {
      "cell_type": "code",
      "source": [
        "customers.isnull().sum()"
      ],
      "metadata": {
        "id": "Yx0qul6jF2YF",
        "colab": {
          "base_uri": "https://localhost:8080/",
          "height": 366
        },
        "outputId": "4d7b80bb-b376-4295-ec58-2b90b3e8b798"
      },
      "execution_count": 11,
      "outputs": [
        {
          "output_type": "execute_result",
          "data": {
            "text/plain": [
              "Customer ID           0\n",
              "Name                  0\n",
              "Email                 0\n",
              "Telephone             0\n",
              "City                  0\n",
              "Country               0\n",
              "Gender                0\n",
              "Date Of Birth         0\n",
              "Job Title        584185\n",
              "dtype: int64"
            ],
            "text/html": [
              "<div>\n",
              "<style scoped>\n",
              "    .dataframe tbody tr th:only-of-type {\n",
              "        vertical-align: middle;\n",
              "    }\n",
              "\n",
              "    .dataframe tbody tr th {\n",
              "        vertical-align: top;\n",
              "    }\n",
              "\n",
              "    .dataframe thead th {\n",
              "        text-align: right;\n",
              "    }\n",
              "</style>\n",
              "<table border=\"1\" class=\"dataframe\">\n",
              "  <thead>\n",
              "    <tr style=\"text-align: right;\">\n",
              "      <th></th>\n",
              "      <th>0</th>\n",
              "    </tr>\n",
              "  </thead>\n",
              "  <tbody>\n",
              "    <tr>\n",
              "      <th>Customer ID</th>\n",
              "      <td>0</td>\n",
              "    </tr>\n",
              "    <tr>\n",
              "      <th>Name</th>\n",
              "      <td>0</td>\n",
              "    </tr>\n",
              "    <tr>\n",
              "      <th>Email</th>\n",
              "      <td>0</td>\n",
              "    </tr>\n",
              "    <tr>\n",
              "      <th>Telephone</th>\n",
              "      <td>0</td>\n",
              "    </tr>\n",
              "    <tr>\n",
              "      <th>City</th>\n",
              "      <td>0</td>\n",
              "    </tr>\n",
              "    <tr>\n",
              "      <th>Country</th>\n",
              "      <td>0</td>\n",
              "    </tr>\n",
              "    <tr>\n",
              "      <th>Gender</th>\n",
              "      <td>0</td>\n",
              "    </tr>\n",
              "    <tr>\n",
              "      <th>Date Of Birth</th>\n",
              "      <td>0</td>\n",
              "    </tr>\n",
              "    <tr>\n",
              "      <th>Job Title</th>\n",
              "      <td>584185</td>\n",
              "    </tr>\n",
              "  </tbody>\n",
              "</table>\n",
              "</div><br><label><b>dtype:</b> int64</label>"
            ]
          },
          "metadata": {},
          "execution_count": 11
        }
      ]
    },
    {
      "cell_type": "markdown",
      "source": [
        "Ternyata memang terdapat data null di kolom Job Title, sebanyak 584185 data null yang nanti harus kita bersihkan"
      ],
      "metadata": {
        "id": "pm8PhzAtm_Ek"
      }
    },
    {
      "cell_type": "code",
      "source": [
        "customers.duplicated().sum()"
      ],
      "metadata": {
        "id": "tO6Y0yHXGFVJ",
        "colab": {
          "base_uri": "https://localhost:8080/"
        },
        "outputId": "d34f7668-de0c-4e20-8d65-5b99063983b7"
      },
      "execution_count": 12,
      "outputs": [
        {
          "output_type": "execute_result",
          "data": {
            "text/plain": [
              "np.int64(0)"
            ]
          },
          "metadata": {},
          "execution_count": 12
        }
      ]
    },
    {
      "cell_type": "markdown",
      "source": [
        "Tidak ditemukan adanya data yang duplikat di dataset customers."
      ],
      "metadata": {
        "id": "S959jaMFnBHH"
      }
    },
    {
      "cell_type": "code",
      "source": [
        "# Ubah kolom Date Of Birth menjadi format datetime (jika belum)\n",
        "customers['Date Of Birth'] = pd.to_datetime(customers['Date Of Birth'], errors='coerce')\n",
        "\n",
        "# Hitung usia (Age)\n",
        "today = pd.to_datetime('today')\n",
        "customers['Age'] = customers['Date Of Birth'].apply(lambda dob: (today.year - dob.year - ((today.month, today.day) < (dob.month, dob.day))) if pd.notnull(dob) else None)"
      ],
      "metadata": {
        "id": "bdTcPfUMwVFV"
      },
      "execution_count": 13,
      "outputs": []
    },
    {
      "cell_type": "markdown",
      "source": [
        "Disini, saya mengubah aja langsung untuk tipe data Date Of Birth agar nantinya mempermudah proses preprocessing"
      ],
      "metadata": {
        "id": "ey2s5e4fnDRL"
      }
    },
    {
      "cell_type": "code",
      "source": [
        "# Distribusi Gender\n",
        "sns.countplot(data=customers, x='Gender')\n",
        "plt.title(\"Distribusi Gender Pelanggan\")\n",
        "plt.show()"
      ],
      "metadata": {
        "id": "Dp4p6vSmwXYR",
        "colab": {
          "base_uri": "https://localhost:8080/",
          "height": 472
        },
        "outputId": "cf9a663b-a385-4802-8c62-5da65aaa96e0"
      },
      "execution_count": 14,
      "outputs": [
        {
          "output_type": "display_data",
          "data": {
            "text/plain": [
              "<Figure size 640x480 with 1 Axes>"
            ],
            "image/png": "[encoded data removed]"
          },
          "metadata": {}
        }
      ]
    },
    {
      "cell_type": "markdown",
      "source": [
        "Dataset ini memiliki data customer bergender M-Male lebih banyak dibandingkan F-Female. Sedangkan Diverse atau selain Wanita atau Pria, itu sangat sedikit."
      ],
      "metadata": {
        "id": "_2vgCOHwnIfP"
      }
    },
    {
      "cell_type": "code",
      "source": [
        "# Distribusi Umur\n",
        "sns.histplot(customers['Age'].dropna(), bins=20, kde=True)\n",
        "plt.title(\"Distribusi Umur Pelanggan\")\n",
        "plt.xlabel(\"Umur\")\n",
        "plt.show()"
      ],
      "metadata": {
        "id": "OhF2c1EPwZa3",
        "colab": {
          "base_uri": "https://localhost:8080/",
          "height": 472
        },
        "outputId": "c05add11-03bc-4858-cf54-78ff4c4d177d"
      },
      "execution_count": 15,
      "outputs": [
        {
          "output_type": "display_data",
          "data": {
            "text/plain": [
              "<Figure size 640x480 with 1 Axes>"
            ],
            "image/png": "[encoded data removed]"
          },
          "metadata": {}
        }
      ]
    },
    {
      "cell_type": "markdown",
      "source": [
        "Distribusi cukup dominan dari kalangan orang mudah yang didominasi umur 20 tahunan"
      ],
      "metadata": {
        "id": "0eZWj3pznK1V"
      }
    },
    {
      "cell_type": "markdown",
      "source": [
        "## **Products**"
      ],
      "metadata": {
        "id": "uNwAdYcuqpbr"
      }
    },
    {
      "cell_type": "code",
      "source": [
        "products.head()"
      ],
      "metadata": {
        "id": "p39BRTgPnkwr",
        "colab": {
          "base_uri": "https://localhost:8080/",
          "height": 434
        },
        "outputId": "6ad4c12a-9fdc-408f-d3c7-86cbb610ab41"
      },
      "execution_count": 16,
      "outputs": [
        {
          "output_type": "execute_result",
          "data": {
            "text/plain": [
              "   Product ID  Category           Sub Category  \\\n",
              "0           1  Feminine      Coats and Blazers   \n",
              "1           2  Feminine  Sweaters and Knitwear   \n",
              "2           3  Feminine  Dresses and Jumpsuits   \n",
              "3           4  Feminine     Shirts and Blouses   \n",
              "4           5  Feminine      T-shirts and Tops   \n",
              "\n",
              "                      Description PT                     Description DE  \\\n",
              "0  Esportivo Veludo Verde Com Botões       Sport Samt Sport Mit Knöpfen   \n",
              "1      Luxuoso Denim Rosa Com Botões  Luxuriöser Rosa Jeans Mit Knöpfen   \n",
              "2       Retrô Tricot Preto Estampado     Black Tricot Gedruckter Tricot   \n",
              "3            Blusa De Algodão Básica               Basis -Baumwollbluse   \n",
              "4          T-Shirt Básica De Algodão             Basis-Baumwoll-T-Shirt   \n",
              "\n",
              "                          Description FR                      Description ES  \\\n",
              "0  Sports Velvet Sports Avec Des Boutons  Deportes De Terciopelo Con Botones   \n",
              "1     Léchard De Denim Rose Avec Boutons       Denim Rosa Lujoso Con Botones   \n",
              "2          Tricot Imprimé En Tricot Noir         Tricot Negro Tricot Impreso   \n",
              "3             Chemisier En Coton De Base                    Blusa De Algodón   \n",
              "4               T-Shirt En Coton De Base          Camiseta Básica De Algodón   \n",
              "\n",
              "                      Description EN Description ZH  Color     Sizes  \\\n",
              "0  Sports Velvet Sports With Buttons     运动天鹅绒运动与按钮    NaN  S|M|L|XL   \n",
              "1  Luxurious Pink Denim With Buttons   豪华的粉红色牛仔布和纽扣   PINK  S|M|L|XL   \n",
              "2        Black Tricot Printed Tricot     黑色三角形印刷三角形  BLACK  S|M|L|XL   \n",
              "3                Basic Cotton Blouse         基本的棉衬衫    NaN  S|M|L|XL   \n",
              "4               Basic Cotton T-Shirt          基本棉T恤    NaN     S|M|L   \n",
              "\n",
              "   Production Cost  \n",
              "0            10.73  \n",
              "1            19.55  \n",
              "2            25.59  \n",
              "3            27.62  \n",
              "4            11.69  "
            ],
            "text/html": [
              "\n",
              "  <div id=\"df-f7044de6-b9e9-412c-be6d-5019cd2d3eeb\" class=\"colab-df-container\">\n",
              "    <div>\n",
              "<style scoped>\n",
              "    .dataframe tbody tr th:only-of-type {\n",
              "        vertical-align: middle;\n",
              "    }\n",
              "\n",
              "    .dataframe tbody tr th {\n",
              "        vertical-align: top;\n",
              "    }\n",
              "\n",
              "    .dataframe thead th {\n",
              "        text-align: right;\n",
              "    }\n",
              "</style>\n",
              "<table border=\"1\" class=\"dataframe\">\n",
              "  <thead>\n",
              "    <tr style=\"text-align: right;\">\n",
              "      <th></th>\n",
              "      <th>Product ID</th>\n",
              "      <th>Category</th>\n",
              "      <th>Sub Category</th>\n",
              "      <th>Description PT</th>\n",
              "      <th>Description DE</th>\n",
              "      <th>Description FR</th>\n",
              "      <th>Description ES</th>\n",
              "      <th>Description EN</th>\n",
              "      <th>Description ZH</th>\n",
              "      <th>Color</th>\n",
              "      <th>Sizes</th>\n",
              "      <th>Production Cost</th>\n",
              "    </tr>\n",
              "  </thead>\n",
              "  <tbody>\n",
              "    <tr>\n",
              "      <th>0</th>\n",
              "      <td>1</td>\n",
              "      <td>Feminine</td>\n",
              "      <td>Coats and Blazers</td>\n",
              "      <td>Esportivo Veludo Verde Com Botões</td>\n",
              "      <td>Sport Samt Sport Mit Knöpfen</td>\n",
              "      <td>Sports Velvet Sports Avec Des Boutons</td>\n",
              "      <td>Deportes De Terciopelo Con Botones</td>\n",
              "      <td>Sports Velvet Sports With Buttons</td>\n",
              "      <td>运动天鹅绒运动与按钮</td>\n",
              "      <td>NaN</td>\n",
              "      <td>S|M|L|XL</td>\n",
              "      <td>10.73</td>\n",
              "    </tr>\n",
              "    <tr>\n",
              "      <th>1</th>\n",
              "      <td>2</td>\n",
              "      <td>Feminine</td>\n",
              "      <td>Sweaters and Knitwear</td>\n",
              "      <td>Luxuoso Denim Rosa Com Botões</td>\n",
              "      <td>Luxuriöser Rosa Jeans Mit Knöpfen</td>\n",
              "      <td>Léchard De Denim Rose Avec Boutons</td>\n",
              "      <td>Denim Rosa Lujoso Con Botones</td>\n",
              "      <td>Luxurious Pink Denim With Buttons</td>\n",
              "      <td>豪华的粉红色牛仔布和纽扣</td>\n",
              "      <td>PINK</td>\n",
              "      <td>S|M|L|XL</td>\n",
              "      <td>19.55</td>\n",
              "    </tr>\n",
              "    <tr>\n",
              "      <th>2</th>\n",
              "      <td>3</td>\n",
              "      <td>Feminine</td>\n",
              "      <td>Dresses and Jumpsuits</td>\n",
              "      <td>Retrô Tricot Preto Estampado</td>\n",
              "      <td>Black Tricot Gedruckter Tricot</td>\n",
              "      <td>Tricot Imprimé En Tricot Noir</td>\n",
              "      <td>Tricot Negro Tricot Impreso</td>\n",
              "      <td>Black Tricot Printed Tricot</td>\n",
              "      <td>黑色三角形印刷三角形</td>\n",
              "      <td>BLACK</td>\n",
              "      <td>S|M|L|XL</td>\n",
              "      <td>25.59</td>\n",
              "    </tr>\n",
              "    <tr>\n",
              "      <th>3</th>\n",
              "      <td>4</td>\n",
              "      <td>Feminine</td>\n",
              "      <td>Shirts and Blouses</td>\n",
              "      <td>Blusa De Algodão Básica</td>\n",
              "      <td>Basis -Baumwollbluse</td>\n",
              "      <td>Chemisier En Coton De Base</td>\n",
              "      <td>Blusa De Algodón</td>\n",
              "      <td>Basic Cotton Blouse</td>\n",
              "      <td>基本的棉衬衫</td>\n",
              "      <td>NaN</td>\n",
              "      <td>S|M|L|XL</td>\n",
              "      <td>27.62</td>\n",
              "    </tr>\n",
              "    <tr>\n",
              "      <th>4</th>\n",
              "      <td>5</td>\n",
              "      <td>Feminine</td>\n",
              "      <td>T-shirts and Tops</td>\n",
              "      <td>T-Shirt Básica De Algodão</td>\n",
              "      <td>Basis-Baumwoll-T-Shirt</td>\n",
              "      <td>T-Shirt En Coton De Base</td>\n",
              "      <td>Camiseta Básica De Algodón</td>\n",
              "      <td>Basic Cotton T-Shirt</td>\n",
              "      <td>基本棉T恤</td>\n",
              "      <td>NaN</td>\n",
              "      <td>S|M|L</td>\n",
              "      <td>11.69</td>\n",
              "    </tr>\n",
              "  </tbody>\n",
              "</table>\n",
              "</div>\n",
              "    <div class=\"colab-df-buttons\">\n",
              "\n",
              "  <div class=\"colab-df-container\">\n",
              "    <button class=\"colab-df-convert\" onclick=\"convertToInteractive('df-f7044de6-b9e9-412c-be6d-5019cd2d3eeb')\"\n",
              "            title=\"Convert this dataframe to an interactive table.\"\n",
              "            style=\"display:none;\">\n",
              "\n",
              "  <svg xmlns=\"http://www.w3.org/2000/svg\" height=\"24px\" viewBox=\"0 -960 960 960\">\n",
              "    <path d=\"M120-120v-720h720v720H120Zm60-500h600v-160H180v160Zm220 220h160v-160H400v160Zm0 220h160v-160H400v160ZM180-400h160v-160H180v160Zm440 0h160v-160H620v160ZM180-180h160v-160H180v160Zm440 0h160v-160H620v160Z\"/>\n",
              "  </svg>\n",
              "    </button>\n",
              "\n",
              "  <style>\n",
              "    .colab-df-container {\n",
              "      display:flex;\n",
              "      gap: 12px;\n",
              "    }\n",
              "\n",
              "    .colab-df-convert {\n",
              "      background-color: #E8F0FE;\n",
              "      border: none;\n",
              "      border-radius: 50%;\n",
              "      cursor: pointer;\n",
              "      display: none;\n",
              "      fill: #1967D2;\n",
              "      height: 32px;\n",
              "      padding: 0 0 0 0;\n",
              "      width: 32px;\n",
              "    }\n",
              "\n",
              "    .colab-df-convert:hover {\n",
              "      background-color: #E2EBFA;\n",
              "      box-shadow: 0px 1px 2px rgba(60, 64, 67, 0.3), 0px 1px 3px 1px rgba(60, 64, 67, 0.15);\n",
              "      fill: #174EA6;\n",
              "    }\n",
              "\n",
              "    .colab-df-buttons div {\n",
              "      margin-bottom: 4px;\n",
              "    }\n",
              "\n",
              "    [theme=dark] .colab-df-convert {\n",
              "      background-color: #3B4455;\n",
              "      fill: #D2E3FC;\n",
              "    }\n",
              "\n",
              "    [theme=dark] .colab-df-convert:hover {\n",
              "      background-color: #434B5C;\n",
              "      box-shadow: 0px 1px 3px 1px rgba(0, 0, 0, 0.15);\n",
              "      filter: drop-shadow(0px 1px 2px rgba(0, 0, 0, 0.3));\n",
              "      fill: #FFFFFF;\n",
              "    }\n",
              "  </style>\n",
              "\n",
              "    <script>\n",
              "      const buttonEl =\n",
              "        document.querySelector('#df-f7044de6-b9e9-412c-be6d-5019cd2d3eeb button.colab-df-convert');\n",
              "      buttonEl.style.display =\n",
              "        google.colab.kernel.accessAllowed ? 'block' : 'none';\n",
              "\n",
              "      async function convertToInteractive(key) {\n",
              "        const element = document.querySelector('#df-f7044de6-b9e9-412c-be6d-5019cd2d3eeb');\n",
              "        const dataTable =\n",
              "          await google.colab.kernel.invokeFunction('convertToInteractive',\n",
              "                                                    [key], {});\n",
              "        if (!dataTable) return;\n",
              "\n",
              "        const docLinkHtml = 'Like what you see? Visit the ' +\n",
              "          '<a target=\"_blank\" href=https://colab.research.google.com/notebooks/data_table.ipynb>data table notebook</a>'\n",
              "          + ' to learn more about interactive tables.';\n",
              "        element.innerHTML = '';\n",
              "        dataTable['output_type'] = 'display_data';\n",
              "        await google.colab.output.renderOutput(dataTable, element);\n",
              "        const docLink = document.createElement('div');\n",
              "        docLink.innerHTML = docLinkHtml;\n",
              "        element.appendChild(docLink);\n",
              "      }\n",
              "    </script>\n",
              "  </div>\n",
              "\n",
              "\n",
              "    <div id=\"df-f18038f7-0f62-4142-b9e8-a49d3e33b242\">\n",
              "      <button class=\"colab-df-quickchart\" onclick=\"quickchart('df-f18038f7-0f62-4142-b9e8-a49d3e33b242')\"\n",
              "                title=\"Suggest charts\"\n",
              "                style=\"display:none;\">\n",
              "\n",
              "<svg xmlns=\"http://www.w3.org/2000/svg\" height=\"24px\"viewBox=\"0 0 24 24\"\n",
              "     width=\"24px\">\n",
              "    <g>\n",
              "        <path d=\"M19 3H5c-1.1 0-2 .9-2 2v14c0 1.1.9 2 2 2h14c1.1 0 2-.9 2-2V5c0-1.1-.9-2-2-2zM9 17H7v-7h2v7zm4 0h-2V7h2v10zm4 0h-2v-4h2v4z\"/>\n",
              "    </g>\n",
              "</svg>\n",
              "      </button>\n",
              "\n",
              "<style>\n",
              "  .colab-df-quickchart {\n",
              "      --bg-color: #E8F0FE;\n",
              "      --fill-color: #1967D2;\n",
              "      --hover-bg-color: #E2EBFA;\n",
              "      --hover-fill-color: #174EA6;\n",
              "      --disabled-fill-color: #AAA;\n",
              "      --disabled-bg-color: #DDD;\n",
              "  }\n",
              "\n",
              "  [theme=dark] .colab-df-quickchart {\n",
              "      --bg-color: #3B4455;\n",
              "      --fill-color: #D2E3FC;\n",
              "      --hover-bg-color: #434B5C;\n",
              "      --hover-fill-color: #FFFFFF;\n",
              "      --disabled-bg-color: #3B4455;\n",
              "      --disabled-fill-color: #666;\n",
              "  }\n",
              "\n",
              "  .colab-df-quickchart {\n",
              "    background-color: var(--bg-color);\n",
              "    border: none;\n",
              "    border-radius: 50%;\n",
              "    cursor: pointer;\n",
              "    display: none;\n",
              "    fill: var(--fill-color);\n",
              "    height: 32px;\n",
              "    padding: 0;\n",
              "    width: 32px;\n",
              "  }\n",
              "\n",
              "  .colab-df-quickchart:hover {\n",
              "    background-color: var(--hover-bg-color);\n",
              "    box-shadow: 0 1px 2px rgba(60, 64, 67, 0.3), 0 1px 3px 1px rgba(60, 64, 67, 0.15);\n",
              "    fill: var(--button-hover-fill-color);\n",
              "  }\n",
              "\n",
              "  .colab-df-quickchart-complete:disabled,\n",
              "  .colab-df-quickchart-complete:disabled:hover {\n",
              "    background-color: var(--disabled-bg-color);\n",
              "    fill: var(--disabled-fill-color);\n",
              "    box-shadow: none;\n",
              "  }\n",
              "\n",
              "  .colab-df-spinner {\n",
              "    border: 2px solid var(--fill-color);\n",
              "    border-color: transparent;\n",
              "    border-bottom-color: var(--fill-color);\n",
              "    animation:\n",
              "      spin 1s steps(1) infinite;\n",
              "  }\n",
              "\n",
              "  @keyframes spin {\n",
              "    0% {\n",
              "      border-color: transparent;\n",
              "      border-bottom-color: var(--fill-color);\n",
              "      border-left-color: var(--fill-color);\n",
              "    }\n",
              "    20% {\n",
              "      border-color: transparent;\n",
              "      border-left-color: var(--fill-color);\n",
              "      border-top-color: var(--fill-color);\n",
              "    }\n",
              "    30% {\n",
              "      border-color: transparent;\n",
              "      border-left-color: var(--fill-color);\n",
              "      border-top-color: var(--fill-color);\n",
              "      border-right-color: var(--fill-color);\n",
              "    }\n",
              "    40% {\n",
              "      border-color: transparent;\n",
              "      border-right-color: var(--fill-color);\n",
              "      border-top-color: var(--fill-color);\n",
              "    }\n",
              "    60% {\n",
              "      border-color: transparent;\n",
              "      border-right-color: var(--fill-color);\n",
              "    }\n",
              "    80% {\n",
              "      border-color: transparent;\n",
              "      border-right-color: var(--fill-color);\n",
              "      border-bottom-color: var(--fill-color);\n",
              "    }\n",
              "    90% {\n",
              "      border-color: transparent;\n",
              "      border-bottom-color: var(--fill-color);\n",
              "    }\n",
              "  }\n",
              "</style>\n",
              "\n",
              "      <script>\n",
              "        async function quickchart(key) {\n",
              "          const quickchartButtonEl =\n",
              "            document.querySelector('#' + key + ' button');\n",
              "          quickchartButtonEl.disabled = true;  // To prevent multiple clicks.\n",
              "          quickchartButtonEl.classList.add('colab-df-spinner');\n",
              "          try {\n",
              "            const charts = await google.colab.kernel.invokeFunction(\n",
              "                'suggestCharts', [key], {});\n",
              "          } catch (error) {\n",
              "            console.error('Error during call to suggestCharts:', error);\n",
              "          }\n",
              "          quickchartButtonEl.classList.remove('colab-df-spinner');\n",
              "          quickchartButtonEl.classList.add('colab-df-quickchart-complete');\n",
              "        }\n",
              "        (() => {\n",
              "          let quickchartButtonEl =\n",
              "            document.querySelector('#df-f18038f7-0f62-4142-b9e8-a49d3e33b242 button');\n",
              "          quickchartButtonEl.style.display =\n",
              "            google.colab.kernel.accessAllowed ? 'block' : 'none';\n",
              "        })();\n",
              "      </script>\n",
              "    </div>\n",
              "\n",
              "    </div>\n",
              "  </div>\n"
            ],
            "application/vnd.google.colaboratory.intrinsic+json": {
              "type": "dataframe",
              "variable_name": "products",
              "summary": "{\n  \"name\": \"products\",\n  \"rows\": 17940,\n  \"fields\": [\n    {\n      \"column\": \"Product ID\",\n      \"properties\": {\n        \"dtype\": \"number\",\n        \"std\": 5178,\n        \"min\": 1,\n        \"max\": 17940,\n        \"num_unique_values\": 17940,\n        \"samples\": [\n          11771,\n          17260,\n          6932\n        ],\n        \"semantic_type\": \"\",\n        \"description\": \"\"\n      }\n    },\n    {\n      \"column\": \"Category\",\n      \"properties\": {\n        \"dtype\": \"category\",\n        \"num_unique_values\": 3,\n        \"samples\": [\n          \"Feminine\",\n          \"Masculine\",\n          \"Children\"\n        ],\n        \"semantic_type\": \"\",\n        \"description\": \"\"\n      }\n    },\n    {\n      \"column\": \"Sub Category\",\n      \"properties\": {\n        \"dtype\": \"category\",\n        \"num_unique_values\": 21,\n        \"samples\": [\n          \"Coats and Blazers\",\n          \"Girl and Boy (1-5 years, 6-14 years)\",\n          \"Underwear and Pajamas\"\n        ],\n        \"semantic_type\": \"\",\n        \"description\": \"\"\n      }\n    },\n    {\n      \"column\": \"Description PT\",\n      \"properties\": {\n        \"dtype\": \"string\",\n        \"num_unique_values\": 9296,\n        \"samples\": [\n          \"Luxuoso Seda Lil\\u00e1s Com Franjas\",\n          \"Punk Camur\\u00e7a Bord\\u00f4 Com Capuz\",\n          \"Streetwear Jeans Bord\\u00f4 Bordado\"\n        ],\n        \"semantic_type\": \"\",\n        \"description\": \"\"\n      }\n    },\n    {\n      \"column\": \"Description DE\",\n      \"properties\": {\n        \"dtype\": \"string\",\n        \"num_unique_values\": 9198,\n        \"samples\": [\n          \"Kurzarm -M\\u00e4nnerhemd Mit Vichy -Schachstandard\",\n          \"Boho Velvet Green Mit Fransen\",\n          \"High-Tech-Gr\\u00fcnes Leder Mit Kn\\u00f6pfen\"\n        ],\n        \"semantic_type\": \"\",\n        \"description\": \"\"\n      }\n    },\n    {\n      \"column\": \"Description FR\",\n      \"properties\": {\n        \"dtype\": \"string\",\n        \"num_unique_values\": 9202,\n        \"samples\": [\n          \"Casque R\\u00e9tro Avec Conception En Bois\",\n          \"Turquoise Tricot Sports\",\n          \"Sports Laine Turquoise Avec Des Paillettes\"\n        ],\n        \"semantic_type\": \"\",\n        \"description\": \"\"\n      }\n    },\n    {\n      \"column\": \"Description ES\",\n      \"properties\": {\n        \"dtype\": \"string\",\n        \"num_unique_values\": 9242,\n        \"samples\": [\n          \"Camiseta Con Estampado Animal\",\n          \"Sat\\u00e9n Negro Formal Con Botones\",\n          \"Cuero Turquesa Despojado Con Capucha\"\n        ],\n        \"semantic_type\": \"\",\n        \"description\": \"\"\n      }\n    },\n    {\n      \"column\": \"Description EN\",\n      \"properties\": {\n        \"dtype\": \"string\",\n        \"num_unique_values\": 9223,\n        \"samples\": [\n          \"Silk Clutch Bag With Flower Details\",\n          \"Vintage Cotton Mustard With Loop\",\n          \"Black Tricot Sports With Zipper\"\n        ],\n        \"semantic_type\": \"\",\n        \"description\": \"\"\n      }\n    },\n    {\n      \"column\": \"Description ZH\",\n      \"properties\": {\n        \"dtype\": \"string\",\n        \"num_unique_values\": 9143,\n        \"samples\": [\n          \"\\u5973\\u4eba\\u7684\\u4e94\\u989c\\u516d\\u8272\\u725b\\u4ed4\\u88e4\",\n          \"\\u77ed\\u5b50\\u7761\\u8863\\u548c\\u8936\\u8fb9\\u77ed\\u88e4\\u548c\\u5bbd\\u677e\\u7684\\u4e0a\\u8863\",\n          \"\\u7ea2\\u8272\\u9ad8\\u79d1\\u6280\\u725b\\u4ed4\\u88e4\\u5e26\\u53e3\\u888b\"\n        ],\n        \"semantic_type\": \"\",\n        \"description\": \"\"\n      }\n    },\n    {\n      \"column\": \"Color\",\n      \"properties\": {\n        \"dtype\": \"category\",\n        \"num_unique_values\": 15,\n        \"samples\": [\n          \"SILVER\",\n          \"MUSTARD\",\n          \"PINK\"\n        ],\n        \"semantic_type\": \"\",\n        \"description\": \"\"\n      }\n    },\n    {\n      \"column\": \"Sizes\",\n      \"properties\": {\n        \"dtype\": \"category\",\n        \"num_unique_values\": 12,\n        \"samples\": [\n          \"36|38|40|42\",\n          \"38|40|42|44\",\n          \"S|M|L|XL\"\n        ],\n        \"semantic_type\": \"\",\n        \"description\": \"\"\n      }\n    },\n    {\n      \"column\": \"Production Cost\",\n      \"properties\": {\n        \"dtype\": \"number\",\n        \"std\": 11.628072215331965,\n        \"min\": 0.56,\n        \"max\": 77.19,\n        \"num_unique_values\": 4216,\n        \"samples\": [\n          19.14,\n          46.76,\n          16.62\n        ],\n        \"semantic_type\": \"\",\n        \"description\": \"\"\n      }\n    }\n  ]\n}"
            }
          },
          "metadata": {},
          "execution_count": 16
        }
      ]
    },
    {
      "cell_type": "markdown",
      "source": [
        "Ini adalah Dataset Product, yang merupakan dataset untuk informasi berkaitan dengan produk yang dijual retail fashion di seluruh dunia."
      ],
      "metadata": {
        "id": "JR2TYRqQnN_5"
      }
    },
    {
      "cell_type": "code",
      "source": [
        "print('Jumlah data pelanggan: ', len(products['Sub Category'].unique()))\n",
        "print(products['Sub Category'].unique())"
      ],
      "metadata": {
        "id": "sRvhOL4Vuwgg",
        "colab": {
          "base_uri": "https://localhost:8080/"
        },
        "outputId": "c243a7d8-6719-41d9-b3dc-1f9cfe48fd24"
      },
      "execution_count": 17,
      "outputs": [
        {
          "output_type": "stream",
          "name": "stdout",
          "text": [
            "Jumlah data pelanggan:  21\n",
            "['Coats and Blazers' 'Sweaters and Knitwear' 'Dresses and Jumpsuits'\n",
            " 'Shirts and Blouses' 'T-shirts and Tops' 'Pants and Jeans'\n",
            " 'Skirts and Shorts' 'Suits and Sets' 'Sportswear' 'Lingerie and Pajamas'\n",
            " 'Accessories' 'Sweaters and Sweatshirts' 'T-shirts and Polos' 'Shirts'\n",
            " 'Suits and Blazers' 'Underwear and Pajamas' 'Baby (0-12 months)'\n",
            " 'Girl and Boy (1-5 years, 6-14 years)' 'Coats' 'Sweaters' 'Pajamas']\n"
          ]
        }
      ]
    },
    {
      "cell_type": "markdown",
      "source": [
        "Ini adalah beberapa sub kategori dari produk yang di jual di retail fashion, terdapat 21 sub kategori yang berhubungan dengan pakaian dan juga barang fashion lainnya."
      ],
      "metadata": {
        "id": "RHrnTK6UnQph"
      }
    },
    {
      "cell_type": "code",
      "source": [
        "products.info()"
      ],
      "metadata": {
        "id": "ITAhkliw19eo",
        "colab": {
          "base_uri": "https://localhost:8080/"
        },
        "outputId": "fcb70f24-d120-427b-865d-20cb20f96eb2"
      },
      "execution_count": 18,
      "outputs": [
        {
          "output_type": "stream",
          "name": "stdout",
          "text": [
            "<class 'pandas.core.frame.DataFrame'>\n",
            "RangeIndex: 17940 entries, 0 to 17939\n",
            "Data columns (total 12 columns):\n",
            " #   Column           Non-Null Count  Dtype  \n",
            "---  ------           --------------  -----  \n",
            " 0   Product ID       17940 non-null  int64  \n",
            " 1   Category         17940 non-null  object \n",
            " 2   Sub Category     17940 non-null  object \n",
            " 3   Description PT   17940 non-null  object \n",
            " 4   Description DE   17940 non-null  object \n",
            " 5   Description FR   17940 non-null  object \n",
            " 6   Description ES   17940 non-null  object \n",
            " 7   Description EN   17940 non-null  object \n",
            " 8   Description ZH   17940 non-null  object \n",
            " 9   Color            5495 non-null   object \n",
            " 10  Sizes            15870 non-null  object \n",
            " 11  Production Cost  17940 non-null  float64\n",
            "dtypes: float64(1), int64(1), object(10)\n",
            "memory usage: 1.6+ MB\n"
          ]
        }
      ]
    },
    {
      "cell_type": "markdown",
      "source": [
        "Disini, bisa kita lilhat terdapat beberapa perbedaan jumlah untuk color dan sizes, tetapi hal ini bisa berindikasi pada pemakaian berulang untuk setiap data color dan sizes yang tetap aman berada di dataset"
      ],
      "metadata": {
        "id": "W8P1OwuenTCE"
      }
    },
    {
      "cell_type": "code",
      "source": [
        "# Distribusi Kategori\n",
        "sns.countplot(data=products, x='Category', order=products['Category'].value_counts().index)\n",
        "plt.title(\"Distribusi Kategori Produk\")\n",
        "plt.xticks(rotation=45)\n",
        "plt.show()"
      ],
      "metadata": {
        "id": "Std9eaORGCWh",
        "colab": {
          "base_uri": "https://localhost:8080/",
          "height": 516
        },
        "outputId": "42584454-bb2e-4f77-98de-3e1063dc99ba"
      },
      "execution_count": 19,
      "outputs": [
        {
          "output_type": "display_data",
          "data": {
            "text/plain": [
              "<Figure size 640x480 with 1 Axes>"
            ],
            "image/png": "[encoded data removed]"
          },
          "metadata": {}
        }
      ]
    },
    {
      "cell_type": "markdown",
      "source": [
        "Kategori dataset ini sendiri ada 3 macam yang di dominasi oleh produk berkategori feminime."
      ],
      "metadata": {
        "id": "so1r-CLVnU_3"
      }
    },
    {
      "cell_type": "code",
      "source": [
        "# Distribusi Sub-Kategori\n",
        "sns.countplot(data=products, x='Sub Category', order=products['Sub Category'].value_counts().index)\n",
        "plt.title(\"Distribusi Sub-Kategori Produk\")\n",
        "plt.xticks(rotation=90)\n",
        "plt.show()"
      ],
      "metadata": {
        "id": "X4MNWFbkwhzH",
        "colab": {
          "base_uri": "https://localhost:8080/",
          "height": 706
        },
        "outputId": "2a602200-431f-43dd-eb54-334c0e279d4b"
      },
      "execution_count": 20,
      "outputs": [
        {
          "output_type": "display_data",
          "data": {
            "text/plain": [
              "<Figure size 640x480 with 1 Axes>"
            ],
            "image/png": "[encoded data removed]"
          },
          "metadata": {}
        }
      ]
    },
    {
      "cell_type": "markdown",
      "source": [
        "Sub Kategori produk yang paling banyak ditemukan adalah Accesories, lalu diikut oleh Pants and jeans, Sportwear, dan coats and Blazers"
      ],
      "metadata": {
        "id": "jA_zMe8NnXD5"
      }
    },
    {
      "cell_type": "markdown",
      "source": [
        "## **Stores**"
      ],
      "metadata": {
        "id": "qWik3cBQqtM8"
      }
    },
    {
      "cell_type": "code",
      "source": [
        "stores.head()"
      ],
      "metadata": {
        "id": "2mEoxcBTnopQ",
        "colab": {
          "base_uri": "https://localhost:8080/",
          "height": 206
        },
        "outputId": "5a836d68-01c8-4678-b1f7-67287623486a"
      },
      "execution_count": 21,
      "outputs": [
        {
          "output_type": "execute_result",
          "data": {
            "text/plain": [
              "   Store ID        Country         City         Store Name  \\\n",
              "0         1  United States     New York     Store New York   \n",
              "1         2  United States  Los Angeles  Store Los Angeles   \n",
              "2         3  United States      Chicago      Store Chicago   \n",
              "3         4  United States      Houston      Store Houston   \n",
              "4         5  United States      Phoenix      Store Phoenix   \n",
              "\n",
              "   Number of Employees ZIP Code  Latitude  Longitude  \n",
              "0                   10    10001   40.7128   -74.0060  \n",
              "1                    8    90001   34.0522  -118.2437  \n",
              "2                    9    60601   41.8781   -87.6298  \n",
              "3                   10    77001   29.7604   -95.3698  \n",
              "4                    9    85001   33.4484  -112.0740  "
            ],
            "text/html": [
              "\n",
              "  <div id=\"df-997f1454-0b0e-4152-bd3b-6042bc45a10f\" class=\"colab-df-container\">\n",
              "    <div>\n",
              "<style scoped>\n",
              "    .dataframe tbody tr th:only-of-type {\n",
              "        vertical-align: middle;\n",
              "    }\n",
              "\n",
              "    .dataframe tbody tr th {\n",
              "        vertical-align: top;\n",
              "    }\n",
              "\n",
              "    .dataframe thead th {\n",
              "        text-align: right;\n",
              "    }\n",
              "</style>\n",
              "<table border=\"1\" class=\"dataframe\">\n",
              "  <thead>\n",
              "    <tr style=\"text-align: right;\">\n",
              "      <th></th>\n",
              "      <th>Store ID</th>\n",
              "      <th>Country</th>\n",
              "      <th>City</th>\n",
              "      <th>Store Name</th>\n",
              "      <th>Number of Employees</th>\n",
              "      <th>ZIP Code</th>\n",
              "      <th>Latitude</th>\n",
              "      <th>Longitude</th>\n",
              "    </tr>\n",
              "  </thead>\n",
              "  <tbody>\n",
              "    <tr>\n",
              "      <th>0</th>\n",
              "      <td>1</td>\n",
              "      <td>United States</td>\n",
              "      <td>New York</td>\n",
              "      <td>Store New York</td>\n",
              "      <td>10</td>\n",
              "      <td>10001</td>\n",
              "      <td>40.7128</td>\n",
              "      <td>-74.0060</td>\n",
              "    </tr>\n",
              "    <tr>\n",
              "      <th>1</th>\n",
              "      <td>2</td>\n",
              "      <td>United States</td>\n",
              "      <td>Los Angeles</td>\n",
              "      <td>Store Los Angeles</td>\n",
              "      <td>8</td>\n",
              "      <td>90001</td>\n",
              "      <td>34.0522</td>\n",
              "      <td>-118.2437</td>\n",
              "    </tr>\n",
              "    <tr>\n",
              "      <th>2</th>\n",
              "      <td>3</td>\n",
              "      <td>United States</td>\n",
              "      <td>Chicago</td>\n",
              "      <td>Store Chicago</td>\n",
              "      <td>9</td>\n",
              "      <td>60601</td>\n",
              "      <td>41.8781</td>\n",
              "      <td>-87.6298</td>\n",
              "    </tr>\n",
              "    <tr>\n",
              "      <th>3</th>\n",
              "      <td>4</td>\n",
              "      <td>United States</td>\n",
              "      <td>Houston</td>\n",
              "      <td>Store Houston</td>\n",
              "      <td>10</td>\n",
              "      <td>77001</td>\n",
              "      <td>29.7604</td>\n",
              "      <td>-95.3698</td>\n",
              "    </tr>\n",
              "    <tr>\n",
              "      <th>4</th>\n",
              "      <td>5</td>\n",
              "      <td>United States</td>\n",
              "      <td>Phoenix</td>\n",
              "      <td>Store Phoenix</td>\n",
              "      <td>9</td>\n",
              "      <td>85001</td>\n",
              "      <td>33.4484</td>\n",
              "      <td>-112.0740</td>\n",
              "    </tr>\n",
              "  </tbody>\n",
              "</table>\n",
              "</div>\n",
              "    <div class=\"colab-df-buttons\">\n",
              "\n",
              "  <div class=\"colab-df-container\">\n",
              "    <button class=\"colab-df-convert\" onclick=\"convertToInteractive('df-997f1454-0b0e-4152-bd3b-6042bc45a10f')\"\n",
              "            title=\"Convert this dataframe to an interactive table.\"\n",
              "            style=\"display:none;\">\n",
              "\n",
              "  <svg xmlns=\"http://www.w3.org/2000/svg\" height=\"24px\" viewBox=\"0 -960 960 960\">\n",
              "    <path d=\"M120-120v-720h720v720H120Zm60-500h600v-160H180v160Zm220 220h160v-160H400v160Zm0 220h160v-160H400v160ZM180-400h160v-160H180v160Zm440 0h160v-160H620v160ZM180-180h160v-160H180v160Zm440 0h160v-160H620v160Z\"/>\n",
              "  </svg>\n",
              "    </button>\n",
              "\n",
              "  <style>\n",
              "    .colab-df-container {\n",
              "      display:flex;\n",
              "      gap: 12px;\n",
              "    }\n",
              "\n",
              "    .colab-df-convert {\n",
              "      background-color: #E8F0FE;\n",
              "      border: none;\n",
              "      border-radius: 50%;\n",
              "      cursor: pointer;\n",
              "      display: none;\n",
              "      fill: #1967D2;\n",
              "      height: 32px;\n",
              "      padding: 0 0 0 0;\n",
              "      width: 32px;\n",
              "    }\n",
              "\n",
              "    .colab-df-convert:hover {\n",
              "      background-color: #E2EBFA;\n",
              "      box-shadow: 0px 1px 2px rgba(60, 64, 67, 0.3), 0px 1px 3px 1px rgba(60, 64, 67, 0.15);\n",
              "      fill: #174EA6;\n",
              "    }\n",
              "\n",
              "    .colab-df-buttons div {\n",
              "      margin-bottom: 4px;\n",
              "    }\n",
              "\n",
              "    [theme=dark] .colab-df-convert {\n",
              "      background-color: #3B4455;\n",
              "      fill: #D2E3FC;\n",
              "    }\n",
              "\n",
              "    [theme=dark] .colab-df-convert:hover {\n",
              "      background-color: #434B5C;\n",
              "      box-shadow: 0px 1px 3px 1px rgba(0, 0, 0, 0.15);\n",
              "      filter: drop-shadow(0px 1px 2px rgba(0, 0, 0, 0.3));\n",
              "      fill: #FFFFFF;\n",
              "    }\n",
              "  </style>\n",
              "\n",
              "    <script>\n",
              "      const buttonEl =\n",
              "        document.querySelector('#df-997f1454-0b0e-4152-bd3b-6042bc45a10f button.colab-df-convert');\n",
              "      buttonEl.style.display =\n",
              "        google.colab.kernel.accessAllowed ? 'block' : 'none';\n",
              "\n",
              "      async function convertToInteractive(key) {\n",
              "        const element = document.querySelector('#df-997f1454-0b0e-4152-bd3b-6042bc45a10f');\n",
              "        const dataTable =\n",
              "          await google.colab.kernel.invokeFunction('convertToInteractive',\n",
              "                                                    [key], {});\n",
              "        if (!dataTable) return;\n",
              "\n",
              "        const docLinkHtml = 'Like what you see? Visit the ' +\n",
              "          '<a target=\"_blank\" href=https://colab.research.google.com/notebooks/data_table.ipynb>data table notebook</a>'\n",
              "          + ' to learn more about interactive tables.';\n",
              "        element.innerHTML = '';\n",
              "        dataTable['output_type'] = 'display_data';\n",
              "        await google.colab.output.renderOutput(dataTable, element);\n",
              "        const docLink = document.createElement('div');\n",
              "        docLink.innerHTML = docLinkHtml;\n",
              "        element.appendChild(docLink);\n",
              "      }\n",
              "    </script>\n",
              "  </div>\n",
              "\n",
              "\n",
              "    <div id=\"df-f01427bb-3818-4f4b-9932-9b7f932fd90f\">\n",
              "      <button class=\"colab-df-quickchart\" onclick=\"quickchart('df-f01427bb-3818-4f4b-9932-9b7f932fd90f')\"\n",
              "                title=\"Suggest charts\"\n",
              "                style=\"display:none;\">\n",
              "\n",
              "<svg xmlns=\"http://www.w3.org/2000/svg\" height=\"24px\"viewBox=\"0 0 24 24\"\n",
              "     width=\"24px\">\n",
              "    <g>\n",
              "        <path d=\"M19 3H5c-1.1 0-2 .9-2 2v14c0 1.1.9 2 2 2h14c1.1 0 2-.9 2-2V5c0-1.1-.9-2-2-2zM9 17H7v-7h2v7zm4 0h-2V7h2v10zm4 0h-2v-4h2v4z\"/>\n",
              "    </g>\n",
              "</svg>\n",
              "      </button>\n",
              "\n",
              "<style>\n",
              "  .colab-df-quickchart {\n",
              "      --bg-color: #E8F0FE;\n",
              "      --fill-color: #1967D2;\n",
              "      --hover-bg-color: #E2EBFA;\n",
              "      --hover-fill-color: #174EA6;\n",
              "      --disabled-fill-color: #AAA;\n",
              "      --disabled-bg-color: #DDD;\n",
              "  }\n",
              "\n",
              "  [theme=dark] .colab-df-quickchart {\n",
              "      --bg-color: #3B4455;\n",
              "      --fill-color: #D2E3FC;\n",
              "      --hover-bg-color: #434B5C;\n",
              "      --hover-fill-color: #FFFFFF;\n",
              "      --disabled-bg-color: #3B4455;\n",
              "      --disabled-fill-color: #666;\n",
              "  }\n",
              "\n",
              "  .colab-df-quickchart {\n",
              "    background-color: var(--bg-color);\n",
              "    border: none;\n",
              "    border-radius: 50%;\n",
              "    cursor: pointer;\n",
              "    display: none;\n",
              "    fill: var(--fill-color);\n",
              "    height: 32px;\n",
              "    padding: 0;\n",
              "    width: 32px;\n",
              "  }\n",
              "\n",
              "  .colab-df-quickchart:hover {\n",
              "    background-color: var(--hover-bg-color);\n",
              "    box-shadow: 0 1px 2px rgba(60, 64, 67, 0.3), 0 1px 3px 1px rgba(60, 64, 67, 0.15);\n",
              "    fill: var(--button-hover-fill-color);\n",
              "  }\n",
              "\n",
              "  .colab-df-quickchart-complete:disabled,\n",
              "  .colab-df-quickchart-complete:disabled:hover {\n",
              "    background-color: var(--disabled-bg-color);\n",
              "    fill: var(--disabled-fill-color);\n",
              "    box-shadow: none;\n",
              "  }\n",
              "\n",
              "  .colab-df-spinner {\n",
              "    border: 2px solid var(--fill-color);\n",
              "    border-color: transparent;\n",
              "    border-bottom-color: var(--fill-color);\n",
              "    animation:\n",
              "      spin 1s steps(1) infinite;\n",
              "  }\n",
              "\n",
              "  @keyframes spin {\n",
              "    0% {\n",
              "      border-color: transparent;\n",
              "      border-bottom-color: var(--fill-color);\n",
              "      border-left-color: var(--fill-color);\n",
              "    }\n",
              "    20% {\n",
              "      border-color: transparent;\n",
              "      border-left-color: var(--fill-color);\n",
              "      border-top-color: var(--fill-color);\n",
              "    }\n",
              "    30% {\n",
              "      border-color: transparent;\n",
              "      border-left-color: var(--fill-color);\n",
              "      border-top-color: var(--fill-color);\n",
              "      border-right-color: var(--fill-color);\n",
              "    }\n",
              "    40% {\n",
              "      border-color: transparent;\n",
              "      border-right-color: var(--fill-color);\n",
              "      border-top-color: var(--fill-color);\n",
              "    }\n",
              "    60% {\n",
              "      border-color: transparent;\n",
              "      border-right-color: var(--fill-color);\n",
              "    }\n",
              "    80% {\n",
              "      border-color: transparent;\n",
              "      border-right-color: var(--fill-color);\n",
              "      border-bottom-color: var(--fill-color);\n",
              "    }\n",
              "    90% {\n",
              "      border-color: transparent;\n",
              "      border-bottom-color: var(--fill-color);\n",
              "    }\n",
              "  }\n",
              "</style>\n",
              "\n",
              "      <script>\n",
              "        async function quickchart(key) {\n",
              "          const quickchartButtonEl =\n",
              "            document.querySelector('#' + key + ' button');\n",
              "          quickchartButtonEl.disabled = true;  // To prevent multiple clicks.\n",
              "          quickchartButtonEl.classList.add('colab-df-spinner');\n",
              "          try {\n",
              "            const charts = await google.colab.kernel.invokeFunction(\n",
              "                'suggestCharts', [key], {});\n",
              "          } catch (error) {\n",
              "            console.error('Error during call to suggestCharts:', error);\n",
              "          }\n",
              "          quickchartButtonEl.classList.remove('colab-df-spinner');\n",
              "          quickchartButtonEl.classList.add('colab-df-quickchart-complete');\n",
              "        }\n",
              "        (() => {\n",
              "          let quickchartButtonEl =\n",
              "            document.querySelector('#df-f01427bb-3818-4f4b-9932-9b7f932fd90f button');\n",
              "          quickchartButtonEl.style.display =\n",
              "            google.colab.kernel.accessAllowed ? 'block' : 'none';\n",
              "        })();\n",
              "      </script>\n",
              "    </div>\n",
              "\n",
              "    </div>\n",
              "  </div>\n"
            ],
            "application/vnd.google.colaboratory.intrinsic+json": {
              "type": "dataframe",
              "variable_name": "stores",
              "summary": "{\n  \"name\": \"stores\",\n  \"rows\": 35,\n  \"fields\": [\n    {\n      \"column\": \"Store ID\",\n      \"properties\": {\n        \"dtype\": \"number\",\n        \"std\": 10,\n        \"min\": 1,\n        \"max\": 35,\n        \"num_unique_values\": 35,\n        \"samples\": [\n          27,\n          14,\n          25\n        ],\n        \"semantic_type\": \"\",\n        \"description\": \"\"\n      }\n    },\n    {\n      \"column\": \"Country\",\n      \"properties\": {\n        \"dtype\": \"category\",\n        \"num_unique_values\": 7,\n        \"samples\": [\n          \"United States\",\n          \"\\u4e2d\\u56fd\",\n          \"Espa\\u00f1a\"\n        ],\n        \"semantic_type\": \"\",\n        \"description\": \"\"\n      }\n    },\n    {\n      \"column\": \"City\",\n      \"properties\": {\n        \"dtype\": \"string\",\n        \"num_unique_values\": 35,\n        \"samples\": [\n          \"Barcelona\",\n          \"K\\u00f6ln\",\n          \"Nice\"\n        ],\n        \"semantic_type\": \"\",\n        \"description\": \"\"\n      }\n    },\n    {\n      \"column\": \"Store Name\",\n      \"properties\": {\n        \"dtype\": \"string\",\n        \"num_unique_values\": 35,\n        \"samples\": [\n          \"Store Barcelona\",\n          \"Store K\\u00f6ln\",\n          \"Store Nice\"\n        ],\n        \"semantic_type\": \"\",\n        \"description\": \"\"\n      }\n    },\n    {\n      \"column\": \"Number of Employees\",\n      \"properties\": {\n        \"dtype\": \"number\",\n        \"std\": 1,\n        \"min\": 7,\n        \"max\": 10,\n        \"num_unique_values\": 4,\n        \"samples\": [\n          8,\n          7,\n          10\n        ],\n        \"semantic_type\": \"\",\n        \"description\": \"\"\n      }\n    },\n    {\n      \"column\": \"ZIP Code\",\n      \"properties\": {\n        \"dtype\": \"string\",\n        \"num_unique_values\": 35,\n        \"samples\": [\n          \"08001\",\n          \"50667\",\n          \"06000\"\n        ],\n        \"semantic_type\": \"\",\n        \"description\": \"\"\n      }\n    },\n    {\n      \"column\": \"Latitude\",\n      \"properties\": {\n        \"dtype\": \"number\",\n        \"std\": 8.489386100433602,\n        \"min\": 22.5429,\n        \"max\": 55.858,\n        \"num_unique_values\": 35,\n        \"samples\": [\n          41.387,\n          50.938,\n          43.7\n        ],\n        \"semantic_type\": \"\",\n        \"description\": \"\"\n      }\n    },\n    {\n      \"column\": \"Longitude\",\n      \"properties\": {\n        \"dtype\": \"number\",\n        \"std\": 58.19736800978577,\n        \"min\": -118.2437,\n        \"max\": 121.4737,\n        \"num_unique_values\": 35,\n        \"samples\": [\n          2.1682,\n          6.9578,\n          7.2684\n        ],\n        \"semantic_type\": \"\",\n        \"description\": \"\"\n      }\n    }\n  ]\n}"
            }
          },
          "metadata": {},
          "execution_count": 21
        }
      ]
    },
    {
      "cell_type": "markdown",
      "source": [
        "Untuk dataset Stores, lebih mengarah kepada data toko retail seperti dimana negara dan kota toko itu berada, jumlah karyawan, ataupun zip code daerah."
      ],
      "metadata": {
        "id": "hj6X7QNQnZGs"
      }
    },
    {
      "cell_type": "code",
      "source": [
        "print('Jumlah data pelanggan: ', len(stores['Store Name'].unique()))\n",
        "print(stores['Store Name'].unique())"
      ],
      "metadata": {
        "id": "51Q3f4BpwdnX",
        "colab": {
          "base_uri": "https://localhost:8080/"
        },
        "outputId": "017330b7-5219-46eb-9bd0-0273c1572e76"
      },
      "execution_count": 22,
      "outputs": [
        {
          "output_type": "stream",
          "name": "stdout",
          "text": [
            "Jumlah data pelanggan:  35\n",
            "['Store New York' 'Store Los Angeles' 'Store Chicago' 'Store Houston'\n",
            " 'Store Phoenix' 'Store 上海' 'Store 北京' 'Store 广州' 'Store 深圳' 'Store 重庆'\n",
            " 'Store Berlin' 'Store Hamburg' 'Store München' 'Store Köln'\n",
            " 'Store Frankfurt am Main' 'Store London' 'Store Birmingham'\n",
            " 'Store Glasgow' 'Store Liverpool' 'Store Bristol' 'Store Paris'\n",
            " 'Store Marseille' 'Store Lyon' 'Store Toulouse' 'Store Nice'\n",
            " 'Store Madrid' 'Store Barcelona' 'Store Valencia' 'Store Sevilla'\n",
            " 'Store Zaragoza' 'Store Lisboa' 'Store Porto' 'Store Braga'\n",
            " 'Store Guimarães' 'Store Coimbra']\n"
          ]
        }
      ]
    },
    {
      "cell_type": "markdown",
      "source": [
        "Sekitar 35 toko yang telah didata"
      ],
      "metadata": {
        "id": "NV92kdeZnbOK"
      }
    },
    {
      "cell_type": "code",
      "source": [
        "stores.info()"
      ],
      "metadata": {
        "id": "hwJrrsOo2CKY",
        "colab": {
          "base_uri": "https://localhost:8080/"
        },
        "outputId": "59cc421b-1afe-468b-9b21-086ac72fe0c6"
      },
      "execution_count": 23,
      "outputs": [
        {
          "output_type": "stream",
          "name": "stdout",
          "text": [
            "<class 'pandas.core.frame.DataFrame'>\n",
            "RangeIndex: 35 entries, 0 to 34\n",
            "Data columns (total 8 columns):\n",
            " #   Column               Non-Null Count  Dtype  \n",
            "---  ------               --------------  -----  \n",
            " 0   Store ID             35 non-null     int64  \n",
            " 1   Country              35 non-null     object \n",
            " 2   City                 35 non-null     object \n",
            " 3   Store Name           35 non-null     object \n",
            " 4   Number of Employees  35 non-null     int64  \n",
            " 5   ZIP Code             35 non-null     object \n",
            " 6   Latitude             35 non-null     float64\n",
            " 7   Longitude            35 non-null     float64\n",
            "dtypes: float64(2), int64(2), object(4)\n",
            "memory usage: 2.3+ KB\n"
          ]
        }
      ]
    },
    {
      "cell_type": "markdown",
      "source": [
        "Dari informasi yang diberikan, bisa dilihat bahwa setiap tipe data sudah baik, dan sesuai."
      ],
      "metadata": {
        "id": "egVjFURsneQR"
      }
    },
    {
      "cell_type": "code",
      "source": [
        "stores.Country.unique()"
      ],
      "metadata": {
        "id": "i20YUH_RGtft",
        "colab": {
          "base_uri": "https://localhost:8080/"
        },
        "outputId": "eaa40f9c-d6ba-43d1-bac0-17107a1483fa"
      },
      "execution_count": 24,
      "outputs": [
        {
          "output_type": "execute_result",
          "data": {
            "text/plain": [
              "array(['United States', '中国', 'Deutschland', 'United Kingdom', 'France',\n",
              "       'España', 'Portugal'], dtype=object)"
            ]
          },
          "metadata": {},
          "execution_count": 24
        }
      ]
    },
    {
      "cell_type": "code",
      "source": [
        "# Mapping nama negara agar semuanya pakai Latin characters\n",
        "country_map = {\n",
        "    'United States': 'United States',\n",
        "    '中国': 'China',\n",
        "    'Deutschland': 'Germany',\n",
        "    'United Kingdom': 'United Kingdom',\n",
        "    'France': 'France',\n",
        "    'España': 'Spain',\n",
        "    'Portugal': 'Portugal'\n",
        "}\n",
        "\n",
        "# Buat kolom baru hasil mapping\n",
        "stores['Country_English'] = stores['Country'].map(country_map)\n",
        "\n",
        "# Plot menggunakan kolom Country_English\n",
        "sns.countplot(data=stores, x='Country_English', order=stores['Country_English'].value_counts().index)\n",
        "plt.title(\"Jumlah Toko per Negara\")\n",
        "plt.xticks(rotation=45)\n",
        "plt.show()\n"
      ],
      "metadata": {
        "id": "6VVkC--nGpqq",
        "colab": {
          "base_uri": "https://localhost:8080/",
          "height": 547
        },
        "outputId": "fc3c0bf0-5771-4c74-cff8-3d438b17f72b"
      },
      "execution_count": 25,
      "outputs": [
        {
          "output_type": "display_data",
          "data": {
            "text/plain": [
              "<Figure size 640x480 with 1 Axes>"
            ],
            "image/png": "[encoded data removed]"
          },
          "metadata": {}
        }
      ]
    },
    {
      "cell_type": "markdown",
      "source": [
        "Penetapan langsung nama negara dari setiap toko, itu bertujuan agar mengurangi ketidak jelasan pada nama, terutama untuk nama china yang tidak akan dikenali oleh Colab, sehingga secara manual melakukan penamaan negara bisa mengurangi eror yang terjadi pada penamaan."
      ],
      "metadata": {
        "id": "UJnLWmM-ngrZ"
      }
    },
    {
      "cell_type": "markdown",
      "source": [
        "## **Transactions**"
      ],
      "metadata": {
        "id": "NmX_0K63qvXK"
      }
    },
    {
      "cell_type": "code",
      "source": [
        "transactions.head()"
      ],
      "metadata": {
        "id": "rCUTATXRnzOm",
        "colab": {
          "base_uri": "https://localhost:8080/",
          "height": 417
        },
        "outputId": "cb1decfe-d470-4ed7-8605-1fd9e86ec6fa"
      },
      "execution_count": 26,
      "outputs": [
        {
          "output_type": "execute_result",
          "data": {
            "text/plain": [
              "            Invoice ID  Line  Customer ID  Product ID Size    Color  \\\n",
              "0  INV-US-001-03558761     1        47162         485    M      NaN   \n",
              "1  INV-US-001-03558761     2        47162        2779    G      NaN   \n",
              "2  INV-US-001-03558761     3        47162          64    M  NEUTRAL   \n",
              "3  INV-US-001-03558762     1        10142         131    M     BLUE   \n",
              "4  INV-US-001-03558762     2        10142         716    L    WHITE   \n",
              "\n",
              "   Unit Price  Quantity                 Date  Discount  Line Total  Store ID  \\\n",
              "0        80.5         1  2023-01-01 15:42:00       0.0        80.5         1   \n",
              "1        31.5         1  2023-01-01 15:42:00       0.4        18.9         1   \n",
              "2        45.5         1  2023-01-01 15:42:00       0.4        27.3         1   \n",
              "3        70.0         1  2023-01-01 20:04:00       0.4        42.0         1   \n",
              "4        26.0         1  2023-01-01 20:04:00       0.0        26.0         1   \n",
              "\n",
              "   Employee ID Currency Currency Symbol               SKU Transaction Type  \\\n",
              "0            7      USD               $        MASU485-M-             Sale   \n",
              "1            7      USD               $       CHCO2779-G-             Sale   \n",
              "2            7      USD               $  MACO64-M-NEUTRAL             Sale   \n",
              "3            6      USD               $    FECO131-M-BLUE             Sale   \n",
              "4            6      USD               $   MAT-716-L-WHITE             Sale   \n",
              "\n",
              "  Payment Method  Invoice Total  \n",
              "0           Cash          126.7  \n",
              "1           Cash          126.7  \n",
              "2           Cash          126.7  \n",
              "3           Cash           77.0  \n",
              "4           Cash           77.0  "
            ],
            "text/html": [
              "\n",
              "  <div id=\"df-a106d68a-d7b3-4aa4-883f-9a28854877ac\" class=\"colab-df-container\">\n",
              "    <div>\n",
              "<style scoped>\n",
              "    .dataframe tbody tr th:only-of-type {\n",
              "        vertical-align: middle;\n",
              "    }\n",
              "\n",
              "    .dataframe tbody tr th {\n",
              "        vertical-align: top;\n",
              "    }\n",
              "\n",
              "    .dataframe thead th {\n",
              "        text-align: right;\n",
              "    }\n",
              "</style>\n",
              "<table border=\"1\" class=\"dataframe\">\n",
              "  <thead>\n",
              "    <tr style=\"text-align: right;\">\n",
              "      <th></th>\n",
              "      <th>Invoice ID</th>\n",
              "      <th>Line</th>\n",
              "      <th>Customer ID</th>\n",
              "      <th>Product ID</th>\n",
              "      <th>Size</th>\n",
              "      <th>Color</th>\n",
              "      <th>Unit Price</th>\n",
              "      <th>Quantity</th>\n",
              "      <th>Date</th>\n",
              "      <th>Discount</th>\n",
              "      <th>Line Total</th>\n",
              "      <th>Store ID</th>\n",
              "      <th>Employee ID</th>\n",
              "      <th>Currency</th>\n",
              "      <th>Currency Symbol</th>\n",
              "      <th>SKU</th>\n",
              "      <th>Transaction Type</th>\n",
              "      <th>Payment Method</th>\n",
              "      <th>Invoice Total</th>\n",
              "    </tr>\n",
              "  </thead>\n",
              "  <tbody>\n",
              "    <tr>\n",
              "      <th>0</th>\n",
              "      <td>INV-US-001-03558761</td>\n",
              "      <td>1</td>\n",
              "      <td>47162</td>\n",
              "      <td>485</td>\n",
              "      <td>M</td>\n",
              "      <td>NaN</td>\n",
              "      <td>80.5</td>\n",
              "      <td>1</td>\n",
              "      <td>2023-01-01 15:42:00</td>\n",
              "      <td>0.0</td>\n",
              "      <td>80.5</td>\n",
              "      <td>1</td>\n",
              "      <td>7</td>\n",
              "      <td>USD</td>\n",
              "      <td>$</td>\n",
              "      <td>MASU485-M-</td>\n",
              "      <td>Sale</td>\n",
              "      <td>Cash</td>\n",
              "      <td>126.7</td>\n",
              "    </tr>\n",
              "    <tr>\n",
              "      <th>1</th>\n",
              "      <td>INV-US-001-03558761</td>\n",
              "      <td>2</td>\n",
              "      <td>47162</td>\n",
              "      <td>2779</td>\n",
              "      <td>G</td>\n",
              "      <td>NaN</td>\n",
              "      <td>31.5</td>\n",
              "      <td>1</td>\n",
              "      <td>2023-01-01 15:42:00</td>\n",
              "      <td>0.4</td>\n",
              "      <td>18.9</td>\n",
              "      <td>1</td>\n",
              "      <td>7</td>\n",
              "      <td>USD</td>\n",
              "      <td>$</td>\n",
              "      <td>CHCO2779-G-</td>\n",
              "      <td>Sale</td>\n",
              "      <td>Cash</td>\n",
              "      <td>126.7</td>\n",
              "    </tr>\n",
              "    <tr>\n",
              "      <th>2</th>\n",
              "      <td>INV-US-001-03558761</td>\n",
              "      <td>3</td>\n",
              "      <td>47162</td>\n",
              "      <td>64</td>\n",
              "      <td>M</td>\n",
              "      <td>NEUTRAL</td>\n",
              "      <td>45.5</td>\n",
              "      <td>1</td>\n",
              "      <td>2023-01-01 15:42:00</td>\n",
              "      <td>0.4</td>\n",
              "      <td>27.3</td>\n",
              "      <td>1</td>\n",
              "      <td>7</td>\n",
              "      <td>USD</td>\n",
              "      <td>$</td>\n",
              "      <td>MACO64-M-NEUTRAL</td>\n",
              "      <td>Sale</td>\n",
              "      <td>Cash</td>\n",
              "      <td>126.7</td>\n",
              "    </tr>\n",
              "    <tr>\n",
              "      <th>3</th>\n",
              "      <td>INV-US-001-03558762</td>\n",
              "      <td>1</td>\n",
              "      <td>10142</td>\n",
              "      <td>131</td>\n",
              "      <td>M</td>\n",
              "      <td>BLUE</td>\n",
              "      <td>70.0</td>\n",
              "      <td>1</td>\n",
              "      <td>2023-01-01 20:04:00</td>\n",
              "      <td>0.4</td>\n",
              "      <td>42.0</td>\n",
              "      <td>1</td>\n",
              "      <td>6</td>\n",
              "      <td>USD</td>\n",
              "      <td>$</td>\n",
              "      <td>FECO131-M-BLUE</td>\n",
              "      <td>Sale</td>\n",
              "      <td>Cash</td>\n",
              "      <td>77.0</td>\n",
              "    </tr>\n",
              "    <tr>\n",
              "      <th>4</th>\n",
              "      <td>INV-US-001-03558762</td>\n",
              "      <td>2</td>\n",
              "      <td>10142</td>\n",
              "      <td>716</td>\n",
              "      <td>L</td>\n",
              "      <td>WHITE</td>\n",
              "      <td>26.0</td>\n",
              "      <td>1</td>\n",
              "      <td>2023-01-01 20:04:00</td>\n",
              "      <td>0.0</td>\n",
              "      <td>26.0</td>\n",
              "      <td>1</td>\n",
              "      <td>6</td>\n",
              "      <td>USD</td>\n",
              "      <td>$</td>\n",
              "      <td>MAT-716-L-WHITE</td>\n",
              "      <td>Sale</td>\n",
              "      <td>Cash</td>\n",
              "      <td>77.0</td>\n",
              "    </tr>\n",
              "  </tbody>\n",
              "</table>\n",
              "</div>\n",
              "    <div class=\"colab-df-buttons\">\n",
              "\n",
              "  <div class=\"colab-df-container\">\n",
              "    <button class=\"colab-df-convert\" onclick=\"convertToInteractive('df-a106d68a-d7b3-4aa4-883f-9a28854877ac')\"\n",
              "            title=\"Convert this dataframe to an interactive table.\"\n",
              "            style=\"display:none;\">\n",
              "\n",
              "  <svg xmlns=\"http://www.w3.org/2000/svg\" height=\"24px\" viewBox=\"0 -960 960 960\">\n",
              "    <path d=\"M120-120v-720h720v720H120Zm60-500h600v-160H180v160Zm220 220h160v-160H400v160Zm0 220h160v-160H400v160ZM180-400h160v-160H180v160Zm440 0h160v-160H620v160ZM180-180h160v-160H180v160Zm440 0h160v-160H620v160Z\"/>\n",
              "  </svg>\n",
              "    </button>\n",
              "\n",
              "  <style>\n",
              "    .colab-df-container {\n",
              "      display:flex;\n",
              "      gap: 12px;\n",
              "    }\n",
              "\n",
              "    .colab-df-convert {\n",
              "      background-color: #E8F0FE;\n",
              "      border: none;\n",
              "      border-radius: 50%;\n",
              "      cursor: pointer;\n",
              "      display: none;\n",
              "      fill: #1967D2;\n",
              "      height: 32px;\n",
              "      padding: 0 0 0 0;\n",
              "      width: 32px;\n",
              "    }\n",
              "\n",
              "    .colab-df-convert:hover {\n",
              "      background-color: #E2EBFA;\n",
              "      box-shadow: 0px 1px 2px rgba(60, 64, 67, 0.3), 0px 1px 3px 1px rgba(60, 64, 67, 0.15);\n",
              "      fill: #174EA6;\n",
              "    }\n",
              "\n",
              "    .colab-df-buttons div {\n",
              "      margin-bottom: 4px;\n",
              "    }\n",
              "\n",
              "    [theme=dark] .colab-df-convert {\n",
              "      background-color: #3B4455;\n",
              "      fill: #D2E3FC;\n",
              "    }\n",
              "\n",
              "    [theme=dark] .colab-df-convert:hover {\n",
              "      background-color: #434B5C;\n",
              "      box-shadow: 0px 1px 3px 1px rgba(0, 0, 0, 0.15);\n",
              "      filter: drop-shadow(0px 1px 2px rgba(0, 0, 0, 0.3));\n",
              "      fill: #FFFFFF;\n",
              "    }\n",
              "  </style>\n",
              "\n",
              "    <script>\n",
              "      const buttonEl =\n",
              "        document.querySelector('#df-a106d68a-d7b3-4aa4-883f-9a28854877ac button.colab-df-convert');\n",
              "      buttonEl.style.display =\n",
              "        google.colab.kernel.accessAllowed ? 'block' : 'none';\n",
              "\n",
              "      async function convertToInteractive(key) {\n",
              "        const element = document.querySelector('#df-a106d68a-d7b3-4aa4-883f-9a28854877ac');\n",
              "        const dataTable =\n",
              "          await google.colab.kernel.invokeFunction('convertToInteractive',\n",
              "                                                    [key], {});\n",
              "        if (!dataTable) return;\n",
              "\n",
              "        const docLinkHtml = 'Like what you see? Visit the ' +\n",
              "          '<a target=\"_blank\" href=https://colab.research.google.com/notebooks/data_table.ipynb>data table notebook</a>'\n",
              "          + ' to learn more about interactive tables.';\n",
              "        element.innerHTML = '';\n",
              "        dataTable['output_type'] = 'display_data';\n",
              "        await google.colab.output.renderOutput(dataTable, element);\n",
              "        const docLink = document.createElement('div');\n",
              "        docLink.innerHTML = docLinkHtml;\n",
              "        element.appendChild(docLink);\n",
              "      }\n",
              "    </script>\n",
              "  </div>\n",
              "\n",
              "\n",
              "    <div id=\"df-32fff9e9-6b54-4441-a1d7-bf29eda4b2de\">\n",
              "      <button class=\"colab-df-quickchart\" onclick=\"quickchart('df-32fff9e9-6b54-4441-a1d7-bf29eda4b2de')\"\n",
              "                title=\"Suggest charts\"\n",
              "                style=\"display:none;\">\n",
              "\n",
              "<svg xmlns=\"http://www.w3.org/2000/svg\" height=\"24px\"viewBox=\"0 0 24 24\"\n",
              "     width=\"24px\">\n",
              "    <g>\n",
              "        <path d=\"M19 3H5c-1.1 0-2 .9-2 2v14c0 1.1.9 2 2 2h14c1.1 0 2-.9 2-2V5c0-1.1-.9-2-2-2zM9 17H7v-7h2v7zm4 0h-2V7h2v10zm4 0h-2v-4h2v4z\"/>\n",
              "    </g>\n",
              "</svg>\n",
              "      </button>\n",
              "\n",
              "<style>\n",
              "  .colab-df-quickchart {\n",
              "      --bg-color: #E8F0FE;\n",
              "      --fill-color: #1967D2;\n",
              "      --hover-bg-color: #E2EBFA;\n",
              "      --hover-fill-color: #174EA6;\n",
              "      --disabled-fill-color: #AAA;\n",
              "      --disabled-bg-color: #DDD;\n",
              "  }\n",
              "\n",
              "  [theme=dark] .colab-df-quickchart {\n",
              "      --bg-color: #3B4455;\n",
              "      --fill-color: #D2E3FC;\n",
              "      --hover-bg-color: #434B5C;\n",
              "      --hover-fill-color: #FFFFFF;\n",
              "      --disabled-bg-color: #3B4455;\n",
              "      --disabled-fill-color: #666;\n",
              "  }\n",
              "\n",
              "  .colab-df-quickchart {\n",
              "    background-color: var(--bg-color);\n",
              "    border: none;\n",
              "    border-radius: 50%;\n",
              "    cursor: pointer;\n",
              "    display: none;\n",
              "    fill: var(--fill-color);\n",
              "    height: 32px;\n",
              "    padding: 0;\n",
              "    width: 32px;\n",
              "  }\n",
              "\n",
              "  .colab-df-quickchart:hover {\n",
              "    background-color: var(--hover-bg-color);\n",
              "    box-shadow: 0 1px 2px rgba(60, 64, 67, 0.3), 0 1px 3px 1px rgba(60, 64, 67, 0.15);\n",
              "    fill: var(--button-hover-fill-color);\n",
              "  }\n",
              "\n",
              "  .colab-df-quickchart-complete:disabled,\n",
              "  .colab-df-quickchart-complete:disabled:hover {\n",
              "    background-color: var(--disabled-bg-color);\n",
              "    fill: var(--disabled-fill-color);\n",
              "    box-shadow: none;\n",
              "  }\n",
              "\n",
              "  .colab-df-spinner {\n",
              "    border: 2px solid var(--fill-color);\n",
              "    border-color: transparent;\n",
              "    border-bottom-color: var(--fill-color);\n",
              "    animation:\n",
              "      spin 1s steps(1) infinite;\n",
              "  }\n",
              "\n",
              "  @keyframes spin {\n",
              "    0% {\n",
              "      border-color: transparent;\n",
              "      border-bottom-color: var(--fill-color);\n",
              "      border-left-color: var(--fill-color);\n",
              "    }\n",
              "    20% {\n",
              "      border-color: transparent;\n",
              "      border-left-color: var(--fill-color);\n",
              "      border-top-color: var(--fill-color);\n",
              "    }\n",
              "    30% {\n",
              "      border-color: transparent;\n",
              "      border-left-color: var(--fill-color);\n",
              "      border-top-color: var(--fill-color);\n",
              "      border-right-color: var(--fill-color);\n",
              "    }\n",
              "    40% {\n",
              "      border-color: transparent;\n",
              "      border-right-color: var(--fill-color);\n",
              "      border-top-color: var(--fill-color);\n",
              "    }\n",
              "    60% {\n",
              "      border-color: transparent;\n",
              "      border-right-color: var(--fill-color);\n",
              "    }\n",
              "    80% {\n",
              "      border-color: transparent;\n",
              "      border-right-color: var(--fill-color);\n",
              "      border-bottom-color: var(--fill-color);\n",
              "    }\n",
              "    90% {\n",
              "      border-color: transparent;\n",
              "      border-bottom-color: var(--fill-color);\n",
              "    }\n",
              "  }\n",
              "</style>\n",
              "\n",
              "      <script>\n",
              "        async function quickchart(key) {\n",
              "          const quickchartButtonEl =\n",
              "            document.querySelector('#' + key + ' button');\n",
              "          quickchartButtonEl.disabled = true;  // To prevent multiple clicks.\n",
              "          quickchartButtonEl.classList.add('colab-df-spinner');\n",
              "          try {\n",
              "            const charts = await google.colab.kernel.invokeFunction(\n",
              "                'suggestCharts', [key], {});\n",
              "          } catch (error) {\n",
              "            console.error('Error during call to suggestCharts:', error);\n",
              "          }\n",
              "          quickchartButtonEl.classList.remove('colab-df-spinner');\n",
              "          quickchartButtonEl.classList.add('colab-df-quickchart-complete');\n",
              "        }\n",
              "        (() => {\n",
              "          let quickchartButtonEl =\n",
              "            document.querySelector('#df-32fff9e9-6b54-4441-a1d7-bf29eda4b2de button');\n",
              "          quickchartButtonEl.style.display =\n",
              "            google.colab.kernel.accessAllowed ? 'block' : 'none';\n",
              "        })();\n",
              "      </script>\n",
              "    </div>\n",
              "\n",
              "    </div>\n",
              "  </div>\n"
            ],
            "application/vnd.google.colaboratory.intrinsic+json": {
              "type": "dataframe",
              "variable_name": "transactions"
            }
          },
          "metadata": {},
          "execution_count": 26
        }
      ]
    },
    {
      "cell_type": "code",
      "source": [
        "print('Jumlah data pelanggan: ', len(transactions['Invoice ID'].unique()))"
      ],
      "metadata": {
        "id": "YlWSKb3mw1Ee",
        "colab": {
          "base_uri": "https://localhost:8080/"
        },
        "outputId": "3e4dfb81-0c31-417f-b309-677e2d96a1f6"
      },
      "execution_count": 27,
      "outputs": [
        {
          "output_type": "stream",
          "name": "stdout",
          "text": [
            "Jumlah data pelanggan:  4540404\n"
          ]
        }
      ]
    },
    {
      "cell_type": "markdown",
      "source": [
        "Penamaan dataset transaksi berkisar 4,5 juta transaksi yang bisa di telaah dengan baik. Perhitungan ini dilakukan dengan menghitung Invoice ID agar bisa secara unik menghitung transaksi yang telah dilakukan"
      ],
      "metadata": {
        "id": "Wb-ALZaonkHu"
      }
    },
    {
      "cell_type": "code",
      "source": [
        "transactions.info()"
      ],
      "metadata": {
        "id": "dG6dD8sC2H1G",
        "colab": {
          "base_uri": "https://localhost:8080/"
        },
        "outputId": "05838f3f-4f42-4d73-fe00-0503845dccea"
      },
      "execution_count": 28,
      "outputs": [
        {
          "output_type": "stream",
          "name": "stdout",
          "text": [
            "<class 'pandas.core.frame.DataFrame'>\n",
            "RangeIndex: 6416827 entries, 0 to 6416826\n",
            "Data columns (total 19 columns):\n",
            " #   Column            Dtype  \n",
            "---  ------            -----  \n",
            " 0   Invoice ID        object \n",
            " 1   Line              int64  \n",
            " 2   Customer ID       int64  \n",
            " 3   Product ID        int64  \n",
            " 4   Size              object \n",
            " 5   Color             object \n",
            " 6   Unit Price        float64\n",
            " 7   Quantity          int64  \n",
            " 8   Date              object \n",
            " 9   Discount          float64\n",
            " 10  Line Total        float64\n",
            " 11  Store ID          int64  \n",
            " 12  Employee ID       int64  \n",
            " 13  Currency          object \n",
            " 14  Currency Symbol   object \n",
            " 15  SKU               object \n",
            " 16  Transaction Type  object \n",
            " 17  Payment Method    object \n",
            " 18  Invoice Total     float64\n",
            "dtypes: float64(4), int64(6), object(9)\n",
            "memory usage: 930.2+ MB\n"
          ]
        }
      ]
    },
    {
      "cell_type": "markdown",
      "source": [
        "Untuk data transaksi terdiri dari 19 kolom yang semuanya berkaitan dengan transaksi yang dilakukan oleh customer."
      ],
      "metadata": {
        "id": "tn-dsGignmEy"
      }
    },
    {
      "cell_type": "code",
      "source": [
        "# Distribusi Metode Pembayaran\n",
        "sns.countplot(data=transactions, x='Payment Method', order=transactions['Payment Method'].value_counts().index)\n",
        "plt.title(\"Distribusi Metode Pembayaran\")\n",
        "plt.show()"
      ],
      "metadata": {
        "id": "7b8NtcB3wuMj",
        "colab": {
          "base_uri": "https://localhost:8080/",
          "height": 472
        },
        "outputId": "a8c1b414-5f9f-4852-c4c1-11ed45d6d74e"
      },
      "execution_count": 29,
      "outputs": [
        {
          "output_type": "display_data",
          "data": {
            "text/plain": [
              "<Figure size 640x480 with 1 Axes>"
            ],
            "image/png": "[encoded data removed]"
          },
          "metadata": {}
        }
      ]
    },
    {
      "cell_type": "markdown",
      "source": [
        "Untuk distribusi metode pembayaran, credit card disini sangat mendominasi metode pembayaran yang dilakukan. Sedangkan untuk metode pembayaran cash sendiri, tidak sampai 30% dari total pembayaran"
      ],
      "metadata": {
        "id": "42dwj5Mmntmp"
      }
    },
    {
      "cell_type": "code",
      "source": [
        "# Distribusi Tipe Transaksi\n",
        "sns.countplot(data=transactions, x='Transaction Type')\n",
        "plt.title(\"Distribusi Sales and Return\")\n",
        "plt.show()"
      ],
      "metadata": {
        "id": "0sV-KCSVwwTK",
        "colab": {
          "base_uri": "https://localhost:8080/",
          "height": 472
        },
        "outputId": "5d82c2b1-1d34-4d15-ece7-6f96d08e4f9a"
      },
      "execution_count": 30,
      "outputs": [
        {
          "output_type": "display_data",
          "data": {
            "text/plain": [
              "<Figure size 640x480 with 1 Axes>"
            ],
            "image/png": "[encoded data removed]"
          },
          "metadata": {}
        }
      ]
    },
    {
      "cell_type": "markdown",
      "source": [
        "Lalu, dari grafik ini, bisa kita lihat bahwa barang yang dikembalikan sangat sedikit."
      ],
      "metadata": {
        "id": "x8rzLuOan0G1"
      }
    },
    {
      "cell_type": "code",
      "source": [
        "# Ubah kolom 'Date' menjadi datetime\n",
        "transactions['Date'] = pd.to_datetime(transactions['Date'])\n",
        "\n",
        "# Penjualan Harian\n",
        "daily_sales = transactions.groupby(transactions['Date'].dt.date)['Line Total'].sum().reset_index()\n",
        "\n",
        "# Visualisasi\n",
        "plt.figure(figsize=(12, 6))\n",
        "sns.lineplot(data=daily_sales, x='Date', y='Line Total')\n",
        "plt.title(\"Total Penjualan per Hari\")\n",
        "plt.xlabel(\"Tanggal\")\n",
        "plt.ylabel(\"Total Penjualan\")\n",
        "plt.xticks(rotation=45)\n",
        "plt.tight_layout()\n",
        "plt.show()\n"
      ],
      "metadata": {
        "id": "4aug_mlOwzG4",
        "colab": {
          "base_uri": "https://localhost:8080/",
          "height": 533
        },
        "outputId": "24f00d23-db57-4602-a316-f6634bfdadc1"
      },
      "execution_count": 31,
      "outputs": [
        {
          "output_type": "display_data",
          "data": {
            "text/plain": [
              "<Figure size 1200x600 with 1 Axes>"
            ],
            "image/png": "[encoded data removed]"
          },
          "metadata": {}
        }
      ]
    },
    {
      "cell_type": "markdown",
      "source": [
        "Kita bisa melihat bahwa terjadi beberapa lonjakan penjualan, terutama untuk yang berdekatan dengan januari (sebelum januari tahun depan) yang mengindikasikan berdekatan dengan natal, penjualan fashion meningkat cukup signifikan"
      ],
      "metadata": {
        "id": "iastnx1Gn2Yl"
      }
    },
    {
      "cell_type": "code",
      "source": [
        "# Korelasi Numerik\n",
        "plt.figure(figsize=(10,6))\n",
        "corr = transactions[['Unit Price', 'Quantity', 'Discount', 'Line Total', 'Invoice Total']].corr()\n",
        "sns.heatmap(corr, annot=True, cmap='coolwarm', fmt='.2f')\n",
        "plt.title(\"Korelasi Fitur Numerik Transaksi\")\n",
        "plt.show()"
      ],
      "metadata": {
        "id": "XgZQDQf-w2JC",
        "colab": {
          "base_uri": "https://localhost:8080/",
          "height": 545
        },
        "outputId": "34e53416-6ebc-4154-d2f9-1196a9d14dbf"
      },
      "execution_count": 32,
      "outputs": [
        {
          "output_type": "display_data",
          "data": {
            "text/plain": [
              "<Figure size 1000x600 with 2 Axes>"
            ],
            "image/png": "[encoded data removed]"
          },
          "metadata": {}
        }
      ]
    },
    {
      "cell_type": "markdown",
      "source": [
        "Kita dapat melihat bahwa Unit Price dan Line Total memiliki korelasi positif yang sangat kuat, begitu juga antara Invoice Total dan Line Total. Selain itu, terdapat korelasi yang cukup tinggi antara Invoice Total dan Unit Price.Hal ini mengindikasikan bahwa harga satuan (unit price) memainkan peran penting dalam menentukan nilai total transaksi, baik pada tingkat item (line total) maupun keseluruhan invoice (invoice total). Dengan kata lain, semakin tinggi harga satuan suatu produk, semakin besar kemungkinan total nilai transaksi juga meningkat, terutama jika jumlah pembelian (quantity) dan diskon tetap atau tidak bervariasi secara ekstrem."
      ],
      "metadata": {
        "id": "Q3g-3sNjn49Y"
      }
    },
    {
      "cell_type": "code",
      "source": [
        "# Gabungkan transactions dengan products untuk mendapatkan deskripsi produk\n",
        "transactions_with_desc = transactions.merge(products[['Product ID', 'Sub Category']], on='Product ID', how='left')\n",
        "\n",
        "# Produk Terlaris berdasarkan Quantity\n",
        "top_products = (\n",
        "    transactions_with_desc.groupby('Sub Category')['Quantity']\n",
        "    .sum()\n",
        "    .sort_values(ascending=False)\n",
        "    .head(10)\n",
        ")\n",
        "\n",
        "plt.figure(figsize=(12, 6))\n",
        "top_products.plot(kind='bar', title=\"Top 10 Produk Terlaris\", color='skyblue')\n",
        "plt.xlabel(\"Deskripsi Produk\")\n",
        "plt.ylabel(\"Jumlah Terjual\")\n",
        "plt.xticks(rotation=45, ha='right')\n",
        "plt.tight_layout()\n",
        "plt.show()\n"
      ],
      "metadata": {
        "id": "z1E1Ncxlw4NH",
        "colab": {
          "base_uri": "https://localhost:8080/",
          "height": 533
        },
        "outputId": "cb1cc063-b446-42b2-8ce8-caafda545fdf"
      },
      "execution_count": 33,
      "outputs": [
        {
          "output_type": "display_data",
          "data": {
            "text/plain": [
              "<Figure size 1200x600 with 1 Axes>"
            ],
            "image/png": "[encoded data removed]"
          },
          "metadata": {}
        }
      ]
    },
    {
      "cell_type": "markdown",
      "source": [
        "Dalam data transaksi ini, kita dapat melihat bahwa terdapat 10 produk terlaris, di antaranya adalah Pants and Jeans, Sportswear, dan lainnya.\n",
        "Beberapa kategori seperti Dresses and Jumpsuits, T-shirts and Polos, Shirts and Blouses, Sweaters-Sweatshirts, serta Sweaters and Knitwear menunjukkan jumlah penjualan yang hampir setara, yang mengindikasikan bahwa kategori-kategori tersebut memiliki tingkat permintaan yang relatif merata di antara konsumen.\n",
        "\n"
      ],
      "metadata": {
        "id": "HMj68lgRn7Oq"
      }
    },
    {
      "cell_type": "code",
      "source": [
        "# Produk dengan Pendapatan Tertinggi berdasarkan Line Total\n",
        "top_revenue_products = (\n",
        "    transactions_with_desc.groupby('Sub Category')['Line Total']\n",
        "    .sum()\n",
        "    .sort_values(ascending=False)\n",
        "    .head(10)\n",
        ")\n",
        "\n",
        "plt.figure(figsize=(12, 6))\n",
        "top_revenue_products.plot(kind='bar', title=\"Top 10 Produk Berpendapatan Tertinggi\", color='seagreen')\n",
        "plt.xlabel(\"Deskripsi Produk\")\n",
        "plt.ylabel(\"Total Pendapatan\")\n",
        "plt.xticks(rotation=45, ha='right')\n",
        "plt.tight_layout()\n",
        "plt.show()\n"
      ],
      "metadata": {
        "id": "pR1TP1oi9538",
        "colab": {
          "base_uri": "https://localhost:8080/",
          "height": 533
        },
        "outputId": "ef0cda6a-541d-48b0-d9af-0c933bddf04f"
      },
      "execution_count": 34,
      "outputs": [
        {
          "output_type": "display_data",
          "data": {
            "text/plain": [
              "<Figure size 1200x600 with 1 Axes>"
            ],
            "image/png": "[encoded data removed]"
          },
          "metadata": {}
        }
      ]
    },
    {
      "cell_type": "markdown",
      "source": [
        "Coats and Blazers dan pants-jeans adalah produk yang mendatangkan pendapatan paling tinggi, hal ini bisa terjadi karena memang kedua produk ini terjual paling banyak dari produk lainnya. Namun yang menariknya suits and blazers tidak ada pada top 10 paling banyak terjual, tetapi menjadi top 3 barang yang membawa pendapatan tertinggi. Hal ini bisa dikarenakan harga barang saat terjual jauh lebih tinggi dari produk lainnya."
      ],
      "metadata": {
        "id": "H_QBRHY5n85p"
      }
    },
    {
      "cell_type": "markdown",
      "source": [
        "# **3. Data Preprocessing dan Preparation**"
      ],
      "metadata": {
        "id": "qSmLay50H9wa"
      }
    },
    {
      "cell_type": "markdown",
      "source": [
        "## **Mengatasi Data Null dan Duplikat**"
      ],
      "metadata": {
        "id": "XoE6_YI3IOuV"
      }
    },
    {
      "cell_type": "code",
      "source": [
        "customers = customers.dropna(axis=0, how='any')        # Hapus baris dengan nilai null\n",
        "customers = customers.drop_duplicates()                # Hapus duplikat seluruh baris\n"
      ],
      "metadata": {
        "id": "_EynGMff4QDi"
      },
      "execution_count": 35,
      "outputs": []
    },
    {
      "cell_type": "markdown",
      "source": [
        "Disini, saya menghapus baris null dan duplikat untuk dataset customer"
      ],
      "metadata": {
        "id": "Q14GXd5On_Lv"
      }
    },
    {
      "cell_type": "code",
      "source": [
        "products = products.dropna(axis=0, how='any')          # Hapus baris dengan nilai null\n",
        "products = products.drop_duplicates()\n"
      ],
      "metadata": {
        "id": "2drHmNwB4VqB"
      },
      "execution_count": 36,
      "outputs": []
    },
    {
      "cell_type": "markdown",
      "source": [
        "Disini, saya menghapus baris null dan duplikat untuk dataset products"
      ],
      "metadata": {
        "id": "jHa6nDmuoA9R"
      }
    },
    {
      "cell_type": "code",
      "source": [
        "stores = stores.dropna(axis=0, how='any')\n",
        "stores = stores.drop_duplicates()\n"
      ],
      "metadata": {
        "id": "fCQ-8l1x4W_8"
      },
      "execution_count": 37,
      "outputs": []
    },
    {
      "cell_type": "markdown",
      "source": [
        "Disini, saya menghapus baris null dan duplikat untuk dataset stores"
      ],
      "metadata": {
        "id": "8am4qBlboBah"
      }
    },
    {
      "cell_type": "code",
      "source": [
        "transactions = transactions.dropna(axis=0, how='any')\n",
        "transactions = transactions.drop_duplicates()\n"
      ],
      "metadata": {
        "id": "h6GKwz5Z4YC-"
      },
      "execution_count": 38,
      "outputs": []
    },
    {
      "cell_type": "markdown",
      "source": [
        "Disini, saya menghapus baris null dan duplikat untuk dataset transactions"
      ],
      "metadata": {
        "id": "BjyeZp9IoBv6"
      }
    },
    {
      "cell_type": "code",
      "source": [
        "transactions = transactions.dropna(subset=['Customer ID', 'Product ID', 'Store ID', 'Quantity'])\n"
      ],
      "metadata": {
        "id": "B3NDb3Hm4arU"
      },
      "execution_count": 39,
      "outputs": []
    },
    {
      "cell_type": "markdown",
      "source": [
        "Disini, saya kembali memastikan bahwa untuk kolom-kolom penting yang nanti akan dipakai tidak memiliki data null"
      ],
      "metadata": {
        "id": "aBt9_A2aoIsC"
      }
    },
    {
      "cell_type": "markdown",
      "source": [
        "## **Menggabungkan seluruh data berdasarkan ID masing-masing dataset**"
      ],
      "metadata": {
        "id": "lkttZtuZIdlW"
      }
    },
    {
      "cell_type": "code",
      "source": [
        "# Merge hanya yang match (tanpa NULL)\n",
        "df = transactions.merge(customers, on='Customer ID', how='inner') \\\n",
        "                 .merge(products, on='Product ID', how='inner') \\\n",
        "                 .merge(stores, on='Store ID', how='inner')\n"
      ],
      "metadata": {
        "id": "mEFve3hg4ta8"
      },
      "execution_count": 40,
      "outputs": []
    },
    {
      "cell_type": "markdown",
      "source": [
        "Disini, saya menggabungkan dataset transactions dengan dataset customers, products, dan stores, yang di merge dengan metode inner join, sehingga yang menggabungkan setiap ID dengan dataset transactions"
      ],
      "metadata": {
        "id": "UgNMQnh8oKWx"
      }
    },
    {
      "cell_type": "code",
      "source": [
        "print(df.info())         # Lihat struktur & null\n",
        "print(df.isnull().sum()) # Cek sisa null per kolom\n"
      ],
      "metadata": {
        "id": "WVWPrYv95_EL",
        "colab": {
          "base_uri": "https://localhost:8080/"
        },
        "outputId": "17f71129-7f30-44a9-aed8-d10f195feb0e"
      },
      "execution_count": 41,
      "outputs": [
        {
          "output_type": "stream",
          "name": "stdout",
          "text": [
            "<class 'pandas.core.frame.DataFrame'>\n",
            "RangeIndex: 1319446 entries, 0 to 1319445\n",
            "Data columns (total 47 columns):\n",
            " #   Column               Non-Null Count    Dtype         \n",
            "---  ------               --------------    -----         \n",
            " 0   Invoice ID           1319446 non-null  object        \n",
            " 1   Line                 1319446 non-null  int64         \n",
            " 2   Customer ID          1319446 non-null  int64         \n",
            " 3   Product ID           1319446 non-null  int64         \n",
            " 4   Size                 1319446 non-null  object        \n",
            " 5   Color_x              1319446 non-null  object        \n",
            " 6   Unit Price           1319446 non-null  float64       \n",
            " 7   Quantity             1319446 non-null  int64         \n",
            " 8   Date                 1319446 non-null  datetime64[ns]\n",
            " 9   Discount             1319446 non-null  float64       \n",
            " 10  Line Total           1319446 non-null  float64       \n",
            " 11  Store ID             1319446 non-null  int64         \n",
            " 12  Employee ID          1319446 non-null  int64         \n",
            " 13  Currency             1319446 non-null  object        \n",
            " 14  Currency Symbol      1319446 non-null  object        \n",
            " 15  SKU                  1319446 non-null  object        \n",
            " 16  Transaction Type     1319446 non-null  object        \n",
            " 17  Payment Method       1319446 non-null  object        \n",
            " 18  Invoice Total        1319446 non-null  float64       \n",
            " 19  Name                 1319446 non-null  object        \n",
            " 20  Email                1319446 non-null  object        \n",
            " 21  Telephone            1319446 non-null  object        \n",
            " 22  City_x               1319446 non-null  object        \n",
            " 23  Country_x            1319446 non-null  object        \n",
            " 24  Gender               1319446 non-null  object        \n",
            " 25  Date Of Birth        1319446 non-null  datetime64[ns]\n",
            " 26  Job Title            1319446 non-null  object        \n",
            " 27  Age                  1319446 non-null  int64         \n",
            " 28  Category             1319446 non-null  object        \n",
            " 29  Sub Category         1319446 non-null  object        \n",
            " 30  Description PT       1319446 non-null  object        \n",
            " 31  Description DE       1319446 non-null  object        \n",
            " 32  Description FR       1319446 non-null  object        \n",
            " 33  Description ES       1319446 non-null  object        \n",
            " 34  Description EN       1319446 non-null  object        \n",
            " 35  Description ZH       1319446 non-null  object        \n",
            " 36  Color_y              1319446 non-null  object        \n",
            " 37  Sizes                1319446 non-null  object        \n",
            " 38  Production Cost      1319446 non-null  float64       \n",
            " 39  Country_y            1319446 non-null  object        \n",
            " 40  City_y               1319446 non-null  object        \n",
            " 41  Store Name           1319446 non-null  object        \n",
            " 42  Number of Employees  1319446 non-null  int64         \n",
            " 43  ZIP Code             1319446 non-null  object        \n",
            " 44  Latitude             1319446 non-null  float64       \n",
            " 45  Longitude            1319446 non-null  float64       \n",
            " 46  Country_English      1319446 non-null  object        \n",
            "dtypes: datetime64[ns](2), float64(7), int64(8), object(30)\n",
            "memory usage: 473.1+ MB\n",
            "None\n",
            "Invoice ID             0\n",
            "Line                   0\n",
            "Customer ID            0\n",
            "Product ID             0\n",
            "Size                   0\n",
            "Color_x                0\n",
            "Unit Price             0\n",
            "Quantity               0\n",
            "Date                   0\n",
            "Discount               0\n",
            "Line Total             0\n",
            "Store ID               0\n",
            "Employee ID            0\n",
            "Currency               0\n",
            "Currency Symbol        0\n",
            "SKU                    0\n",
            "Transaction Type       0\n",
            "Payment Method         0\n",
            "Invoice Total          0\n",
            "Name                   0\n",
            "Email                  0\n",
            "Telephone              0\n",
            "City_x                 0\n",
            "Country_x              0\n",
            "Gender                 0\n",
            "Date Of Birth          0\n",
            "Job Title              0\n",
            "Age                    0\n",
            "Category               0\n",
            "Sub Category           0\n",
            "Description PT         0\n",
            "Description DE         0\n",
            "Description FR         0\n",
            "Description ES         0\n",
            "Description EN         0\n",
            "Description ZH         0\n",
            "Color_y                0\n",
            "Sizes                  0\n",
            "Production Cost        0\n",
            "Country_y              0\n",
            "City_y                 0\n",
            "Store Name             0\n",
            "Number of Employees    0\n",
            "ZIP Code               0\n",
            "Latitude               0\n",
            "Longitude              0\n",
            "Country_English        0\n",
            "dtype: int64\n"
          ]
        }
      ]
    },
    {
      "cell_type": "markdown",
      "source": [
        "Dari sini kita bisa melihat bahwa tidak ada data null sama sekali untuk dataset gabungan."
      ],
      "metadata": {
        "id": "0kWLQeOloN1S"
      }
    },
    {
      "cell_type": "markdown",
      "source": [
        "## **Mengambil data yang hanya diperlukan untuk Collaborative Filtering**"
      ],
      "metadata": {
        "id": "5BLvjxofIhEJ"
      }
    },
    {
      "cell_type": "code",
      "source": [
        "# Pilih kolom-kolom penting untuk CF dan CBF\n",
        "df = df[['Customer ID', 'Name', 'Gender', 'Age', 'Product ID', 'Store Name',\n",
        "         'Quantity', 'Line Total', 'Date', 'Category', 'Sub Category',\n",
        "         'Color_y', 'Sizes', 'Description EN', 'Production Cost']]\n"
      ],
      "metadata": {
        "id": "DgUd3tg59PYu"
      },
      "execution_count": 42,
      "outputs": []
    },
    {
      "cell_type": "code",
      "source": [
        "df"
      ],
      "metadata": {
        "id": "AC3RPUgv9f0X",
        "colab": {
          "base_uri": "https://localhost:8080/",
          "height": 877
        },
        "outputId": "760c5f05-05a0-400d-f0af-81db9c8cc48e"
      },
      "execution_count": 43,
      "outputs": [
        {
          "output_type": "execute_result",
          "data": {
            "text/plain": [
              "         Customer ID                  Name Gender  Age  Product ID  \\\n",
              "0              47162         Rachel Herman      F   41          64   \n",
              "1              10142      Debra Acosta DVM      F   50         131   \n",
              "2              10142      Debra Acosta DVM      F   50         716   \n",
              "3               1968          David Howard      M   26        1208   \n",
              "4               1968          David Howard      M   26        2639   \n",
              "...              ...                   ...    ...  ...         ...   \n",
              "1319441      1637656  Núria-Raquel Batista      F   45       15888   \n",
              "1319442      1637656  Núria-Raquel Batista      F   45       17527   \n",
              "1319443      1637135  Tatiana-Núria Coelho      F   30       15120   \n",
              "1319444      1636501        Raquel Miranda      F   26       16532   \n",
              "1319445      1640168         Mafalda Rocha      F   29       15232   \n",
              "\n",
              "             Store Name  Quantity  Line Total                Date   Category  \\\n",
              "0        Store New York         1       27.30 2023-01-01 15:42:00  Masculine   \n",
              "1        Store New York         1       42.00 2023-01-01 20:04:00   Feminine   \n",
              "2        Store New York         1       26.00 2023-01-01 20:04:00  Masculine   \n",
              "3        Store New York         1       45.00 2023-01-01 08:06:00  Masculine   \n",
              "4        Store New York         1       27.30 2023-01-01 08:06:00  Masculine   \n",
              "...                 ...       ...         ...                 ...        ...   \n",
              "1319441   Store Coimbra         1       43.50 2025-03-18 16:36:00   Feminine   \n",
              "1319442   Store Coimbra         1       37.05 2025-03-18 16:36:00   Feminine   \n",
              "1319443   Store Coimbra         2       53.95 2025-03-18 16:37:00  Masculine   \n",
              "1319444   Store Coimbra         1       26.65 2025-03-18 17:01:00   Children   \n",
              "1319445   Store Coimbra         1       33.48 2025-03-18 08:52:00   Children   \n",
              "\n",
              "                                 Sub Category    Color_y       Sizes  \\\n",
              "0                           Coats and Blazers    NEUTRAL  M|L|XL|XXL   \n",
              "1                           Coats and Blazers       BLUE    S|M|L|XL   \n",
              "2                          T-shirts and Polos      WHITE      M|L|XL   \n",
              "3                           Coats and Blazers     SILVER  M|L|XL|XXL   \n",
              "4                    Sweaters and Sweatshirts      WHITE  M|L|XL|XXL   \n",
              "...                                       ...        ...         ...   \n",
              "1319441                 Sweaters and Knitwear      GREEN    S|M|L|XL   \n",
              "1319442                 Dresses and Jumpsuits      LILAC    S|M|L|XL   \n",
              "1319443                    T-shirts and Polos     YELLOW  M|L|XL|XXL   \n",
              "1319444  Girl and Boy (1-5 years, 6-14 years)  TURQUOISE    P|M|G|GG   \n",
              "1319445  Girl and Boy (1-5 years, 6-14 years)        RED       P|M|G   \n",
              "\n",
              "                            Description EN  Production Cost  \n",
              "0        Luxurious Neutral Suede With Hood            12.02  \n",
              "1           Formal Blue Jeans With Ruffles            49.28  \n",
              "2        High-Tech Suede White Embroidered             8.31  \n",
              "3        Modern Tricot Silver With Fringes            18.53  \n",
              "4          Casual White Satin With Glitter            22.61  \n",
              "...                                    ...              ...  \n",
              "1319441          Casual Green Green Padded            21.77  \n",
              "1319442          Formal Nylon Padded Lilac             5.99  \n",
              "1319443       Classic Padded Yellow Cotton            17.52  \n",
              "1319444     Formal Nylon Turquoise Printed            17.34  \n",
              "1319445   High-Tech Red Denim With Ruffles            26.46  \n",
              "\n",
              "[1319446 rows x 15 columns]"
            ],
            "text/html": [
              "\n",
              "  <div id=\"df-cc8d7175-ea2c-4221-bcf4-a50c393dea31\" class=\"colab-df-container\">\n",
              "    <div>\n",
              "<style scoped>\n",
              "    .dataframe tbody tr th:only-of-type {\n",
              "        vertical-align: middle;\n",
              "    }\n",
              "\n",
              "    .dataframe tbody tr th {\n",
              "        vertical-align: top;\n",
              "    }\n",
              "\n",
              "    .dataframe thead th {\n",
              "        text-align: right;\n",
              "    }\n",
              "</style>\n",
              "<table border=\"1\" class=\"dataframe\">\n",
              "  <thead>\n",
              "    <tr style=\"text-align: right;\">\n",
              "      <th></th>\n",
              "      <th>Customer ID</th>\n",
              "      <th>Name</th>\n",
              "      <th>Gender</th>\n",
              "      <th>Age</th>\n",
              "      <th>Product ID</th>\n",
              "      <th>Store Name</th>\n",
              "      <th>Quantity</th>\n",
              "      <th>Line Total</th>\n",
              "      <th>Date</th>\n",
              "      <th>Category</th>\n",
              "      <th>Sub Category</th>\n",
              "      <th>Color_y</th>\n",
              "      <th>Sizes</th>\n",
              "      <th>Description EN</th>\n",
              "      <th>Production Cost</th>\n",
              "    </tr>\n",
              "  </thead>\n",
              "  <tbody>\n",
              "    <tr>\n",
              "      <th>0</th>\n",
              "      <td>47162</td>\n",
              "      <td>Rachel Herman</td>\n",
              "      <td>F</td>\n",
              "      <td>41</td>\n",
              "      <td>64</td>\n",
              "      <td>Store New York</td>\n",
              "      <td>1</td>\n",
              "      <td>27.30</td>\n",
              "      <td>2023-01-01 15:42:00</td>\n",
              "      <td>Masculine</td>\n",
              "      <td>Coats and Blazers</td>\n",
              "      <td>NEUTRAL</td>\n",
              "      <td>M|L|XL|XXL</td>\n",
              "      <td>Luxurious Neutral Suede With Hood</td>\n",
              "      <td>12.02</td>\n",
              "    </tr>\n",
              "    <tr>\n",
              "      <th>1</th>\n",
              "      <td>10142</td>\n",
              "      <td>Debra Acosta DVM</td>\n",
              "      <td>F</td>\n",
              "      <td>50</td>\n",
              "      <td>131</td>\n",
              "      <td>Store New York</td>\n",
              "      <td>1</td>\n",
              "      <td>42.00</td>\n",
              "      <td>2023-01-01 20:04:00</td>\n",
              "      <td>Feminine</td>\n",
              "      <td>Coats and Blazers</td>\n",
              "      <td>BLUE</td>\n",
              "      <td>S|M|L|XL</td>\n",
              "      <td>Formal Blue Jeans With Ruffles</td>\n",
              "      <td>49.28</td>\n",
              "    </tr>\n",
              "    <tr>\n",
              "      <th>2</th>\n",
              "      <td>10142</td>\n",
              "      <td>Debra Acosta DVM</td>\n",
              "      <td>F</td>\n",
              "      <td>50</td>\n",
              "      <td>716</td>\n",
              "      <td>Store New York</td>\n",
              "      <td>1</td>\n",
              "      <td>26.00</td>\n",
              "      <td>2023-01-01 20:04:00</td>\n",
              "      <td>Masculine</td>\n",
              "      <td>T-shirts and Polos</td>\n",
              "      <td>WHITE</td>\n",
              "      <td>M|L|XL</td>\n",
              "      <td>High-Tech Suede White Embroidered</td>\n",
              "      <td>8.31</td>\n",
              "    </tr>\n",
              "    <tr>\n",
              "      <th>3</th>\n",
              "      <td>1968</td>\n",
              "      <td>David Howard</td>\n",
              "      <td>M</td>\n",
              "      <td>26</td>\n",
              "      <td>1208</td>\n",
              "      <td>Store New York</td>\n",
              "      <td>1</td>\n",
              "      <td>45.00</td>\n",
              "      <td>2023-01-01 08:06:00</td>\n",
              "      <td>Masculine</td>\n",
              "      <td>Coats and Blazers</td>\n",
              "      <td>SILVER</td>\n",
              "      <td>M|L|XL|XXL</td>\n",
              "      <td>Modern Tricot Silver With Fringes</td>\n",
              "      <td>18.53</td>\n",
              "    </tr>\n",
              "    <tr>\n",
              "      <th>4</th>\n",
              "      <td>1968</td>\n",
              "      <td>David Howard</td>\n",
              "      <td>M</td>\n",
              "      <td>26</td>\n",
              "      <td>2639</td>\n",
              "      <td>Store New York</td>\n",
              "      <td>1</td>\n",
              "      <td>27.30</td>\n",
              "      <td>2023-01-01 08:06:00</td>\n",
              "      <td>Masculine</td>\n",
              "      <td>Sweaters and Sweatshirts</td>\n",
              "      <td>WHITE</td>\n",
              "      <td>M|L|XL|XXL</td>\n",
              "      <td>Casual White Satin With Glitter</td>\n",
              "      <td>22.61</td>\n",
              "    </tr>\n",
              "    <tr>\n",
              "      <th>...</th>\n",
              "      <td>...</td>\n",
              "      <td>...</td>\n",
              "      <td>...</td>\n",
              "      <td>...</td>\n",
              "      <td>...</td>\n",
              "      <td>...</td>\n",
              "      <td>...</td>\n",
              "      <td>...</td>\n",
              "      <td>...</td>\n",
              "      <td>...</td>\n",
              "      <td>...</td>\n",
              "      <td>...</td>\n",
              "      <td>...</td>\n",
              "      <td>...</td>\n",
              "      <td>...</td>\n",
              "    </tr>\n",
              "    <tr>\n",
              "      <th>1319441</th>\n",
              "      <td>1637656</td>\n",
              "      <td>Núria-Raquel Batista</td>\n",
              "      <td>F</td>\n",
              "      <td>45</td>\n",
              "      <td>15888</td>\n",
              "      <td>Store Coimbra</td>\n",
              "      <td>1</td>\n",
              "      <td>43.50</td>\n",
              "      <td>2025-03-18 16:36:00</td>\n",
              "      <td>Feminine</td>\n",
              "      <td>Sweaters and Knitwear</td>\n",
              "      <td>GREEN</td>\n",
              "      <td>S|M|L|XL</td>\n",
              "      <td>Casual Green Green Padded</td>\n",
              "      <td>21.77</td>\n",
              "    </tr>\n",
              "    <tr>\n",
              "      <th>1319442</th>\n",
              "      <td>1637656</td>\n",
              "      <td>Núria-Raquel Batista</td>\n",
              "      <td>F</td>\n",
              "      <td>45</td>\n",
              "      <td>17527</td>\n",
              "      <td>Store Coimbra</td>\n",
              "      <td>1</td>\n",
              "      <td>37.05</td>\n",
              "      <td>2025-03-18 16:36:00</td>\n",
              "      <td>Feminine</td>\n",
              "      <td>Dresses and Jumpsuits</td>\n",
              "      <td>LILAC</td>\n",
              "      <td>S|M|L|XL</td>\n",
              "      <td>Formal Nylon Padded Lilac</td>\n",
              "      <td>5.99</td>\n",
              "    </tr>\n",
              "    <tr>\n",
              "      <th>1319443</th>\n",
              "      <td>1637135</td>\n",
              "      <td>Tatiana-Núria Coelho</td>\n",
              "      <td>F</td>\n",
              "      <td>30</td>\n",
              "      <td>15120</td>\n",
              "      <td>Store Coimbra</td>\n",
              "      <td>2</td>\n",
              "      <td>53.95</td>\n",
              "      <td>2025-03-18 16:37:00</td>\n",
              "      <td>Masculine</td>\n",
              "      <td>T-shirts and Polos</td>\n",
              "      <td>YELLOW</td>\n",
              "      <td>M|L|XL|XXL</td>\n",
              "      <td>Classic Padded Yellow Cotton</td>\n",
              "      <td>17.52</td>\n",
              "    </tr>\n",
              "    <tr>\n",
              "      <th>1319444</th>\n",
              "      <td>1636501</td>\n",
              "      <td>Raquel Miranda</td>\n",
              "      <td>F</td>\n",
              "      <td>26</td>\n",
              "      <td>16532</td>\n",
              "      <td>Store Coimbra</td>\n",
              "      <td>1</td>\n",
              "      <td>26.65</td>\n",
              "      <td>2025-03-18 17:01:00</td>\n",
              "      <td>Children</td>\n",
              "      <td>Girl and Boy (1-5 years, 6-14 years)</td>\n",
              "      <td>TURQUOISE</td>\n",
              "      <td>P|M|G|GG</td>\n",
              "      <td>Formal Nylon Turquoise Printed</td>\n",
              "      <td>17.34</td>\n",
              "    </tr>\n",
              "    <tr>\n",
              "      <th>1319445</th>\n",
              "      <td>1640168</td>\n",
              "      <td>Mafalda Rocha</td>\n",
              "      <td>F</td>\n",
              "      <td>29</td>\n",
              "      <td>15232</td>\n",
              "      <td>Store Coimbra</td>\n",
              "      <td>1</td>\n",
              "      <td>33.48</td>\n",
              "      <td>2025-03-18 08:52:00</td>\n",
              "      <td>Children</td>\n",
              "      <td>Girl and Boy (1-5 years, 6-14 years)</td>\n",
              "      <td>RED</td>\n",
              "      <td>P|M|G</td>\n",
              "      <td>High-Tech Red Denim With Ruffles</td>\n",
              "      <td>26.46</td>\n",
              "    </tr>\n",
              "  </tbody>\n",
              "</table>\n",
              "<p>1319446 rows × 15 columns</p>\n",
              "</div>\n",
              "    <div class=\"colab-df-buttons\">\n",
              "\n",
              "  <div class=\"colab-df-container\">\n",
              "    <button class=\"colab-df-convert\" onclick=\"convertToInteractive('df-cc8d7175-ea2c-4221-bcf4-a50c393dea31')\"\n",
              "            title=\"Convert this dataframe to an interactive table.\"\n",
              "            style=\"display:none;\">\n",
              "\n",
              "  <svg xmlns=\"http://www.w3.org/2000/svg\" height=\"24px\" viewBox=\"0 -960 960 960\">\n",
              "    <path d=\"M120-120v-720h720v720H120Zm60-500h600v-160H180v160Zm220 220h160v-160H400v160Zm0 220h160v-160H400v160ZM180-400h160v-160H180v160Zm440 0h160v-160H620v160ZM180-180h160v-160H180v160Zm440 0h160v-160H620v160Z\"/>\n",
              "  </svg>\n",
              "    </button>\n",
              "\n",
              "  <style>\n",
              "    .colab-df-container {\n",
              "      display:flex;\n",
              "      gap: 12px;\n",
              "    }\n",
              "\n",
              "    .colab-df-convert {\n",
              "      background-color: #E8F0FE;\n",
              "      border: none;\n",
              "      border-radius: 50%;\n",
              "      cursor: pointer;\n",
              "      display: none;\n",
              "      fill: #1967D2;\n",
              "      height: 32px;\n",
              "      padding: 0 0 0 0;\n",
              "      width: 32px;\n",
              "    }\n",
              "\n",
              "    .colab-df-convert:hover {\n",
              "      background-color: #E2EBFA;\n",
              "      box-shadow: 0px 1px 2px rgba(60, 64, 67, 0.3), 0px 1px 3px 1px rgba(60, 64, 67, 0.15);\n",
              "      fill: #174EA6;\n",
              "    }\n",
              "\n",
              "    .colab-df-buttons div {\n",
              "      margin-bottom: 4px;\n",
              "    }\n",
              "\n",
              "    [theme=dark] .colab-df-convert {\n",
              "      background-color: #3B4455;\n",
              "      fill: #D2E3FC;\n",
              "    }\n",
              "\n",
              "    [theme=dark] .colab-df-convert:hover {\n",
              "      background-color: #434B5C;\n",
              "      box-shadow: 0px 1px 3px 1px rgba(0, 0, 0, 0.15);\n",
              "      filter: drop-shadow(0px 1px 2px rgba(0, 0, 0, 0.3));\n",
              "      fill: #FFFFFF;\n",
              "    }\n",
              "  </style>\n",
              "\n",
              "    <script>\n",
              "      const buttonEl =\n",
              "        document.querySelector('#df-cc8d7175-ea2c-4221-bcf4-a50c393dea31 button.colab-df-convert');\n",
              "      buttonEl.style.display =\n",
              "        google.colab.kernel.accessAllowed ? 'block' : 'none';\n",
              "\n",
              "      async function convertToInteractive(key) {\n",
              "        const element = document.querySelector('#df-cc8d7175-ea2c-4221-bcf4-a50c393dea31');\n",
              "        const dataTable =\n",
              "          await google.colab.kernel.invokeFunction('convertToInteractive',\n",
              "                                                    [key], {});\n",
              "        if (!dataTable) return;\n",
              "\n",
              "        const docLinkHtml = 'Like what you see? Visit the ' +\n",
              "          '<a target=\"_blank\" href=https://colab.research.google.com/notebooks/data_table.ipynb>data table notebook</a>'\n",
              "          + ' to learn more about interactive tables.';\n",
              "        element.innerHTML = '';\n",
              "        dataTable['output_type'] = 'display_data';\n",
              "        await google.colab.output.renderOutput(dataTable, element);\n",
              "        const docLink = document.createElement('div');\n",
              "        docLink.innerHTML = docLinkHtml;\n",
              "        element.appendChild(docLink);\n",
              "      }\n",
              "    </script>\n",
              "  </div>\n",
              "\n",
              "\n",
              "    <div id=\"df-97fc057b-10f7-4916-aa48-b0489b01426c\">\n",
              "      <button class=\"colab-df-quickchart\" onclick=\"quickchart('df-97fc057b-10f7-4916-aa48-b0489b01426c')\"\n",
              "                title=\"Suggest charts\"\n",
              "                style=\"display:none;\">\n",
              "\n",
              "<svg xmlns=\"http://www.w3.org/2000/svg\" height=\"24px\"viewBox=\"0 0 24 24\"\n",
              "     width=\"24px\">\n",
              "    <g>\n",
              "        <path d=\"M19 3H5c-1.1 0-2 .9-2 2v14c0 1.1.9 2 2 2h14c1.1 0 2-.9 2-2V5c0-1.1-.9-2-2-2zM9 17H7v-7h2v7zm4 0h-2V7h2v10zm4 0h-2v-4h2v4z\"/>\n",
              "    </g>\n",
              "</svg>\n",
              "      </button>\n",
              "\n",
              "<style>\n",
              "  .colab-df-quickchart {\n",
              "      --bg-color: #E8F0FE;\n",
              "      --fill-color: #1967D2;\n",
              "      --hover-bg-color: #E2EBFA;\n",
              "      --hover-fill-color: #174EA6;\n",
              "      --disabled-fill-color: #AAA;\n",
              "      --disabled-bg-color: #DDD;\n",
              "  }\n",
              "\n",
              "  [theme=dark] .colab-df-quickchart {\n",
              "      --bg-color: #3B4455;\n",
              "      --fill-color: #D2E3FC;\n",
              "      --hover-bg-color: #434B5C;\n",
              "      --hover-fill-color: #FFFFFF;\n",
              "      --disabled-bg-color: #3B4455;\n",
              "      --disabled-fill-color: #666;\n",
              "  }\n",
              "\n",
              "  .colab-df-quickchart {\n",
              "    background-color: var(--bg-color);\n",
              "    border: none;\n",
              "    border-radius: 50%;\n",
              "    cursor: pointer;\n",
              "    display: none;\n",
              "    fill: var(--fill-color);\n",
              "    height: 32px;\n",
              "    padding: 0;\n",
              "    width: 32px;\n",
              "  }\n",
              "\n",
              "  .colab-df-quickchart:hover {\n",
              "    background-color: var(--hover-bg-color);\n",
              "    box-shadow: 0 1px 2px rgba(60, 64, 67, 0.3), 0 1px 3px 1px rgba(60, 64, 67, 0.15);\n",
              "    fill: var(--button-hover-fill-color);\n",
              "  }\n",
              "\n",
              "  .colab-df-quickchart-complete:disabled,\n",
              "  .colab-df-quickchart-complete:disabled:hover {\n",
              "    background-color: var(--disabled-bg-color);\n",
              "    fill: var(--disabled-fill-color);\n",
              "    box-shadow: none;\n",
              "  }\n",
              "\n",
              "  .colab-df-spinner {\n",
              "    border: 2px solid var(--fill-color);\n",
              "    border-color: transparent;\n",
              "    border-bottom-color: var(--fill-color);\n",
              "    animation:\n",
              "      spin 1s steps(1) infinite;\n",
              "  }\n",
              "\n",
              "  @keyframes spin {\n",
              "    0% {\n",
              "      border-color: transparent;\n",
              "      border-bottom-color: var(--fill-color);\n",
              "      border-left-color: var(--fill-color);\n",
              "    }\n",
              "    20% {\n",
              "      border-color: transparent;\n",
              "      border-left-color: var(--fill-color);\n",
              "      border-top-color: var(--fill-color);\n",
              "    }\n",
              "    30% {\n",
              "      border-color: transparent;\n",
              "      border-left-color: var(--fill-color);\n",
              "      border-top-color: var(--fill-color);\n",
              "      border-right-color: var(--fill-color);\n",
              "    }\n",
              "    40% {\n",
              "      border-color: transparent;\n",
              "      border-right-color: var(--fill-color);\n",
              "      border-top-color: var(--fill-color);\n",
              "    }\n",
              "    60% {\n",
              "      border-color: transparent;\n",
              "      border-right-color: var(--fill-color);\n",
              "    }\n",
              "    80% {\n",
              "      border-color: transparent;\n",
              "      border-right-color: var(--fill-color);\n",
              "      border-bottom-color: var(--fill-color);\n",
              "    }\n",
              "    90% {\n",
              "      border-color: transparent;\n",
              "      border-bottom-color: var(--fill-color);\n",
              "    }\n",
              "  }\n",
              "</style>\n",
              "\n",
              "      <script>\n",
              "        async function quickchart(key) {\n",
              "          const quickchartButtonEl =\n",
              "            document.querySelector('#' + key + ' button');\n",
              "          quickchartButtonEl.disabled = true;  // To prevent multiple clicks.\n",
              "          quickchartButtonEl.classList.add('colab-df-spinner');\n",
              "          try {\n",
              "            const charts = await google.colab.kernel.invokeFunction(\n",
              "                'suggestCharts', [key], {});\n",
              "          } catch (error) {\n",
              "            console.error('Error during call to suggestCharts:', error);\n",
              "          }\n",
              "          quickchartButtonEl.classList.remove('colab-df-spinner');\n",
              "          quickchartButtonEl.classList.add('colab-df-quickchart-complete');\n",
              "        }\n",
              "        (() => {\n",
              "          let quickchartButtonEl =\n",
              "            document.querySelector('#df-97fc057b-10f7-4916-aa48-b0489b01426c button');\n",
              "          quickchartButtonEl.style.display =\n",
              "            google.colab.kernel.accessAllowed ? 'block' : 'none';\n",
              "        })();\n",
              "      </script>\n",
              "    </div>\n",
              "\n",
              "  <div id=\"id_5a3a8dad-c1a0-4cf6-b98f-0e3dc468a63d\">\n",
              "    <style>\n",
              "      .colab-df-generate {\n",
              "        background-color: #E8F0FE;\n",
              "        border: none;\n",
              "        border-radius: 50%;\n",
              "        cursor: pointer;\n",
              "        display: none;\n",
              "        fill: #1967D2;\n",
              "        height: 32px;\n",
              "        padding: 0 0 0 0;\n",
              "        width: 32px;\n",
              "      }\n",
              "\n",
              "      .colab-df-generate:hover {\n",
              "        background-color: #E2EBFA;\n",
              "        box-shadow: 0px 1px 2px rgba(60, 64, 67, 0.3), 0px 1px 3px 1px rgba(60, 64, 67, 0.15);\n",
              "        fill: #174EA6;\n",
              "      }\n",
              "\n",
              "      [theme=dark] .colab-df-generate {\n",
              "        background-color: #3B4455;\n",
              "        fill: #D2E3FC;\n",
              "      }\n",
              "\n",
              "      [theme=dark] .colab-df-generate:hover {\n",
              "        background-color: #434B5C;\n",
              "        box-shadow: 0px 1px 3px 1px rgba(0, 0, 0, 0.15);\n",
              "        filter: drop-shadow(0px 1px 2px rgba(0, 0, 0, 0.3));\n",
              "        fill: #FFFFFF;\n",
              "      }\n",
              "    </style>\n",
              "    <button class=\"colab-df-generate\" onclick=\"generateWithVariable('df')\"\n",
              "            title=\"Generate code using this dataframe.\"\n",
              "            style=\"display:none;\">\n",
              "\n",
              "  <svg xmlns=\"http://www.w3.org/2000/svg\" height=\"24px\"viewBox=\"0 0 24 24\"\n",
              "       width=\"24px\">\n",
              "    <path d=\"M7,19H8.4L18.45,9,17,7.55,7,17.6ZM5,21V16.75L18.45,3.32a2,2,0,0,1,2.83,0l1.4,1.43a1.91,1.91,0,0,1,.58,1.4,1.91,1.91,0,0,1-.58,1.4L9.25,21ZM18.45,9,17,7.55Zm-12,3A5.31,5.31,0,0,0,4.9,8.1,5.31,5.31,0,0,0,1,6.5,5.31,5.31,0,0,0,4.9,4.9,5.31,5.31,0,0,0,6.5,1,5.31,5.31,0,0,0,8.1,4.9,5.31,5.31,0,0,0,12,6.5,5.46,5.46,0,0,0,6.5,12Z\"/>\n",
              "  </svg>\n",
              "    </button>\n",
              "    <script>\n",
              "      (() => {\n",
              "      const buttonEl =\n",
              "        document.querySelector('#id_5a3a8dad-c1a0-4cf6-b98f-0e3dc468a63d button.colab-df-generate');\n",
              "      buttonEl.style.display =\n",
              "        google.colab.kernel.accessAllowed ? 'block' : 'none';\n",
              "\n",
              "      buttonEl.onclick = () => {\n",
              "        google.colab.notebook.generateWithVariable('df');\n",
              "      }\n",
              "      })();\n",
              "    </script>\n",
              "  </div>\n",
              "\n",
              "    </div>\n",
              "  </div>\n"
            ],
            "application/vnd.google.colaboratory.intrinsic+json": {
              "type": "dataframe",
              "variable_name": "df"
            }
          },
          "metadata": {},
          "execution_count": 43
        }
      ]
    },
    {
      "cell_type": "code",
      "source": [
        "# Data untuk CF\n",
        "cf_data = df[['Customer ID', 'Product ID', 'Line Total']].copy()\n",
        "# Drop baris yang Line Total-nya kosong atau negatif\n",
        "cf_data = cf_data[cf_data['Line Total'] > 0].copy()\n",
        "\n",
        "# Hitung rating\n",
        "cf_data['rating'] = np.log1p(cf_data['Line Total'])\n",
        "scaler = MinMaxScaler()\n",
        "cf_data['rating'] = scaler.fit_transform(cf_data[['rating']])\n"
      ],
      "metadata": {
        "id": "aWRLjYR1MwyM"
      },
      "execution_count": 44,
      "outputs": []
    },
    {
      "cell_type": "markdown",
      "source": [
        "Pada tahap ini, data disiapkan untuk keperluan Collaborative Filtering (CF) dengan cara memilih kolom yang relevan, yaitu Customer ID, Product ID, dan Line Total. Baris dengan nilai Line Total yang kosong atau bernilai negatif dihapus untuk menjaga validitas data transaksi. Kemudian, nilai Line Total digunakan untuk menghitung rating sebagai representasi minat pelanggan terhadap produk, dengan menerapkan transformasi logaritmik log1p guna mereduksi skala nilai dan mengatasi skewness. Setelah itu, rating yang dihasilkan dinormalisasi ke dalam rentang [0, 1] menggunakan MinMaxScaler dari sklearn, yang bertujuan untuk menyeimbangkan distribusi data dan membantu proses pelatihan model menjadi lebih stabil."
      ],
      "metadata": {
        "id": "i_eJJ6yz2cPc"
      }
    },
    {
      "cell_type": "code",
      "source": [
        "user_ids = cf_data['Customer ID'].unique().tolist()\n",
        "product_ids = cf_data['Product ID'].unique().tolist()\n",
        "\n",
        "user2user_encoded = {x: i for i, x in enumerate(user_ids)}\n",
        "product2product_encoded = {x: i for i, x in enumerate(product_ids)}\n",
        "\n",
        "cf_data['user'] = cf_data['Customer ID'].map(user2user_encoded)\n",
        "cf_data['product'] = cf_data['Product ID'].map(product2product_encoded)\n",
        "\n",
        "num_users = len(user2user_encoded)\n",
        "num_products = len(product2product_encoded)\n",
        "\n",
        "cf_data = cf_data[['user', 'product', 'rating']]\n"
      ],
      "metadata": {
        "id": "pVuiindvAvWg"
      },
      "execution_count": 45,
      "outputs": []
    },
    {
      "cell_type": "markdown",
      "source": [
        "Langkah ini bertujuan untuk mengubah ID pengguna (Customer ID) dan ID produk (Product ID) menjadi representasi numerik yang dapat diproses oleh model machine learning. Pertama, daftar unik ID pengguna dan produk diambil, lalu dibuat pemetaan dari ID asli ke indeks integer menggunakan enumerate(). Selanjutnya, kolom Customer ID dan Product ID dalam data di-map menjadi kolom user dan product menggunakan kamus yang telah dibuat. Proses ini menghasilkan dua kolom numerik yang mewakili pengguna dan produk. Jumlah total pengguna (num_users) dan produk (num_products) juga dihitung dan disimpan. Terakhir, dataset dibatasi hanya pada kolom user, product, dan rating untuk digunakan dalam proses pelatihan model."
      ],
      "metadata": {
        "id": "vsjQ7vhf2jH1"
      }
    },
    {
      "cell_type": "markdown",
      "source": [
        "# **4. Pembangunan Model Collaborative Filtering (RecommenderNet)**"
      ],
      "metadata": {
        "id": "mn7NbR-zIrU0"
      }
    },
    {
      "cell_type": "code",
      "source": [
        "X = cf_data[['user', 'product']].values\n",
        "y = cf_data['rating'].values\n",
        "\n",
        "X_train, X_val, y_train, y_val = train_test_split(\n",
        "    X, y, test_size=0.2, random_state=42\n",
        ")\n"
      ],
      "metadata": {
        "id": "EwBq9qWQCyfG"
      },
      "execution_count": 46,
      "outputs": []
    },
    {
      "cell_type": "markdown",
      "source": [
        "Disini saya melakukan pemisahan data training dan testing dimana test_size yang saya ambil adalah 0.2 atau 20% dari total dataset, serta data trainingnya adalah 80%"
      ],
      "metadata": {
        "id": "xl5_Pkno2li3"
      }
    },
    {
      "cell_type": "code",
      "source": [
        "class RecommenderNet(tf.keras.Model):\n",
        "    def __init__(self, num_users, num_items, embedding_size=50, **kwargs):\n",
        "        super(RecommenderNet, self).__init__(**kwargs)\n",
        "        self.user_embedding = layers.Embedding(\n",
        "            input_dim=num_users, output_dim=embedding_size,\n",
        "            embeddings_initializer='he_normal',\n",
        "            embeddings_regularizer=tf.keras.regularizers.l2(1e-6)\n",
        "        )\n",
        "        self.item_embedding = layers.Embedding(\n",
        "            input_dim=num_items, output_dim=embedding_size,\n",
        "            embeddings_initializer='he_normal',\n",
        "            embeddings_regularizer=tf.keras.regularizers.l2(1e-6)\n",
        "        )\n",
        "        self.dense_1 = layers.Dense(64, activation='relu')\n",
        "        self.dropout = layers.Dropout(0.2)\n",
        "        self.out = layers.Dense(1, activation='linear')  # regresi rating\n",
        "\n",
        "    def call(self, inputs):\n",
        "        user_vector = self.user_embedding(inputs[:, 0])\n",
        "        item_vector = self.item_embedding(inputs[:, 1])\n",
        "        x = user_vector * item_vector\n",
        "        x = self.dense_1(x)\n",
        "        x = self.dropout(x)\n",
        "        return self.out(x)\n"
      ],
      "metadata": {
        "id": "lyZTn9yxM0Rv"
      },
      "execution_count": 47,
      "outputs": []
    },
    {
      "cell_type": "markdown",
      "source": [
        "Kode ini mendefinisikan arsitektur model rekomendasi berbasis deep learning bernama RecommenderNet menggunakan TensorFlow Keras. Model ini memanfaatkan pendekatan collaborative filtering dengan teknik embedding untuk merepresentasikan pengguna dan item (produk) dalam bentuk vektor berdimensi tetap. Dua layer embedding digunakan: satu untuk pengguna dan satu untuk item, masing-masing dengan ukuran dimensi yang ditentukan oleh embedding_size. Vektor embedding dari pengguna dan item kemudian dikalikan secara elemen (dot-wise product) untuk menangkap interaksi di antara keduanya. Hasil perkalian ini diteruskan ke dense layer dengan aktivasi ReLU, diikuti oleh dropout untuk mencegah overfitting, dan akhirnya dilewatkan ke output layer dengan aktivasi linear untuk memprediksi skor rating. Model ini dirancang untuk mempelajari pola interaksi pengguna dan item dari data historis."
      ],
      "metadata": {
        "id": "6TMrG0Dj236T"
      }
    },
    {
      "cell_type": "code",
      "source": [
        "print(np.isnan(X_train).sum(), np.isinf(X_train).sum())\n",
        "print(np.isnan(y_train).sum(), np.isinf(y_train).sum())\n"
      ],
      "metadata": {
        "id": "1Q0WMWyrmPg2",
        "colab": {
          "base_uri": "https://localhost:8080/"
        },
        "outputId": "021a53f7-ecab-4cd9-db0f-bd45b2e05575"
      },
      "execution_count": 48,
      "outputs": [
        {
          "output_type": "stream",
          "name": "stdout",
          "text": [
            "0 0\n",
            "0 0\n"
          ]
        }
      ]
    },
    {
      "cell_type": "markdown",
      "source": [],
      "metadata": {
        "id": "3tMFgzTl25M0"
      }
    },
    {
      "cell_type": "code",
      "source": [
        "early_stop = EarlyStopping(monitor='val_loss', patience=3, restore_best_weights=True)\n",
        "reduce_lr = ReduceLROnPlateau(monitor='val_loss', factor=0.5, patience=2, min_lr=1e-6)\n"
      ],
      "metadata": {
        "id": "f59Bpw2jpGFj"
      },
      "execution_count": 49,
      "outputs": []
    },
    {
      "cell_type": "code",
      "source": [
        "model = RecommenderNet(num_users, num_products, embedding_size=50)\n",
        "\n",
        "model.compile(\n",
        "    loss='mse',\n",
        "    optimizer = keras.optimizers.Adam(learning_rate=0.0005),\n",
        "    metrics=[tf.keras.metrics.RootMeanSquaredError()]\n",
        ")\n",
        "history = model.fit(\n",
        "    x=X_train,\n",
        "    y=y_train,\n",
        "    batch_size=256,\n",
        "    epochs=10,\n",
        "    validation_data=(X_val, y_val),\n",
        "    callbacks=[early_stop, reduce_lr]\n",
        ")\n"
      ],
      "metadata": {
        "id": "XUxFXY-0M2FH",
        "colab": {
          "base_uri": "https://localhost:8080/"
        },
        "outputId": "222932a7-04b6-4ace-fa33-5d4f4ab6de5a"
      },
      "execution_count": 50,
      "outputs": [
        {
          "output_type": "stream",
          "name": "stdout",
          "text": [
            "Epoch 1/10\n",
            "\u001b[1m3906/3906\u001b[0m \u001b[32m━━━━━━━━━━━━━━━━━━━━\u001b[0m\u001b[37m\u001b[0m \u001b[1m39s\u001b[0m 9ms/step - loss: 0.0302 - root_mean_squared_error: 0.1704 - val_loss: 0.0217 - val_root_mean_squared_error: 0.1467 - learning_rate: 5.0000e-04\n",
            "Epoch 2/10\n",
            "\u001b[1m3906/3906\u001b[0m \u001b[32m━━━━━━━━━━━━━━━━━━━━\u001b[0m\u001b[37m\u001b[0m \u001b[1m39s\u001b[0m 9ms/step - loss: 0.0178 - root_mean_squared_error: 0.1319 - val_loss: 0.0149 - val_root_mean_squared_error: 0.1188 - learning_rate: 5.0000e-04\n",
            "Epoch 3/10\n",
            "\u001b[1m3906/3906\u001b[0m \u001b[32m━━━━━━━━━━━━━━━━━━━━\u001b[0m\u001b[37m\u001b[0m \u001b[1m41s\u001b[0m 9ms/step - loss: 0.0076 - root_mean_squared_error: 0.0819 - val_loss: 0.0139 - val_root_mean_squared_error: 0.1130 - learning_rate: 5.0000e-04\n",
            "Epoch 4/10\n",
            "\u001b[1m3906/3906\u001b[0m \u001b[32m━━━━━━━━━━━━━━━━━━━━\u001b[0m\u001b[37m\u001b[0m \u001b[1m44s\u001b[0m 9ms/step - loss: 0.0049 - root_mean_squared_error: 0.0617 - val_loss: 0.0141 - val_root_mean_squared_error: 0.1134 - learning_rate: 5.0000e-04\n",
            "Epoch 5/10\n",
            "\u001b[1m3906/3906\u001b[0m \u001b[32m━━━━━━━━━━━━━━━━━━━━\u001b[0m\u001b[37m\u001b[0m \u001b[1m38s\u001b[0m 9ms/step - loss: 0.0046 - root_mean_squared_error: 0.0586 - val_loss: 0.0140 - val_root_mean_squared_error: 0.1128 - learning_rate: 5.0000e-04\n",
            "Epoch 6/10\n",
            "\u001b[1m3906/3906\u001b[0m \u001b[32m━━━━━━━━━━━━━━━━━━━━\u001b[0m\u001b[37m\u001b[0m \u001b[1m41s\u001b[0m 9ms/step - loss: 0.0040 - root_mean_squared_error: 0.0535 - val_loss: 0.0127 - val_root_mean_squared_error: 0.1082 - learning_rate: 2.5000e-04\n",
            "Epoch 7/10\n",
            "\u001b[1m3906/3906\u001b[0m \u001b[32m━━━━━━━━━━━━━━━━━━━━\u001b[0m\u001b[37m\u001b[0m \u001b[1m34s\u001b[0m 9ms/step - loss: 0.0022 - root_mean_squared_error: 0.0359 - val_loss: 0.0131 - val_root_mean_squared_error: 0.1109 - learning_rate: 2.5000e-04\n",
            "Epoch 8/10\n",
            "\u001b[1m3906/3906\u001b[0m \u001b[32m━━━━━━━━━━━━━━━━━━━━\u001b[0m\u001b[37m\u001b[0m \u001b[1m34s\u001b[0m 9ms/step - loss: 0.0024 - root_mean_squared_error: 0.0408 - val_loss: 0.0132 - val_root_mean_squared_error: 0.1118 - learning_rate: 2.5000e-04\n",
            "Epoch 9/10\n",
            "\u001b[1m3906/3906\u001b[0m \u001b[32m━━━━━━━━━━━━━━━━━━━━\u001b[0m\u001b[37m\u001b[0m \u001b[1m35s\u001b[0m 9ms/step - loss: 0.0023 - root_mean_squared_error: 0.0403 - val_loss: 0.0124 - val_root_mean_squared_error: 0.1086 - learning_rate: 1.2500e-04\n",
            "Epoch 10/10\n",
            "\u001b[1m3906/3906\u001b[0m \u001b[32m━━━━━━━━━━━━━━━━━━━━\u001b[0m\u001b[37m\u001b[0m \u001b[1m40s\u001b[0m 9ms/step - loss: 0.0012 - root_mean_squared_error: 0.0256 - val_loss: 0.0127 - val_root_mean_squared_error: 0.1104 - learning_rate: 1.2500e-04\n"
          ]
        }
      ]
    },
    {
      "cell_type": "markdown",
      "source": [
        "## **Get Recommendation**"
      ],
      "metadata": {
        "id": "UZuU3z2HSGB0"
      }
    },
    {
      "cell_type": "code",
      "source": [
        "def recommend_products_with_customer_info(model, user_id_original, top_k=10):\n",
        "    # Encode user ID\n",
        "    user_id_encoded = user2user_encoded[user_id_original]\n",
        "\n",
        "    # Info customer\n",
        "    customer_info = df[df['Customer ID'] == user_id_original][['Customer ID', 'Name', 'Gender','Age']].drop_duplicates().reset_index(drop=True)\n",
        "\n",
        "    # Produk yang belum dibeli\n",
        "    products_bought = cf_data[cf_data['user'] == user_id_encoded]['product'].values\n",
        "    all_product_indices = np.array([i for i in range(num_products) if i not in products_bought])\n",
        "\n",
        "    # Prediksi skor\n",
        "    user_array = np.full(len(all_product_indices), user_id_encoded)\n",
        "    predictions = model.predict(np.stack([user_array, all_product_indices], axis=1)).flatten()\n",
        "\n",
        "    # Ambil top-k\n",
        "    top_indices = predictions.argsort()[-top_k:][::-1]\n",
        "    recommended_product_ids = [product_ids[all_product_indices[i]] for i in top_indices]\n",
        "\n",
        "    # Info produk\n",
        "    recommended_df = df[df['Product ID'].isin(recommended_product_ids)][[\n",
        "        'Product ID', 'Category', 'Sub Category', 'Color_y', 'Sizes', 'Description EN'\n",
        "    ]].drop_duplicates().reset_index(drop=True)\n",
        "\n",
        "    return customer_info, recommended_df\n"
      ],
      "metadata": {
        "id": "6TcD_wNmM4P_"
      },
      "execution_count": 51,
      "outputs": []
    },
    {
      "cell_type": "markdown",
      "source": [
        "Fungsi recommend_products_with_customer_info dirancang untuk menghasilkan rekomendasi produk bagi pengguna tertentu dengan menyertakan informasi profil pengguna dan detail produk yang direkomendasikan. Pertama, fungsi ini mengubah ID pengguna asli menjadi ID numerik yang digunakan dalam model. Selanjutnya, informasi dasar pengguna seperti nama, gender, dan usia diambil dari dataset. Fungsi ini kemudian mengidentifikasi produk-produk yang belum dibeli oleh pengguna dan memprediksi skor preferensi pengguna terhadap produk-produk tersebut menggunakan model rekomendasi. Dari hasil prediksi, fungsi memilih top_k produk dengan skor tertinggi dan mengambil informasi deskriptif dari produk-produk tersebut seperti kategori, subkategori, warna, ukuran, dan deskripsi. Fungsi ini mengembalikan dua DataFrame: satu berisi informasi pengguna dan satu lagi berisi daftar produk yang direkomendasikan."
      ],
      "metadata": {
        "id": "jSofejbL3EGC"
      }
    },
    {
      "cell_type": "code",
      "source": [
        "user_id_sample = df['Customer ID'].iloc[0]  # atau pilih ID manual\n",
        "customer_info, recommendation_result = recommend_products_with_customer_info(model, user_id_sample)\n",
        "\n",
        "print(\"Informasi Pelanggan:\\n\")\n",
        "print(customer_info.to_string(index=False))\n",
        "\n",
        "print(\"\\nRekomendasi Produk:\\n\")\n",
        "print(recommendation_result.to_string(index=False))\n"
      ],
      "metadata": {
        "id": "mgeqYwxgVwHf",
        "colab": {
          "base_uri": "https://localhost:8080/"
        },
        "outputId": "22c73a53-1239-43e1-9692-9d309a0de0ab"
      },
      "execution_count": 52,
      "outputs": [
        {
          "output_type": "stream",
          "name": "stdout",
          "text": [
            "\u001b[1m168/168\u001b[0m \u001b[32m━━━━━━━━━━━━━━━━━━━━\u001b[0m\u001b[37m\u001b[0m \u001b[1m1s\u001b[0m 3ms/step\n",
            "Informasi Pelanggan:\n",
            "\n",
            " Customer ID          Name Gender  Age\n",
            "       47162 Rachel Herman      F   41\n",
            "\n",
            "Rekomendasi Produk:\n",
            "\n",
            " Product ID  Category       Sub Category Color_y             Sizes                                 Description EN\n",
            "      16600 Masculine  Coats and Blazers   BEIGE        M|L|XL|XXL                 Streetwear Tricot Beige Smooth\n",
            "      15311  Children              Coats   GREEN             P|M|G          Green Jacquard Executive With Buttons\n",
            "      16132 Masculine  Coats and Blazers   BLACK        M|L|XL|XXL               Vintage Black Jacquard With Hood\n",
            "      17764  Feminine    Pants and Jeans   BLACK 36|38|40|42|44|46 Women'S Jeans With Dark Wash And Black Details\n",
            "      16927  Feminine  Coats and Blazers MUSTARD             S|M|L                Luxurious Velvet Mustard Padded\n",
            "      15092 Masculine  Coats and Blazers   WHITE        M|L|XL|XXL                    Formal White Wool With Hood\n",
            "      16871  Children              Coats NEUTRAL             P|M|G                Nylon Neutral Embroidery Sports\n",
            "      15883  Children              Coats     RED             P|M|G                 Classic Red Embroidered Tricot\n",
            "       2978 Masculine T-shirts and Polos    GOLD        M|L|XL|XXL            Gold Polyester Streetwear With Hood\n",
            "      15309  Children Baby (0-12 months)     RED             P|M|G                  Modern Red Nylon With Pockets\n"
          ]
        }
      ]
    },
    {
      "cell_type": "markdown",
      "source": [
        "## **Evaluation**"
      ],
      "metadata": {
        "id": "daRuwp4434ov"
      }
    },
    {
      "cell_type": "code",
      "source": [
        "plt.figure(figsize=(10, 4))\n",
        "\n",
        "plt.subplot(1, 2, 1)\n",
        "plt.plot(history.history['loss'], label='Training Loss')\n",
        "plt.plot(history.history['val_loss'], label='Validation Loss')\n",
        "plt.title('Loss over Epochs')\n",
        "plt.xlabel('Epoch')\n",
        "plt.ylabel('MSE Loss')\n",
        "plt.legend()\n",
        "\n",
        "plt.subplot(1, 2, 2)\n",
        "plt.plot(history.history['root_mean_squared_error'], label='Train RMSE')\n",
        "plt.plot(history.history['val_root_mean_squared_error'], label='Val RMSE')\n",
        "plt.title('RMSE')\n",
        "plt.xlabel('Epoch')\n",
        "plt.ylabel('RMSE')\n",
        "plt.legend()\n",
        "\n",
        "plt.tight_layout()\n",
        "plt.show()"
      ],
      "metadata": {
        "id": "HW6HMETBA7iq",
        "colab": {
          "base_uri": "https://localhost:8080/",
          "height": 407
        },
        "outputId": "43795496-f5ec-40f7-c967-4fc1b9fa1679"
      },
      "execution_count": 53,
      "outputs": [
        {
          "output_type": "display_data",
          "data": {
            "text/plain": [
              "<Figure size 1000x400 with 2 Axes>"
            ],
            "image/png": "[encoded data removed]"
          },
          "metadata": {}
        }
      ]
    },
    {
      "cell_type": "markdown",
      "source": [
        "### **Evaluasi Model Regresi dengan Metrik MSE & RMSE (Data Terbaru)**\n",
        "\n",
        "* **Performa Model Selama Training dan Validasi:**\n",
        "\n",
        "  * Model menunjukkan **penurunan yang konsisten pada *training loss* dan RMSE** pada epoch awal. Misalnya, *loss* turun dari 0.0302 (RMSE 0.1704) pada Epoch 1 menjadi 0.0012 (RMSE 0.0256) pada Epoch 10.\n",
        "  * Pada data validasi, **`val_loss` dan `val_RMSE` juga menunjukkan tren penurunan di awal**, dari 0.0217 (RMSE 0.1467) pada Epoch 1 ke nilai terendah sekitar 0.0124 (RMSE 0.1086) pada Epoch 9. Namun, setelah Epoch 6, terlihat **sedikit fluktuasi dan potensi kenaikan tipis pada `val_loss` dan `val_RMSE`** (misalnya, `val_loss` 0.0132 dan `val_RMSE` 0.1118 pada Epoch 8 setelah sebelumnya mencapai nilai lebih rendah), yang perlu diwaspadai sebagai tanda awal *overfitting* atau model mencapai batas kemampuannya dengan konfigurasi saat ini.\n",
        "\n",
        "* **Konsistensi dan Stabilitas Pelatihan:**\n",
        "\n",
        "  * *Gap* antara *training loss/RMSE* dan *validation loss/RMSE* mulai **sedikit melebar setelah Epoch 6**, di mana *training loss* terus menurun sementara *validation loss* cenderung stagnan atau sedikit naik. Ini mengindikasikan bahwa model mungkin mulai mempelajari *noise* pada data training.\n",
        "  * Strategi penurunan *learning rate* (dari 5.0000e-04 ke 2.5000e-04 pada Epoch 6, lalu ke 1.2500e-04 pada Epoch 9) adalah langkah yang baik untuk *fine-tuning*. Penurunan *learning rate* ini tampaknya membantu menurunkan *training loss* lebih lanjut, tetapi belum signifikan memperbaiki *validation loss* di epoch-epoch terakhir yang Anda berikan.\n",
        "\n",
        "* **Kualitas Prediksi Berdasarkan RMSE:**\n",
        "\n",
        "  * RMSE training mencapai nilai yang sangat rendah (< 0.05), menunjukkan model sangat cocok dengan data training.\n",
        "  * RMSE validasi stabil di kisaran 0.108 hingga 0.114 di epoch-epoch terakhir yang ditunjukkan. Kualitas prediksi pada data validasi ini cukup baik, namun perlu diperhatikan agar tidak memburuk jika pelatihan dilanjutkan tanpa penyesuaian.\n",
        "\n",
        "* **Penurunan Metrik dan Potensi *Overfitting*:**\n",
        "\n",
        "  * Penurunan tajam pada *training loss* dan *validation loss* terjadi hingga sekitar Epoch 3-6. Setelah itu, *training loss* masih menurun, tetapi *validation loss* tidak lagi menunjukkan penurunan signifikan, bahkan ada kecenderungan sedikit meningkat. Ini adalah **indikasi klasik bahwa model mungkin mendekati fase *overfitting*** atau sudah mencapai performa optimalnya pada data validasi dengan arsitektur dan *hyperparameter* saat ini.\n",
        "\n",
        "---\n",
        "\n",
        "### **Kesimpulan**\n",
        "\n",
        "* Model regresi menunjukkan **pembelajaran yang sangat baik pada data training**.\n",
        "* Performa pada data validasi **baik hingga Epoch 6**, namun setelah itu menunjukkan **tanda-tanda awal *overfitting* atau stagnasi**, di mana metrik validasi tidak membaik seiring metrik training yang terus membaik.\n",
        "* Strategi penurunan *learning rate* sudah diterapkan, yang merupakan praktik yang baik.\n",
        "* Dengan `val_RMSE` berada di sekitar 0.108 - 0.111, model ini masih bisa dianggap cukup *reliable*. Namun, sangat disarankan untuk **memantau dengan ketat beberapa epoch ke depan** atau mempertimbangkan strategi seperti **`EarlyStopping`** berdasarkan `val_loss` untuk mencegah *overfitting* yang lebih parah. Jika `val_loss` mulai meningkat secara konsisten, menghentikan pelatihan lebih awal adalah pilihan yang bijak.\n",
        "* Pertimbangkan untuk menyimpan model pada epoch di mana `val_loss` mencapai nilai minimum (sekitar Epoch 6 atau 9 berdasarkan data ini, tergantung mana yang terendah jika dilihat lebih detail atau jika ada fluktuasi)."
      ],
      "metadata": {
        "id": "LRmtU9fT5qsm"
      }
    },
    {
      "cell_type": "markdown",
      "source": [
        "# **5. Pembangunan Model Collaborative Filtering (MatrixFactorization)**"
      ],
      "metadata": {
        "id": "BmRxC8gAVwID"
      }
    },
    {
      "cell_type": "markdown",
      "source": [
        "Kelas MatrixFactorization merupakan implementasi model rekomendasi berbasis teknik faktorisasi matriks menggunakan TensorFlow. Model ini menggunakan dua layer embedding terpisah untuk merepresentasikan pengguna dan item (produk) dalam bentuk vektor berdimensi laten. Vektor-vektor embedding ini dipelajari selama proses pelatihan untuk merepresentasikan preferensi pengguna dan karakteristik item. Dalam metode call, model mengambil pasangan input pengguna dan produk, kemudian menghitung hasil perkalian dot product antara vektor embedding pengguna dan item untuk menghasilkan prediksi rating atau skor ketertarikan. Pendekatan ini merupakan salah satu teknik collaborative filtering yang sederhana namun efektif untuk merekomendasikan item berdasarkan interaksi historis antara pengguna dan produk."
      ],
      "metadata": {
        "id": "yxGqLXIR3b6O"
      }
    },
    {
      "cell_type": "code",
      "source": [
        "class MatrixFactorization(tf.keras.Model):\n",
        "    def __init__(self, num_users, num_items, latent_dim=50):\n",
        "        super(MatrixFactorization, self).__init__()\n",
        "        self.user_embedding = tf.keras.layers.Embedding(\n",
        "            input_dim=num_users, output_dim=latent_dim,\n",
        "            embeddings_initializer='he_normal',\n",
        "            embeddings_regularizer=tf.keras.regularizers.l2(1e-6)\n",
        "        )\n",
        "        self.item_embedding = tf.keras.layers.Embedding(\n",
        "            input_dim=num_items, output_dim=latent_dim,\n",
        "            embeddings_initializer='he_normal',\n",
        "            embeddings_regularizer=tf.keras.regularizers.l2(1e-6)\n",
        "        )\n",
        "\n",
        "    def call(self, inputs):\n",
        "        user_vector = self.user_embedding(inputs[:, 0])\n",
        "        item_vector = self.item_embedding(inputs[:, 1])\n",
        "        dot_product = tf.reduce_sum(user_vector * item_vector, axis=1, keepdims=True)\n",
        "        return dot_product\n"
      ],
      "metadata": {
        "id": "yObpSICxVzPG"
      },
      "execution_count": 54,
      "outputs": []
    },
    {
      "cell_type": "code",
      "source": [
        "mf_model = MatrixFactorization(num_users=num_users, num_items=num_products, latent_dim=50)\n",
        "\n",
        "mf_model.compile(\n",
        "    optimizer=tf.keras.optimizers.Adam(learning_rate=0.001),\n",
        "    loss='mse',\n",
        "    metrics=[tf.keras.metrics.RootMeanSquaredError()]\n",
        ")\n",
        "\n",
        "history_mf = mf_model.fit(\n",
        "    X_train, y_train,\n",
        "    batch_size=256,\n",
        "    epochs=10,\n",
        "    validation_data=(X_val, y_val),\n",
        "    callbacks=[early_stop, reduce_lr]\n",
        ")\n"
      ],
      "metadata": {
        "id": "OzE6VJQEV-JG",
        "colab": {
          "base_uri": "https://localhost:8080/"
        },
        "outputId": "ed599b94-2fbf-4d0c-c0e0-560c054cf50a"
      },
      "execution_count": 55,
      "outputs": [
        {
          "output_type": "stream",
          "name": "stdout",
          "text": [
            "Epoch 1/10\n",
            "\u001b[1m3906/3906\u001b[0m \u001b[32m━━━━━━━━━━━━━━━━━━━━\u001b[0m\u001b[37m\u001b[0m \u001b[1m35s\u001b[0m 9ms/step - loss: 0.1759 - root_mean_squared_error: 0.4165 - val_loss: 0.1254 - val_root_mean_squared_error: 0.3251 - learning_rate: 0.0010\n",
            "Epoch 2/10\n",
            "\u001b[1m3906/3906\u001b[0m \u001b[32m━━━━━━━━━━━━━━━━━━━━\u001b[0m\u001b[37m\u001b[0m \u001b[1m39s\u001b[0m 8ms/step - loss: 0.0915 - root_mean_squared_error: 0.2586 - val_loss: 0.0972 - val_root_mean_squared_error: 0.2574 - learning_rate: 0.0010\n",
            "Epoch 3/10\n",
            "\u001b[1m3906/3906\u001b[0m \u001b[32m━━━━━━━━━━━━━━━━━━━━\u001b[0m\u001b[37m\u001b[0m \u001b[1m33s\u001b[0m 9ms/step - loss: 0.0657 - root_mean_squared_error: 0.1846 - val_loss: 0.0970 - val_root_mean_squared_error: 0.2543 - learning_rate: 0.0010\n",
            "Epoch 4/10\n",
            "\u001b[1m3906/3906\u001b[0m \u001b[32m━━━━━━━━━━━━━━━━━━━━\u001b[0m\u001b[37m\u001b[0m \u001b[1m41s\u001b[0m 8ms/step - loss: 0.0651 - root_mean_squared_error: 0.1812 - val_loss: 0.0964 - val_root_mean_squared_error: 0.2530 - learning_rate: 0.0010\n",
            "Epoch 5/10\n",
            "\u001b[1m3906/3906\u001b[0m \u001b[32m━━━━━━━━━━━━━━━━━━━━\u001b[0m\u001b[37m\u001b[0m \u001b[1m33s\u001b[0m 8ms/step - loss: 0.0641 - root_mean_squared_error: 0.1785 - val_loss: 0.0958 - val_root_mean_squared_error: 0.2519 - learning_rate: 0.0010\n",
            "Epoch 6/10\n",
            "\u001b[1m3906/3906\u001b[0m \u001b[32m━━━━━━━━━━━━━━━━━━━━\u001b[0m\u001b[37m\u001b[0m \u001b[1m34s\u001b[0m 9ms/step - loss: 0.0629 - root_mean_squared_error: 0.1755 - val_loss: 0.0951 - val_root_mean_squared_error: 0.2507 - learning_rate: 0.0010\n",
            "Epoch 7/10\n",
            "\u001b[1m3906/3906\u001b[0m \u001b[32m━━━━━━━━━━━━━━━━━━━━\u001b[0m\u001b[37m\u001b[0m \u001b[1m40s\u001b[0m 8ms/step - loss: 0.0619 - root_mean_squared_error: 0.1726 - val_loss: 0.0945 - val_root_mean_squared_error: 0.2497 - learning_rate: 0.0010\n",
            "Epoch 8/10\n",
            "\u001b[1m3906/3906\u001b[0m \u001b[32m━━━━━━━━━━━━━━━━━━━━\u001b[0m\u001b[37m\u001b[0m \u001b[1m33s\u001b[0m 9ms/step - loss: 0.0609 - root_mean_squared_error: 0.1702 - val_loss: 0.0939 - val_root_mean_squared_error: 0.2487 - learning_rate: 0.0010\n",
            "Epoch 9/10\n",
            "\u001b[1m3906/3906\u001b[0m \u001b[32m━━━━━━━━━━━━━━━━━━━━\u001b[0m\u001b[37m\u001b[0m \u001b[1m41s\u001b[0m 9ms/step - loss: 0.0600 - root_mean_squared_error: 0.1676 - val_loss: 0.0936 - val_root_mean_squared_error: 0.2482 - learning_rate: 0.0010\n",
            "Epoch 10/10\n",
            "\u001b[1m3906/3906\u001b[0m \u001b[32m━━━━━━━━━━━━━━━━━━━━\u001b[0m\u001b[37m\u001b[0m \u001b[1m40s\u001b[0m 8ms/step - loss: 0.0593 - root_mean_squared_error: 0.1658 - val_loss: 0.0931 - val_root_mean_squared_error: 0.2474 - learning_rate: 0.0010\n"
          ]
        }
      ]
    },
    {
      "cell_type": "code",
      "source": [
        "def recommend_products_mf(model, user_id_original, top_k=10):\n",
        "    user_id_encoded = user2user_encoded[user_id_original]\n",
        "\n",
        "    customer_info = df[df['Customer ID'] == user_id_original][['Customer ID', 'Name', 'Gender','Age']].drop_duplicates().reset_index(drop=True)\n",
        "\n",
        "    products_bought = cf_data[cf_data['user'] == user_id_encoded]['product'].values\n",
        "    all_product_indices = np.array([i for i in range(num_products) if i not in products_bought])\n",
        "\n",
        "    user_array = np.full(len(all_product_indices), user_id_encoded)\n",
        "    predictions = model.predict(np.stack([user_array, all_product_indices], axis=1)).flatten()\n",
        "\n",
        "    top_indices = predictions.argsort()[-top_k:][::-1]\n",
        "    recommended_product_ids = [product_ids[all_product_indices[i]] for i in top_indices]\n",
        "\n",
        "    recommended_df = df[df['Product ID'].isin(recommended_product_ids)][[\n",
        "        'Product ID', 'Category', 'Sub Category', 'Color_y', 'Sizes', 'Description EN'\n",
        "    ]].drop_duplicates().reset_index(drop=True)\n",
        "\n",
        "    return customer_info, recommended_df\n"
      ],
      "metadata": {
        "id": "yiJuhMsAV_bS"
      },
      "execution_count": 56,
      "outputs": []
    },
    {
      "cell_type": "markdown",
      "source": [
        "Fungsi recommend_products_mf digunakan untuk menghasilkan rekomendasi produk berbasis model Matrix Factorization bagi pengguna tertentu. Fungsi ini dimulai dengan mengonversi ID pengguna asli menjadi ID numerik yang telah digunakan dalam pelatihan model. Informasi dasar pengguna seperti nama, jenis kelamin, dan usia diambil dari dataset utama. Selanjutnya, fungsi mengidentifikasi produk-produk yang belum pernah dibeli oleh pengguna tersebut dan memprediksi skor ketertarikan terhadap produk-produk tersebut menggunakan model Matrix Factorization yang telah dilatih sebelumnya. Berdasarkan hasil prediksi, fungsi memilih top_k produk dengan skor tertinggi sebagai rekomendasi. Produk-produk ini kemudian dilengkapi dengan informasi deskriptif seperti kategori, subkategori, warna, ukuran, dan deskripsi dalam bahasa Inggris. Hasil akhir dari fungsi ini adalah dua DataFrame: satu berisi informasi pengguna dan satu lagi berisi daftar produk yang direkomendasikan."
      ],
      "metadata": {
        "id": "BdJKgMfa3NZR"
      }
    },
    {
      "cell_type": "markdown",
      "source": [
        "## **Get Recommendation**"
      ],
      "metadata": {
        "id": "GVGrnadW3--u"
      }
    },
    {
      "cell_type": "code",
      "source": [
        "user_id_sample = df['Customer ID'].iloc[0]  # atau pilih ID manual\n",
        "customer_info, recommendation_result = recommend_products_mf(model, user_id_sample)\n",
        "\n",
        "print(\"Informasi Pelanggan:\\n\")\n",
        "print(customer_info.to_string(index=False))\n",
        "\n",
        "print(\"\\nRekomendasi Produk:\\n\")\n",
        "print(recommendation_result.to_string(index=False))"
      ],
      "metadata": {
        "id": "3-UtN9lUWB3E",
        "colab": {
          "base_uri": "https://localhost:8080/"
        },
        "outputId": "c866f223-6152-442d-cf06-22207482fd16"
      },
      "execution_count": 57,
      "outputs": [
        {
          "output_type": "stream",
          "name": "stdout",
          "text": [
            "\u001b[1m168/168\u001b[0m \u001b[32m━━━━━━━━━━━━━━━━━━━━\u001b[0m\u001b[37m\u001b[0m \u001b[1m0s\u001b[0m 1ms/step\n",
            "Informasi Pelanggan:\n",
            "\n",
            " Customer ID          Name Gender  Age\n",
            "       47162 Rachel Herman      F   41\n",
            "\n",
            "Rekomendasi Produk:\n",
            "\n",
            " Product ID  Category       Sub Category Color_y             Sizes                                 Description EN\n",
            "      16600 Masculine  Coats and Blazers   BEIGE        M|L|XL|XXL                 Streetwear Tricot Beige Smooth\n",
            "      15311  Children              Coats   GREEN             P|M|G          Green Jacquard Executive With Buttons\n",
            "      16132 Masculine  Coats and Blazers   BLACK        M|L|XL|XXL               Vintage Black Jacquard With Hood\n",
            "      17764  Feminine    Pants and Jeans   BLACK 36|38|40|42|44|46 Women'S Jeans With Dark Wash And Black Details\n",
            "      16927  Feminine  Coats and Blazers MUSTARD             S|M|L                Luxurious Velvet Mustard Padded\n",
            "      15092 Masculine  Coats and Blazers   WHITE        M|L|XL|XXL                    Formal White Wool With Hood\n",
            "      16871  Children              Coats NEUTRAL             P|M|G                Nylon Neutral Embroidery Sports\n",
            "      15883  Children              Coats     RED             P|M|G                 Classic Red Embroidered Tricot\n",
            "       2978 Masculine T-shirts and Polos    GOLD        M|L|XL|XXL            Gold Polyester Streetwear With Hood\n",
            "      15309  Children Baby (0-12 months)     RED             P|M|G                  Modern Red Nylon With Pockets\n"
          ]
        }
      ]
    },
    {
      "cell_type": "markdown",
      "source": [
        "## **Evaluation**"
      ],
      "metadata": {
        "id": "Qc4Qv1kT4CfH"
      }
    },
    {
      "cell_type": "code",
      "source": [
        "def plot_evaluation(history):\n",
        "    # Plot Loss\n",
        "    plt.figure(figsize=(12, 5))\n",
        "\n",
        "    # Plot Loss\n",
        "    plt.subplot(1, 2, 1)\n",
        "    plt.plot(history.history['loss'], label='Training Loss')\n",
        "    plt.plot(history.history['val_loss'], label='Validation Loss')\n",
        "    plt.title('Loss over Epochs')\n",
        "    plt.xlabel('Epoch')\n",
        "    plt.ylabel('MSE Loss')\n",
        "    plt.legend()\n",
        "\n",
        "    # Plot RMSE\n",
        "    plt.subplot(1, 2, 2)\n",
        "    plt.plot(history.history['root_mean_squared_error'], label='Training RMSE')\n",
        "    plt.plot(history.history['val_root_mean_squared_error'], label='Validation RMSE')\n",
        "    plt.title('RMSE over Epochs')\n",
        "    plt.xlabel('Epoch')\n",
        "    plt.ylabel('Root Mean Squared Error')\n",
        "    plt.legend()\n",
        "\n",
        "    plt.tight_layout()\n",
        "    plt.show()\n",
        "\n",
        "# Panggil fungsi untuk model MF\n",
        "plot_evaluation(history_mf)\n"
      ],
      "metadata": {
        "colab": {
          "base_uri": "https://localhost:8080/",
          "height": 527
        },
        "id": "vZc8Uuh0epQp",
        "outputId": "fa016c41-a477-4a08-e35e-54bc4d077887"
      },
      "execution_count": 58,
      "outputs": [
        {
          "output_type": "display_data",
          "data": {
            "text/plain": [
              "<Figure size 1200x500 with 2 Axes>"
            ],
            "image/png": "[encoded data removed]"
          },
          "metadata": {}
        }
      ]
    },
    {
      "cell_type": "markdown",
      "source": [
        "### **Evaluasi Model Regresi dengan Metrik MSE & RMSE (Data Terbaru)**\n",
        "\n",
        "#### **Performa selama training dan validasi:**\n",
        "\n",
        "* **Training Loss (MSE)** menunjukkan penurunan yang konsisten dan signifikan, dari 0.1759 pada Epoch 1 menjadi 0.0593 pada Epoch 10.\n",
        "* **Validation Loss (MSE)** juga mengalami penurunan yang baik, dari 0.1254 pada Epoch 1 menjadi 0.0931 pada Epoch 10. Penurunan ini terlihat lebih landai setelah beberapa epoch awal, tetapi tetap menunjukkan tren positif.\n",
        "* **Training RMSE** turun secara drastis dari 0.4165 ke 0.1658, dan **Validation RMSE** juga membaik dari 0.3251 ke 0.2474. Ini mengindikasikan bahwa model belajar dengan baik dan akurasinya meningkat pada kedua set data.\n",
        "\n",
        "#### **Konsistensi dan Stabilitas Training:**\n",
        "\n",
        "* Grafik (diasumsikan dari data) akan menunjukkan **penurunan yang stabil pada *training loss* dan RMSE**.\n",
        "* *Gap* antara *training metrics* dan *validation metrics* ada, namun **tidak terlihat melebar secara signifikan yang mengindikasikan *overfitting*** parah dalam 10 epoch ini. Kurva validasi yang terus menurun, meskipun lebih lambat, adalah pertanda baik.\n",
        "* Laju penurunan pada *validation loss/RMSE* melambat dibandingkan *training loss/RMSE*, yang merupakan hal wajar seiring model mendekati konvergensi atau batas kemampuannya dengan *learning rate* saat ini.\n",
        "\n",
        "#### **Kualitas Prediksi dan Efisiensi:**\n",
        "\n",
        "* RMSE validasi akhir sebesar 0.2474 mengindikasikan tingkat akurasi model. Jika nilai target data Anda berada pada skala kecil (misalnya, antara 0 dan 1), RMSE ini bisa dianggap cukup baik. Namun, jika skala target lebih besar, interpretasinya mungkin berbeda.\n",
        "* Perbaikan pada *validation loss* dan *validation RMSE* menjadi semakin kecil di epoch-epoch terakhir (misalnya, dari Epoch 9 ke Epoch 10, `val_loss` turun dari 0.0936 ke 0.0931). Ini menandakan bahwa model mungkin **mendekati konvergensi atau *plateau*** dengan *learning rate* 0.0010 yang konstan.\n",
        "\n",
        "#### **Visualisasi Kurva (Asumsi):**\n",
        "\n",
        "* Kurva *training loss* dan *validation loss* (serta RMSE) akan menunjukkan tren penurunan yang sehat.\n",
        "* Tidak ada tanda-tanda *validation loss* yang mulai naik secara konsisten, yang berarti **tidak ada *overfitting* yang jelas** dalam 10 epoch ini.\n",
        "\n",
        "---\n",
        "\n",
        "### **Kesimpulan Evaluasi**\n",
        "\n",
        "* Model menunjukkan **progres pembelajaran yang baik dan stabil** pada 10 epoch pertama, dengan peningkatan akurasi yang terlihat pada data training maupun data validasi.\n",
        "* Saat ini, model **tidak menunjukkan tanda-tanda *overfitting*** yang signifikan. *Validation loss* masih menurun, yang merupakan indikasi positif.\n",
        "* Meskipun performa meningkat, laju perbaikan pada data validasi mulai melambat. Untuk optimasi lebih lanjut dan potensi peningkatan performa di epoch berikutnya, beberapa strategi bisa dipertimbangkan:\n",
        "\n",
        "  * **Melanjutkan pelatihan** untuk beberapa epoch lagi dengan *learning rate* saat ini untuk melihat apakah *validation loss* bisa turun lebih jauh.\n",
        "  * Jika *validation loss* mulai stagnan atau meningkat, terapkan **`EarlyStopping`**.\n",
        "  * Menerapkan **pengurangan *learning rate*** (*learning rate decay* atau *scheduler*) setelah beberapa epoch stagnasi dapat membantu model melakukan *fine-tuning* dan mungkin mencapai konvergensi yang lebih baik.\n",
        "* Secara keseluruhan, dengan `val_RMSE` sekitar 0.2474, model ini menunjukkan potensi yang baik dan dapat dilanjutkan ke tahap evaluasi lebih lanjut atau *fine-tuning* jika diperlukan.\n",
        "\n"
      ],
      "metadata": {
        "id": "-ebS3m3s6ek_"
      }
    },
    {
      "cell_type": "markdown",
      "source": [
        "\n",
        "\n",
        "### **6. Kesimpulan Umum Model**\n",
        "\n",
        "Berdasarkan performa terkini dari kedua model regresi (RecommenderNet dan Matrix Factorization), berikut adalah kesimpulan yang telah diperbarui secara menyeluruh:\n",
        "\n",
        "1. **RecommenderNet menunjukkan performa pelatihan sangat baik**, dengan *training loss* turun tajam dari 0.0302 menjadi 0.0012 dan *training RMSE* mencapai nilai rendah yaitu **0.0256** pada akhir epoch. Namun, setelah epoch ke-6, terlihat adanya **tanda-tanda awal overfitting**, di mana *validation loss* mulai sedikit meningkat dari 0.0124 ke 0.0132, dan *validation RMSE* naik tipis dari 0.1086 ke 0.1118 pada epoch ke-8 sebelum turun kembali sedikit di epoch ke-10 (**val\\_RMSE akhir 0.1089**).\n",
        "\n",
        "2. **Matrix Factorization menunjukkan pembelajaran stabil dan konsisten** selama 10 epoch, dengan *training loss* menurun dari 0.1755 ke 0.0582, dan *training RMSE* akhir sebesar **0.1658**. *Validation loss* dan *validation RMSE* juga menurun stabil dari 0.1254 ke 0.0931 dan dari 0.3251 ke **0.2474**, tanpa tanda-tanda overfitting.\n",
        "\n",
        "3. **Perbandingan performa akhir** menunjukkan bahwa **RecommenderNet memiliki akurasi validasi yang lebih tinggi** (val\\_RMSE 0.1089 vs 0.2474) dan belajar lebih baik pada data training, tetapi perlu diwaspadai potensi *overfitting* jika pelatihan dilanjutkan tanpa strategi seperti `EarlyStopping`.\n",
        "\n",
        "4. **Matrix Factorization unggul dalam kestabilan**, dengan penurunan metrik yang konsisten tanpa fluktuasi berarti, cocok jika tujuan Anda adalah model yang lebih aman untuk generalisasi awal dan baseline.\n",
        "\n",
        "5. **Rekomendasi:**\n",
        "\n",
        "   * Jika Anda membutuhkan model dengan **akurasi tinggi**, pilih **RecommenderNet** dan **aktifkan `EarlyStopping`** untuk menghentikan pelatihan saat val\\_loss mulai meningkat.\n",
        "   * Jika Anda mengutamakan **stabilitas dan kemudahan kontrol**, Matrix Factorization tetap layak digunakan, meskipun performanya lebih rendah secara metrik."
      ],
      "metadata": {
        "id": "pn0bB2YZ5jJA"
      }
    }
  ]
}